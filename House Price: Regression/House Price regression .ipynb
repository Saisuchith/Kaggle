{
 "cells": [
  {
   "cell_type": "markdown",
   "metadata": {},
   "source": [
    "# HOUSE PRICE REGRESSION\n",
    "\n",
    "In this competition we have to predict the sale price of the each home. We are given 79 explanatory variables describing (almost) every aspect of residential homes in Ames, Iowa."
   ]
  },
  {
   "cell_type": "code",
   "execution_count": 1,
   "metadata": {
    "_cell_guid": "9125be6a-4099-4dd3-8852-7937dc15877e",
    "_uuid": "0f8c7a2abfbfb2e349d1d9659827efb9d3bf457a"
   },
   "outputs": [],
   "source": [
    "# This Python 3 environment comes with many helpful analytics libraries installed\n",
    "# For example, here's several helpful packages to load in \n",
    "\n",
    "import numpy as np # linear algebra\n",
    "import pandas as pd # data processing, CSV file I/O (e.g. pd.read_csv)\n",
    "import seaborn as sns\n",
    "import matplotlib.pyplot as plt\n",
    "import math\n",
    "\n",
    "# Importing the other libraries\n",
    "from sklearn.model_selection import train_test_split,GridSearchCV,KFold\n",
    "from sklearn.preprocessing import LabelEncoder\n",
    "from scipy.stats import skew,norm\n",
    "from scipy.special import boxcox1p,inv_boxcox1p\n",
    "\n",
    "from sklearn.linear_model import LinearRegression,Lasso,Ridge,ElasticNet\n",
    "from sklearn.ensemble import RandomForestRegressor,AdaBoostRegressor\n",
    "from sklearn.kernel_ridge import KernelRidge\n",
    "from xgboost import XGBRegressor"
   ]
  },
  {
   "cell_type": "code",
   "execution_count": 2,
   "metadata": {
    "_cell_guid": "5d2af5cb-5f2c-49e8-aa5d-86790689982b",
    "_uuid": "74fab8cd0da98913669333ccd2a8ce5ad9281c31"
   },
   "outputs": [
    {
     "name": "stdout",
     "output_type": "stream",
     "text": [
      "Training shape : (1460,81)\n",
      "Test shape : (1459,80)\n"
     ]
    }
   ],
   "source": [
    "train=pd.read_csv(\"train.csv\")\n",
    "test=pd.read_csv(\"test.csv\")\n",
    "\n",
    "print(\"Training shape : (%d,%d)\"%train.shape)\n",
    "print(\"Test shape : (%d,%d)\"%test.shape)"
   ]
  },
  {
   "cell_type": "code",
   "execution_count": 3,
   "metadata": {
    "_cell_guid": "b386b24a-8a25-4dd7-9a76-6dba6c8562db",
    "_uuid": "90525ae3e1bd49d6005580339b4f4220113eea79",
    "scrolled": false
   },
   "outputs": [
    {
     "data": {
      "text/plain": [
       "Index(['Id', 'MSSubClass', 'MSZoning', 'LotFrontage', 'LotArea', 'Street',\n",
       "       'Alley', 'LotShape', 'LandContour', 'Utilities', 'LotConfig',\n",
       "       'LandSlope', 'Neighborhood', 'Condition1', 'Condition2', 'BldgType',\n",
       "       'HouseStyle', 'OverallQual', 'OverallCond', 'YearBuilt', 'YearRemodAdd',\n",
       "       'RoofStyle', 'RoofMatl', 'Exterior1st', 'Exterior2nd', 'MasVnrType',\n",
       "       'MasVnrArea', 'ExterQual', 'ExterCond', 'Foundation', 'BsmtQual',\n",
       "       'BsmtCond', 'BsmtExposure', 'BsmtFinType1', 'BsmtFinSF1',\n",
       "       'BsmtFinType2', 'BsmtFinSF2', 'BsmtUnfSF', 'TotalBsmtSF', 'Heating',\n",
       "       'HeatingQC', 'CentralAir', 'Electrical', '1stFlrSF', '2ndFlrSF',\n",
       "       'LowQualFinSF', 'GrLivArea', 'BsmtFullBath', 'BsmtHalfBath', 'FullBath',\n",
       "       'HalfBath', 'BedroomAbvGr', 'KitchenAbvGr', 'KitchenQual',\n",
       "       'TotRmsAbvGrd', 'Functional', 'Fireplaces', 'FireplaceQu', 'GarageType',\n",
       "       'GarageYrBlt', 'GarageFinish', 'GarageCars', 'GarageArea', 'GarageQual',\n",
       "       'GarageCond', 'PavedDrive', 'WoodDeckSF', 'OpenPorchSF',\n",
       "       'EnclosedPorch', '3SsnPorch', 'ScreenPorch', 'PoolArea', 'PoolQC',\n",
       "       'Fence', 'MiscFeature', 'MiscVal', 'MoSold', 'YrSold', 'SaleType',\n",
       "       'SaleCondition', 'SalePrice'],\n",
       "      dtype='object')"
      ]
     },
     "execution_count": 3,
     "metadata": {},
     "output_type": "execute_result"
    }
   ],
   "source": [
    "train.columns"
   ]
  },
  {
   "cell_type": "code",
   "execution_count": 4,
   "metadata": {
    "_cell_guid": "271c264e-365a-4ee9-957c-f194e34e1583",
    "_uuid": "98aba131b7750a990838c9b4daf1359867b58075"
   },
   "outputs": [
    {
     "data": {
      "text/html": [
       "<div>\n",
       "<style scoped>\n",
       "    .dataframe tbody tr th:only-of-type {\n",
       "        vertical-align: middle;\n",
       "    }\n",
       "\n",
       "    .dataframe tbody tr th {\n",
       "        vertical-align: top;\n",
       "    }\n",
       "\n",
       "    .dataframe thead th {\n",
       "        text-align: right;\n",
       "    }\n",
       "</style>\n",
       "<table border=\"1\" class=\"dataframe\">\n",
       "  <thead>\n",
       "    <tr style=\"text-align: right;\">\n",
       "      <th></th>\n",
       "      <th>Id</th>\n",
       "      <th>MSSubClass</th>\n",
       "      <th>MSZoning</th>\n",
       "      <th>LotFrontage</th>\n",
       "      <th>LotArea</th>\n",
       "      <th>Street</th>\n",
       "      <th>Alley</th>\n",
       "      <th>LotShape</th>\n",
       "      <th>LandContour</th>\n",
       "      <th>Utilities</th>\n",
       "      <th>...</th>\n",
       "      <th>PoolArea</th>\n",
       "      <th>PoolQC</th>\n",
       "      <th>Fence</th>\n",
       "      <th>MiscFeature</th>\n",
       "      <th>MiscVal</th>\n",
       "      <th>MoSold</th>\n",
       "      <th>YrSold</th>\n",
       "      <th>SaleType</th>\n",
       "      <th>SaleCondition</th>\n",
       "      <th>SalePrice</th>\n",
       "    </tr>\n",
       "  </thead>\n",
       "  <tbody>\n",
       "    <tr>\n",
       "      <th>0</th>\n",
       "      <td>1</td>\n",
       "      <td>60</td>\n",
       "      <td>RL</td>\n",
       "      <td>65.0</td>\n",
       "      <td>8450</td>\n",
       "      <td>Pave</td>\n",
       "      <td>NaN</td>\n",
       "      <td>Reg</td>\n",
       "      <td>Lvl</td>\n",
       "      <td>AllPub</td>\n",
       "      <td>...</td>\n",
       "      <td>0</td>\n",
       "      <td>NaN</td>\n",
       "      <td>NaN</td>\n",
       "      <td>NaN</td>\n",
       "      <td>0</td>\n",
       "      <td>2</td>\n",
       "      <td>2008</td>\n",
       "      <td>WD</td>\n",
       "      <td>Normal</td>\n",
       "      <td>208500</td>\n",
       "    </tr>\n",
       "    <tr>\n",
       "      <th>1</th>\n",
       "      <td>2</td>\n",
       "      <td>20</td>\n",
       "      <td>RL</td>\n",
       "      <td>80.0</td>\n",
       "      <td>9600</td>\n",
       "      <td>Pave</td>\n",
       "      <td>NaN</td>\n",
       "      <td>Reg</td>\n",
       "      <td>Lvl</td>\n",
       "      <td>AllPub</td>\n",
       "      <td>...</td>\n",
       "      <td>0</td>\n",
       "      <td>NaN</td>\n",
       "      <td>NaN</td>\n",
       "      <td>NaN</td>\n",
       "      <td>0</td>\n",
       "      <td>5</td>\n",
       "      <td>2007</td>\n",
       "      <td>WD</td>\n",
       "      <td>Normal</td>\n",
       "      <td>181500</td>\n",
       "    </tr>\n",
       "    <tr>\n",
       "      <th>2</th>\n",
       "      <td>3</td>\n",
       "      <td>60</td>\n",
       "      <td>RL</td>\n",
       "      <td>68.0</td>\n",
       "      <td>11250</td>\n",
       "      <td>Pave</td>\n",
       "      <td>NaN</td>\n",
       "      <td>IR1</td>\n",
       "      <td>Lvl</td>\n",
       "      <td>AllPub</td>\n",
       "      <td>...</td>\n",
       "      <td>0</td>\n",
       "      <td>NaN</td>\n",
       "      <td>NaN</td>\n",
       "      <td>NaN</td>\n",
       "      <td>0</td>\n",
       "      <td>9</td>\n",
       "      <td>2008</td>\n",
       "      <td>WD</td>\n",
       "      <td>Normal</td>\n",
       "      <td>223500</td>\n",
       "    </tr>\n",
       "    <tr>\n",
       "      <th>3</th>\n",
       "      <td>4</td>\n",
       "      <td>70</td>\n",
       "      <td>RL</td>\n",
       "      <td>60.0</td>\n",
       "      <td>9550</td>\n",
       "      <td>Pave</td>\n",
       "      <td>NaN</td>\n",
       "      <td>IR1</td>\n",
       "      <td>Lvl</td>\n",
       "      <td>AllPub</td>\n",
       "      <td>...</td>\n",
       "      <td>0</td>\n",
       "      <td>NaN</td>\n",
       "      <td>NaN</td>\n",
       "      <td>NaN</td>\n",
       "      <td>0</td>\n",
       "      <td>2</td>\n",
       "      <td>2006</td>\n",
       "      <td>WD</td>\n",
       "      <td>Abnorml</td>\n",
       "      <td>140000</td>\n",
       "    </tr>\n",
       "    <tr>\n",
       "      <th>4</th>\n",
       "      <td>5</td>\n",
       "      <td>60</td>\n",
       "      <td>RL</td>\n",
       "      <td>84.0</td>\n",
       "      <td>14260</td>\n",
       "      <td>Pave</td>\n",
       "      <td>NaN</td>\n",
       "      <td>IR1</td>\n",
       "      <td>Lvl</td>\n",
       "      <td>AllPub</td>\n",
       "      <td>...</td>\n",
       "      <td>0</td>\n",
       "      <td>NaN</td>\n",
       "      <td>NaN</td>\n",
       "      <td>NaN</td>\n",
       "      <td>0</td>\n",
       "      <td>12</td>\n",
       "      <td>2008</td>\n",
       "      <td>WD</td>\n",
       "      <td>Normal</td>\n",
       "      <td>250000</td>\n",
       "    </tr>\n",
       "    <tr>\n",
       "      <th>5</th>\n",
       "      <td>6</td>\n",
       "      <td>50</td>\n",
       "      <td>RL</td>\n",
       "      <td>85.0</td>\n",
       "      <td>14115</td>\n",
       "      <td>Pave</td>\n",
       "      <td>NaN</td>\n",
       "      <td>IR1</td>\n",
       "      <td>Lvl</td>\n",
       "      <td>AllPub</td>\n",
       "      <td>...</td>\n",
       "      <td>0</td>\n",
       "      <td>NaN</td>\n",
       "      <td>MnPrv</td>\n",
       "      <td>Shed</td>\n",
       "      <td>700</td>\n",
       "      <td>10</td>\n",
       "      <td>2009</td>\n",
       "      <td>WD</td>\n",
       "      <td>Normal</td>\n",
       "      <td>143000</td>\n",
       "    </tr>\n",
       "    <tr>\n",
       "      <th>6</th>\n",
       "      <td>7</td>\n",
       "      <td>20</td>\n",
       "      <td>RL</td>\n",
       "      <td>75.0</td>\n",
       "      <td>10084</td>\n",
       "      <td>Pave</td>\n",
       "      <td>NaN</td>\n",
       "      <td>Reg</td>\n",
       "      <td>Lvl</td>\n",
       "      <td>AllPub</td>\n",
       "      <td>...</td>\n",
       "      <td>0</td>\n",
       "      <td>NaN</td>\n",
       "      <td>NaN</td>\n",
       "      <td>NaN</td>\n",
       "      <td>0</td>\n",
       "      <td>8</td>\n",
       "      <td>2007</td>\n",
       "      <td>WD</td>\n",
       "      <td>Normal</td>\n",
       "      <td>307000</td>\n",
       "    </tr>\n",
       "    <tr>\n",
       "      <th>7</th>\n",
       "      <td>8</td>\n",
       "      <td>60</td>\n",
       "      <td>RL</td>\n",
       "      <td>NaN</td>\n",
       "      <td>10382</td>\n",
       "      <td>Pave</td>\n",
       "      <td>NaN</td>\n",
       "      <td>IR1</td>\n",
       "      <td>Lvl</td>\n",
       "      <td>AllPub</td>\n",
       "      <td>...</td>\n",
       "      <td>0</td>\n",
       "      <td>NaN</td>\n",
       "      <td>NaN</td>\n",
       "      <td>Shed</td>\n",
       "      <td>350</td>\n",
       "      <td>11</td>\n",
       "      <td>2009</td>\n",
       "      <td>WD</td>\n",
       "      <td>Normal</td>\n",
       "      <td>200000</td>\n",
       "    </tr>\n",
       "    <tr>\n",
       "      <th>8</th>\n",
       "      <td>9</td>\n",
       "      <td>50</td>\n",
       "      <td>RM</td>\n",
       "      <td>51.0</td>\n",
       "      <td>6120</td>\n",
       "      <td>Pave</td>\n",
       "      <td>NaN</td>\n",
       "      <td>Reg</td>\n",
       "      <td>Lvl</td>\n",
       "      <td>AllPub</td>\n",
       "      <td>...</td>\n",
       "      <td>0</td>\n",
       "      <td>NaN</td>\n",
       "      <td>NaN</td>\n",
       "      <td>NaN</td>\n",
       "      <td>0</td>\n",
       "      <td>4</td>\n",
       "      <td>2008</td>\n",
       "      <td>WD</td>\n",
       "      <td>Abnorml</td>\n",
       "      <td>129900</td>\n",
       "    </tr>\n",
       "    <tr>\n",
       "      <th>9</th>\n",
       "      <td>10</td>\n",
       "      <td>190</td>\n",
       "      <td>RL</td>\n",
       "      <td>50.0</td>\n",
       "      <td>7420</td>\n",
       "      <td>Pave</td>\n",
       "      <td>NaN</td>\n",
       "      <td>Reg</td>\n",
       "      <td>Lvl</td>\n",
       "      <td>AllPub</td>\n",
       "      <td>...</td>\n",
       "      <td>0</td>\n",
       "      <td>NaN</td>\n",
       "      <td>NaN</td>\n",
       "      <td>NaN</td>\n",
       "      <td>0</td>\n",
       "      <td>1</td>\n",
       "      <td>2008</td>\n",
       "      <td>WD</td>\n",
       "      <td>Normal</td>\n",
       "      <td>118000</td>\n",
       "    </tr>\n",
       "  </tbody>\n",
       "</table>\n",
       "<p>10 rows × 81 columns</p>\n",
       "</div>"
      ],
      "text/plain": [
       "   Id  MSSubClass MSZoning  LotFrontage  LotArea Street Alley LotShape  \\\n",
       "0   1          60       RL         65.0     8450   Pave   NaN      Reg   \n",
       "1   2          20       RL         80.0     9600   Pave   NaN      Reg   \n",
       "2   3          60       RL         68.0    11250   Pave   NaN      IR1   \n",
       "3   4          70       RL         60.0     9550   Pave   NaN      IR1   \n",
       "4   5          60       RL         84.0    14260   Pave   NaN      IR1   \n",
       "5   6          50       RL         85.0    14115   Pave   NaN      IR1   \n",
       "6   7          20       RL         75.0    10084   Pave   NaN      Reg   \n",
       "7   8          60       RL          NaN    10382   Pave   NaN      IR1   \n",
       "8   9          50       RM         51.0     6120   Pave   NaN      Reg   \n",
       "9  10         190       RL         50.0     7420   Pave   NaN      Reg   \n",
       "\n",
       "  LandContour Utilities    ...     PoolArea PoolQC  Fence MiscFeature MiscVal  \\\n",
       "0         Lvl    AllPub    ...            0    NaN    NaN         NaN       0   \n",
       "1         Lvl    AllPub    ...            0    NaN    NaN         NaN       0   \n",
       "2         Lvl    AllPub    ...            0    NaN    NaN         NaN       0   \n",
       "3         Lvl    AllPub    ...            0    NaN    NaN         NaN       0   \n",
       "4         Lvl    AllPub    ...            0    NaN    NaN         NaN       0   \n",
       "5         Lvl    AllPub    ...            0    NaN  MnPrv        Shed     700   \n",
       "6         Lvl    AllPub    ...            0    NaN    NaN         NaN       0   \n",
       "7         Lvl    AllPub    ...            0    NaN    NaN        Shed     350   \n",
       "8         Lvl    AllPub    ...            0    NaN    NaN         NaN       0   \n",
       "9         Lvl    AllPub    ...            0    NaN    NaN         NaN       0   \n",
       "\n",
       "  MoSold YrSold  SaleType  SaleCondition  SalePrice  \n",
       "0      2   2008        WD         Normal     208500  \n",
       "1      5   2007        WD         Normal     181500  \n",
       "2      9   2008        WD         Normal     223500  \n",
       "3      2   2006        WD        Abnorml     140000  \n",
       "4     12   2008        WD         Normal     250000  \n",
       "5     10   2009        WD         Normal     143000  \n",
       "6      8   2007        WD         Normal     307000  \n",
       "7     11   2009        WD         Normal     200000  \n",
       "8      4   2008        WD        Abnorml     129900  \n",
       "9      1   2008        WD         Normal     118000  \n",
       "\n",
       "[10 rows x 81 columns]"
      ]
     },
     "execution_count": 4,
     "metadata": {},
     "output_type": "execute_result"
    }
   ],
   "source": [
    "train.head(10)"
   ]
  },
  {
   "cell_type": "code",
   "execution_count": 5,
   "metadata": {
    "_cell_guid": "9f814cae-31a4-4101-ad4e-6dfbe7ba55d4",
    "_uuid": "77028830ae38f95e0d698b087989e782048058f0"
   },
   "outputs": [
    {
     "data": {
      "text/html": [
       "<div>\n",
       "<style scoped>\n",
       "    .dataframe tbody tr th:only-of-type {\n",
       "        vertical-align: middle;\n",
       "    }\n",
       "\n",
       "    .dataframe tbody tr th {\n",
       "        vertical-align: top;\n",
       "    }\n",
       "\n",
       "    .dataframe thead th {\n",
       "        text-align: right;\n",
       "    }\n",
       "</style>\n",
       "<table border=\"1\" class=\"dataframe\">\n",
       "  <thead>\n",
       "    <tr style=\"text-align: right;\">\n",
       "      <th></th>\n",
       "      <th>Id</th>\n",
       "      <th>MSSubClass</th>\n",
       "      <th>MSZoning</th>\n",
       "      <th>LotFrontage</th>\n",
       "      <th>LotArea</th>\n",
       "      <th>Street</th>\n",
       "      <th>Alley</th>\n",
       "      <th>LotShape</th>\n",
       "      <th>LandContour</th>\n",
       "      <th>Utilities</th>\n",
       "      <th>...</th>\n",
       "      <th>ScreenPorch</th>\n",
       "      <th>PoolArea</th>\n",
       "      <th>PoolQC</th>\n",
       "      <th>Fence</th>\n",
       "      <th>MiscFeature</th>\n",
       "      <th>MiscVal</th>\n",
       "      <th>MoSold</th>\n",
       "      <th>YrSold</th>\n",
       "      <th>SaleType</th>\n",
       "      <th>SaleCondition</th>\n",
       "    </tr>\n",
       "  </thead>\n",
       "  <tbody>\n",
       "    <tr>\n",
       "      <th>0</th>\n",
       "      <td>1461</td>\n",
       "      <td>20</td>\n",
       "      <td>RH</td>\n",
       "      <td>80.0</td>\n",
       "      <td>11622</td>\n",
       "      <td>Pave</td>\n",
       "      <td>NaN</td>\n",
       "      <td>Reg</td>\n",
       "      <td>Lvl</td>\n",
       "      <td>AllPub</td>\n",
       "      <td>...</td>\n",
       "      <td>120</td>\n",
       "      <td>0</td>\n",
       "      <td>NaN</td>\n",
       "      <td>MnPrv</td>\n",
       "      <td>NaN</td>\n",
       "      <td>0</td>\n",
       "      <td>6</td>\n",
       "      <td>2010</td>\n",
       "      <td>WD</td>\n",
       "      <td>Normal</td>\n",
       "    </tr>\n",
       "    <tr>\n",
       "      <th>1</th>\n",
       "      <td>1462</td>\n",
       "      <td>20</td>\n",
       "      <td>RL</td>\n",
       "      <td>81.0</td>\n",
       "      <td>14267</td>\n",
       "      <td>Pave</td>\n",
       "      <td>NaN</td>\n",
       "      <td>IR1</td>\n",
       "      <td>Lvl</td>\n",
       "      <td>AllPub</td>\n",
       "      <td>...</td>\n",
       "      <td>0</td>\n",
       "      <td>0</td>\n",
       "      <td>NaN</td>\n",
       "      <td>NaN</td>\n",
       "      <td>Gar2</td>\n",
       "      <td>12500</td>\n",
       "      <td>6</td>\n",
       "      <td>2010</td>\n",
       "      <td>WD</td>\n",
       "      <td>Normal</td>\n",
       "    </tr>\n",
       "    <tr>\n",
       "      <th>2</th>\n",
       "      <td>1463</td>\n",
       "      <td>60</td>\n",
       "      <td>RL</td>\n",
       "      <td>74.0</td>\n",
       "      <td>13830</td>\n",
       "      <td>Pave</td>\n",
       "      <td>NaN</td>\n",
       "      <td>IR1</td>\n",
       "      <td>Lvl</td>\n",
       "      <td>AllPub</td>\n",
       "      <td>...</td>\n",
       "      <td>0</td>\n",
       "      <td>0</td>\n",
       "      <td>NaN</td>\n",
       "      <td>MnPrv</td>\n",
       "      <td>NaN</td>\n",
       "      <td>0</td>\n",
       "      <td>3</td>\n",
       "      <td>2010</td>\n",
       "      <td>WD</td>\n",
       "      <td>Normal</td>\n",
       "    </tr>\n",
       "    <tr>\n",
       "      <th>3</th>\n",
       "      <td>1464</td>\n",
       "      <td>60</td>\n",
       "      <td>RL</td>\n",
       "      <td>78.0</td>\n",
       "      <td>9978</td>\n",
       "      <td>Pave</td>\n",
       "      <td>NaN</td>\n",
       "      <td>IR1</td>\n",
       "      <td>Lvl</td>\n",
       "      <td>AllPub</td>\n",
       "      <td>...</td>\n",
       "      <td>0</td>\n",
       "      <td>0</td>\n",
       "      <td>NaN</td>\n",
       "      <td>NaN</td>\n",
       "      <td>NaN</td>\n",
       "      <td>0</td>\n",
       "      <td>6</td>\n",
       "      <td>2010</td>\n",
       "      <td>WD</td>\n",
       "      <td>Normal</td>\n",
       "    </tr>\n",
       "    <tr>\n",
       "      <th>4</th>\n",
       "      <td>1465</td>\n",
       "      <td>120</td>\n",
       "      <td>RL</td>\n",
       "      <td>43.0</td>\n",
       "      <td>5005</td>\n",
       "      <td>Pave</td>\n",
       "      <td>NaN</td>\n",
       "      <td>IR1</td>\n",
       "      <td>HLS</td>\n",
       "      <td>AllPub</td>\n",
       "      <td>...</td>\n",
       "      <td>144</td>\n",
       "      <td>0</td>\n",
       "      <td>NaN</td>\n",
       "      <td>NaN</td>\n",
       "      <td>NaN</td>\n",
       "      <td>0</td>\n",
       "      <td>1</td>\n",
       "      <td>2010</td>\n",
       "      <td>WD</td>\n",
       "      <td>Normal</td>\n",
       "    </tr>\n",
       "    <tr>\n",
       "      <th>5</th>\n",
       "      <td>1466</td>\n",
       "      <td>60</td>\n",
       "      <td>RL</td>\n",
       "      <td>75.0</td>\n",
       "      <td>10000</td>\n",
       "      <td>Pave</td>\n",
       "      <td>NaN</td>\n",
       "      <td>IR1</td>\n",
       "      <td>Lvl</td>\n",
       "      <td>AllPub</td>\n",
       "      <td>...</td>\n",
       "      <td>0</td>\n",
       "      <td>0</td>\n",
       "      <td>NaN</td>\n",
       "      <td>NaN</td>\n",
       "      <td>NaN</td>\n",
       "      <td>0</td>\n",
       "      <td>4</td>\n",
       "      <td>2010</td>\n",
       "      <td>WD</td>\n",
       "      <td>Normal</td>\n",
       "    </tr>\n",
       "    <tr>\n",
       "      <th>6</th>\n",
       "      <td>1467</td>\n",
       "      <td>20</td>\n",
       "      <td>RL</td>\n",
       "      <td>NaN</td>\n",
       "      <td>7980</td>\n",
       "      <td>Pave</td>\n",
       "      <td>NaN</td>\n",
       "      <td>IR1</td>\n",
       "      <td>Lvl</td>\n",
       "      <td>AllPub</td>\n",
       "      <td>...</td>\n",
       "      <td>0</td>\n",
       "      <td>0</td>\n",
       "      <td>NaN</td>\n",
       "      <td>GdPrv</td>\n",
       "      <td>Shed</td>\n",
       "      <td>500</td>\n",
       "      <td>3</td>\n",
       "      <td>2010</td>\n",
       "      <td>WD</td>\n",
       "      <td>Normal</td>\n",
       "    </tr>\n",
       "    <tr>\n",
       "      <th>7</th>\n",
       "      <td>1468</td>\n",
       "      <td>60</td>\n",
       "      <td>RL</td>\n",
       "      <td>63.0</td>\n",
       "      <td>8402</td>\n",
       "      <td>Pave</td>\n",
       "      <td>NaN</td>\n",
       "      <td>IR1</td>\n",
       "      <td>Lvl</td>\n",
       "      <td>AllPub</td>\n",
       "      <td>...</td>\n",
       "      <td>0</td>\n",
       "      <td>0</td>\n",
       "      <td>NaN</td>\n",
       "      <td>NaN</td>\n",
       "      <td>NaN</td>\n",
       "      <td>0</td>\n",
       "      <td>5</td>\n",
       "      <td>2010</td>\n",
       "      <td>WD</td>\n",
       "      <td>Normal</td>\n",
       "    </tr>\n",
       "    <tr>\n",
       "      <th>8</th>\n",
       "      <td>1469</td>\n",
       "      <td>20</td>\n",
       "      <td>RL</td>\n",
       "      <td>85.0</td>\n",
       "      <td>10176</td>\n",
       "      <td>Pave</td>\n",
       "      <td>NaN</td>\n",
       "      <td>Reg</td>\n",
       "      <td>Lvl</td>\n",
       "      <td>AllPub</td>\n",
       "      <td>...</td>\n",
       "      <td>0</td>\n",
       "      <td>0</td>\n",
       "      <td>NaN</td>\n",
       "      <td>NaN</td>\n",
       "      <td>NaN</td>\n",
       "      <td>0</td>\n",
       "      <td>2</td>\n",
       "      <td>2010</td>\n",
       "      <td>WD</td>\n",
       "      <td>Normal</td>\n",
       "    </tr>\n",
       "    <tr>\n",
       "      <th>9</th>\n",
       "      <td>1470</td>\n",
       "      <td>20</td>\n",
       "      <td>RL</td>\n",
       "      <td>70.0</td>\n",
       "      <td>8400</td>\n",
       "      <td>Pave</td>\n",
       "      <td>NaN</td>\n",
       "      <td>Reg</td>\n",
       "      <td>Lvl</td>\n",
       "      <td>AllPub</td>\n",
       "      <td>...</td>\n",
       "      <td>0</td>\n",
       "      <td>0</td>\n",
       "      <td>NaN</td>\n",
       "      <td>MnPrv</td>\n",
       "      <td>NaN</td>\n",
       "      <td>0</td>\n",
       "      <td>4</td>\n",
       "      <td>2010</td>\n",
       "      <td>WD</td>\n",
       "      <td>Normal</td>\n",
       "    </tr>\n",
       "  </tbody>\n",
       "</table>\n",
       "<p>10 rows × 80 columns</p>\n",
       "</div>"
      ],
      "text/plain": [
       "     Id  MSSubClass MSZoning  LotFrontage  LotArea Street Alley LotShape  \\\n",
       "0  1461          20       RH         80.0    11622   Pave   NaN      Reg   \n",
       "1  1462          20       RL         81.0    14267   Pave   NaN      IR1   \n",
       "2  1463          60       RL         74.0    13830   Pave   NaN      IR1   \n",
       "3  1464          60       RL         78.0     9978   Pave   NaN      IR1   \n",
       "4  1465         120       RL         43.0     5005   Pave   NaN      IR1   \n",
       "5  1466          60       RL         75.0    10000   Pave   NaN      IR1   \n",
       "6  1467          20       RL          NaN     7980   Pave   NaN      IR1   \n",
       "7  1468          60       RL         63.0     8402   Pave   NaN      IR1   \n",
       "8  1469          20       RL         85.0    10176   Pave   NaN      Reg   \n",
       "9  1470          20       RL         70.0     8400   Pave   NaN      Reg   \n",
       "\n",
       "  LandContour Utilities      ...       ScreenPorch PoolArea PoolQC  Fence  \\\n",
       "0         Lvl    AllPub      ...               120        0    NaN  MnPrv   \n",
       "1         Lvl    AllPub      ...                 0        0    NaN    NaN   \n",
       "2         Lvl    AllPub      ...                 0        0    NaN  MnPrv   \n",
       "3         Lvl    AllPub      ...                 0        0    NaN    NaN   \n",
       "4         HLS    AllPub      ...               144        0    NaN    NaN   \n",
       "5         Lvl    AllPub      ...                 0        0    NaN    NaN   \n",
       "6         Lvl    AllPub      ...                 0        0    NaN  GdPrv   \n",
       "7         Lvl    AllPub      ...                 0        0    NaN    NaN   \n",
       "8         Lvl    AllPub      ...                 0        0    NaN    NaN   \n",
       "9         Lvl    AllPub      ...                 0        0    NaN  MnPrv   \n",
       "\n",
       "  MiscFeature MiscVal MoSold  YrSold  SaleType  SaleCondition  \n",
       "0         NaN       0      6    2010        WD         Normal  \n",
       "1        Gar2   12500      6    2010        WD         Normal  \n",
       "2         NaN       0      3    2010        WD         Normal  \n",
       "3         NaN       0      6    2010        WD         Normal  \n",
       "4         NaN       0      1    2010        WD         Normal  \n",
       "5         NaN       0      4    2010        WD         Normal  \n",
       "6        Shed     500      3    2010        WD         Normal  \n",
       "7         NaN       0      5    2010        WD         Normal  \n",
       "8         NaN       0      2    2010        WD         Normal  \n",
       "9         NaN       0      4    2010        WD         Normal  \n",
       "\n",
       "[10 rows x 80 columns]"
      ]
     },
     "execution_count": 5,
     "metadata": {},
     "output_type": "execute_result"
    }
   ],
   "source": [
    "test.head(10)"
   ]
  },
  {
   "cell_type": "code",
   "execution_count": 6,
   "metadata": {
    "_cell_guid": "1107f508-a55f-4542-a977-10f5a6c7ac35",
    "_uuid": "ff1d9734ef99ee646e456b4716371b829aaa0a43"
   },
   "outputs": [],
   "source": [
    "trainid=train['Id']\n",
    "testid=test['Id']"
   ]
  },
  {
   "cell_type": "markdown",
   "metadata": {
    "_cell_guid": "c6d518ee-530a-4113-8c62-e0f7822937bb",
    "_uuid": "d676c87b6feeadb06535bcfc516b37a30afbeb66"
   },
   "source": [
    "We have to Predict the Value of Sale Price. \n",
    " In order to understand our data, we can look at each variable and try to understand their meaning and relevance to this problem.\n",
    " \n",
    " Variable - Variable name.\n",
    "Type - Identification of the variables' type. There are two possible values for this field: 'numerical' or 'categorical'. By 'numerical' we mean variables for which the values are numbers, and by 'categorical' we mean variables for which the values are categories.\n",
    "\n",
    "At Starting Level We will find the Correlation between the varaibles and and Sale Price(Y)\n",
    "These are steps we are going to follow:\n",
    "\n",
    "1.Correlation matrix     \n",
    "\n",
    "2.'SalePrice' correlation matrix \n",
    "\n",
    "3.Scatter plots between the most correlated variables \n"
   ]
  },
  {
   "cell_type": "code",
   "execution_count": 7,
   "metadata": {
    "_cell_guid": "17786215-a3cb-4887-83f9-1a34367e6146",
    "_uuid": "11ad6c49e84d2b0dc6bf37ffe185516c3524ba50"
   },
   "outputs": [
    {
     "data": {
      "text/html": [
       "<div>\n",
       "<style scoped>\n",
       "    .dataframe tbody tr th:only-of-type {\n",
       "        vertical-align: middle;\n",
       "    }\n",
       "\n",
       "    .dataframe tbody tr th {\n",
       "        vertical-align: top;\n",
       "    }\n",
       "\n",
       "    .dataframe thead th {\n",
       "        text-align: right;\n",
       "    }\n",
       "</style>\n",
       "<table border=\"1\" class=\"dataframe\">\n",
       "  <thead>\n",
       "    <tr style=\"text-align: right;\">\n",
       "      <th></th>\n",
       "      <th>Id</th>\n",
       "      <th>MSSubClass</th>\n",
       "      <th>LotFrontage</th>\n",
       "      <th>LotArea</th>\n",
       "      <th>OverallQual</th>\n",
       "      <th>OverallCond</th>\n",
       "      <th>YearBuilt</th>\n",
       "      <th>YearRemodAdd</th>\n",
       "      <th>MasVnrArea</th>\n",
       "      <th>BsmtFinSF1</th>\n",
       "      <th>...</th>\n",
       "      <th>WoodDeckSF</th>\n",
       "      <th>OpenPorchSF</th>\n",
       "      <th>EnclosedPorch</th>\n",
       "      <th>3SsnPorch</th>\n",
       "      <th>ScreenPorch</th>\n",
       "      <th>PoolArea</th>\n",
       "      <th>MiscVal</th>\n",
       "      <th>MoSold</th>\n",
       "      <th>YrSold</th>\n",
       "      <th>SalePrice</th>\n",
       "    </tr>\n",
       "  </thead>\n",
       "  <tbody>\n",
       "    <tr>\n",
       "      <th>Id</th>\n",
       "      <td>1.000000</td>\n",
       "      <td>0.011156</td>\n",
       "      <td>-0.010601</td>\n",
       "      <td>-0.033226</td>\n",
       "      <td>-0.028365</td>\n",
       "      <td>0.012609</td>\n",
       "      <td>-0.012713</td>\n",
       "      <td>-0.021998</td>\n",
       "      <td>-0.050298</td>\n",
       "      <td>-0.005024</td>\n",
       "      <td>...</td>\n",
       "      <td>-0.029643</td>\n",
       "      <td>-0.000477</td>\n",
       "      <td>0.002889</td>\n",
       "      <td>-0.046635</td>\n",
       "      <td>0.001330</td>\n",
       "      <td>0.057044</td>\n",
       "      <td>-0.006242</td>\n",
       "      <td>0.021172</td>\n",
       "      <td>0.000712</td>\n",
       "      <td>-0.021917</td>\n",
       "    </tr>\n",
       "    <tr>\n",
       "      <th>MSSubClass</th>\n",
       "      <td>0.011156</td>\n",
       "      <td>1.000000</td>\n",
       "      <td>-0.386347</td>\n",
       "      <td>-0.139781</td>\n",
       "      <td>0.032628</td>\n",
       "      <td>-0.059316</td>\n",
       "      <td>0.027850</td>\n",
       "      <td>0.040581</td>\n",
       "      <td>0.022936</td>\n",
       "      <td>-0.069836</td>\n",
       "      <td>...</td>\n",
       "      <td>-0.012579</td>\n",
       "      <td>-0.006100</td>\n",
       "      <td>-0.012037</td>\n",
       "      <td>-0.043825</td>\n",
       "      <td>-0.026030</td>\n",
       "      <td>0.008283</td>\n",
       "      <td>-0.007683</td>\n",
       "      <td>-0.013585</td>\n",
       "      <td>-0.021407</td>\n",
       "      <td>-0.084284</td>\n",
       "    </tr>\n",
       "    <tr>\n",
       "      <th>LotFrontage</th>\n",
       "      <td>-0.010601</td>\n",
       "      <td>-0.386347</td>\n",
       "      <td>1.000000</td>\n",
       "      <td>0.426095</td>\n",
       "      <td>0.251646</td>\n",
       "      <td>-0.059213</td>\n",
       "      <td>0.123349</td>\n",
       "      <td>0.088866</td>\n",
       "      <td>0.193458</td>\n",
       "      <td>0.233633</td>\n",
       "      <td>...</td>\n",
       "      <td>0.088521</td>\n",
       "      <td>0.151972</td>\n",
       "      <td>0.010700</td>\n",
       "      <td>0.070029</td>\n",
       "      <td>0.041383</td>\n",
       "      <td>0.206167</td>\n",
       "      <td>0.003368</td>\n",
       "      <td>0.011200</td>\n",
       "      <td>0.007450</td>\n",
       "      <td>0.351799</td>\n",
       "    </tr>\n",
       "    <tr>\n",
       "      <th>LotArea</th>\n",
       "      <td>-0.033226</td>\n",
       "      <td>-0.139781</td>\n",
       "      <td>0.426095</td>\n",
       "      <td>1.000000</td>\n",
       "      <td>0.105806</td>\n",
       "      <td>-0.005636</td>\n",
       "      <td>0.014228</td>\n",
       "      <td>0.013788</td>\n",
       "      <td>0.104160</td>\n",
       "      <td>0.214103</td>\n",
       "      <td>...</td>\n",
       "      <td>0.171698</td>\n",
       "      <td>0.084774</td>\n",
       "      <td>-0.018340</td>\n",
       "      <td>0.020423</td>\n",
       "      <td>0.043160</td>\n",
       "      <td>0.077672</td>\n",
       "      <td>0.038068</td>\n",
       "      <td>0.001205</td>\n",
       "      <td>-0.014261</td>\n",
       "      <td>0.263843</td>\n",
       "    </tr>\n",
       "    <tr>\n",
       "      <th>OverallQual</th>\n",
       "      <td>-0.028365</td>\n",
       "      <td>0.032628</td>\n",
       "      <td>0.251646</td>\n",
       "      <td>0.105806</td>\n",
       "      <td>1.000000</td>\n",
       "      <td>-0.091932</td>\n",
       "      <td>0.572323</td>\n",
       "      <td>0.550684</td>\n",
       "      <td>0.411876</td>\n",
       "      <td>0.239666</td>\n",
       "      <td>...</td>\n",
       "      <td>0.238923</td>\n",
       "      <td>0.308819</td>\n",
       "      <td>-0.113937</td>\n",
       "      <td>0.030371</td>\n",
       "      <td>0.064886</td>\n",
       "      <td>0.065166</td>\n",
       "      <td>-0.031406</td>\n",
       "      <td>0.070815</td>\n",
       "      <td>-0.027347</td>\n",
       "      <td>0.790982</td>\n",
       "    </tr>\n",
       "    <tr>\n",
       "      <th>OverallCond</th>\n",
       "      <td>0.012609</td>\n",
       "      <td>-0.059316</td>\n",
       "      <td>-0.059213</td>\n",
       "      <td>-0.005636</td>\n",
       "      <td>-0.091932</td>\n",
       "      <td>1.000000</td>\n",
       "      <td>-0.375983</td>\n",
       "      <td>0.073741</td>\n",
       "      <td>-0.128101</td>\n",
       "      <td>-0.046231</td>\n",
       "      <td>...</td>\n",
       "      <td>-0.003334</td>\n",
       "      <td>-0.032589</td>\n",
       "      <td>0.070356</td>\n",
       "      <td>0.025504</td>\n",
       "      <td>0.054811</td>\n",
       "      <td>-0.001985</td>\n",
       "      <td>0.068777</td>\n",
       "      <td>-0.003511</td>\n",
       "      <td>0.043950</td>\n",
       "      <td>-0.077856</td>\n",
       "    </tr>\n",
       "    <tr>\n",
       "      <th>YearBuilt</th>\n",
       "      <td>-0.012713</td>\n",
       "      <td>0.027850</td>\n",
       "      <td>0.123349</td>\n",
       "      <td>0.014228</td>\n",
       "      <td>0.572323</td>\n",
       "      <td>-0.375983</td>\n",
       "      <td>1.000000</td>\n",
       "      <td>0.592855</td>\n",
       "      <td>0.315707</td>\n",
       "      <td>0.249503</td>\n",
       "      <td>...</td>\n",
       "      <td>0.224880</td>\n",
       "      <td>0.188686</td>\n",
       "      <td>-0.387268</td>\n",
       "      <td>0.031355</td>\n",
       "      <td>-0.050364</td>\n",
       "      <td>0.004950</td>\n",
       "      <td>-0.034383</td>\n",
       "      <td>0.012398</td>\n",
       "      <td>-0.013618</td>\n",
       "      <td>0.522897</td>\n",
       "    </tr>\n",
       "    <tr>\n",
       "      <th>YearRemodAdd</th>\n",
       "      <td>-0.021998</td>\n",
       "      <td>0.040581</td>\n",
       "      <td>0.088866</td>\n",
       "      <td>0.013788</td>\n",
       "      <td>0.550684</td>\n",
       "      <td>0.073741</td>\n",
       "      <td>0.592855</td>\n",
       "      <td>1.000000</td>\n",
       "      <td>0.179618</td>\n",
       "      <td>0.128451</td>\n",
       "      <td>...</td>\n",
       "      <td>0.205726</td>\n",
       "      <td>0.226298</td>\n",
       "      <td>-0.193919</td>\n",
       "      <td>0.045286</td>\n",
       "      <td>-0.038740</td>\n",
       "      <td>0.005829</td>\n",
       "      <td>-0.010286</td>\n",
       "      <td>0.021490</td>\n",
       "      <td>0.035743</td>\n",
       "      <td>0.507101</td>\n",
       "    </tr>\n",
       "    <tr>\n",
       "      <th>MasVnrArea</th>\n",
       "      <td>-0.050298</td>\n",
       "      <td>0.022936</td>\n",
       "      <td>0.193458</td>\n",
       "      <td>0.104160</td>\n",
       "      <td>0.411876</td>\n",
       "      <td>-0.128101</td>\n",
       "      <td>0.315707</td>\n",
       "      <td>0.179618</td>\n",
       "      <td>1.000000</td>\n",
       "      <td>0.264736</td>\n",
       "      <td>...</td>\n",
       "      <td>0.159718</td>\n",
       "      <td>0.125703</td>\n",
       "      <td>-0.110204</td>\n",
       "      <td>0.018796</td>\n",
       "      <td>0.061466</td>\n",
       "      <td>0.011723</td>\n",
       "      <td>-0.029815</td>\n",
       "      <td>-0.005965</td>\n",
       "      <td>-0.008201</td>\n",
       "      <td>0.477493</td>\n",
       "    </tr>\n",
       "    <tr>\n",
       "      <th>BsmtFinSF1</th>\n",
       "      <td>-0.005024</td>\n",
       "      <td>-0.069836</td>\n",
       "      <td>0.233633</td>\n",
       "      <td>0.214103</td>\n",
       "      <td>0.239666</td>\n",
       "      <td>-0.046231</td>\n",
       "      <td>0.249503</td>\n",
       "      <td>0.128451</td>\n",
       "      <td>0.264736</td>\n",
       "      <td>1.000000</td>\n",
       "      <td>...</td>\n",
       "      <td>0.204306</td>\n",
       "      <td>0.111761</td>\n",
       "      <td>-0.102303</td>\n",
       "      <td>0.026451</td>\n",
       "      <td>0.062021</td>\n",
       "      <td>0.140491</td>\n",
       "      <td>0.003571</td>\n",
       "      <td>-0.015727</td>\n",
       "      <td>0.014359</td>\n",
       "      <td>0.386420</td>\n",
       "    </tr>\n",
       "  </tbody>\n",
       "</table>\n",
       "<p>10 rows × 38 columns</p>\n",
       "</div>"
      ],
      "text/plain": [
       "                    Id  MSSubClass  LotFrontage   LotArea  OverallQual  \\\n",
       "Id            1.000000    0.011156    -0.010601 -0.033226    -0.028365   \n",
       "MSSubClass    0.011156    1.000000    -0.386347 -0.139781     0.032628   \n",
       "LotFrontage  -0.010601   -0.386347     1.000000  0.426095     0.251646   \n",
       "LotArea      -0.033226   -0.139781     0.426095  1.000000     0.105806   \n",
       "OverallQual  -0.028365    0.032628     0.251646  0.105806     1.000000   \n",
       "OverallCond   0.012609   -0.059316    -0.059213 -0.005636    -0.091932   \n",
       "YearBuilt    -0.012713    0.027850     0.123349  0.014228     0.572323   \n",
       "YearRemodAdd -0.021998    0.040581     0.088866  0.013788     0.550684   \n",
       "MasVnrArea   -0.050298    0.022936     0.193458  0.104160     0.411876   \n",
       "BsmtFinSF1   -0.005024   -0.069836     0.233633  0.214103     0.239666   \n",
       "\n",
       "              OverallCond  YearBuilt  YearRemodAdd  MasVnrArea  BsmtFinSF1  \\\n",
       "Id               0.012609  -0.012713     -0.021998   -0.050298   -0.005024   \n",
       "MSSubClass      -0.059316   0.027850      0.040581    0.022936   -0.069836   \n",
       "LotFrontage     -0.059213   0.123349      0.088866    0.193458    0.233633   \n",
       "LotArea         -0.005636   0.014228      0.013788    0.104160    0.214103   \n",
       "OverallQual     -0.091932   0.572323      0.550684    0.411876    0.239666   \n",
       "OverallCond      1.000000  -0.375983      0.073741   -0.128101   -0.046231   \n",
       "YearBuilt       -0.375983   1.000000      0.592855    0.315707    0.249503   \n",
       "YearRemodAdd     0.073741   0.592855      1.000000    0.179618    0.128451   \n",
       "MasVnrArea      -0.128101   0.315707      0.179618    1.000000    0.264736   \n",
       "BsmtFinSF1      -0.046231   0.249503      0.128451    0.264736    1.000000   \n",
       "\n",
       "                ...      WoodDeckSF  OpenPorchSF  EnclosedPorch  3SsnPorch  \\\n",
       "Id              ...       -0.029643    -0.000477       0.002889  -0.046635   \n",
       "MSSubClass      ...       -0.012579    -0.006100      -0.012037  -0.043825   \n",
       "LotFrontage     ...        0.088521     0.151972       0.010700   0.070029   \n",
       "LotArea         ...        0.171698     0.084774      -0.018340   0.020423   \n",
       "OverallQual     ...        0.238923     0.308819      -0.113937   0.030371   \n",
       "OverallCond     ...       -0.003334    -0.032589       0.070356   0.025504   \n",
       "YearBuilt       ...        0.224880     0.188686      -0.387268   0.031355   \n",
       "YearRemodAdd    ...        0.205726     0.226298      -0.193919   0.045286   \n",
       "MasVnrArea      ...        0.159718     0.125703      -0.110204   0.018796   \n",
       "BsmtFinSF1      ...        0.204306     0.111761      -0.102303   0.026451   \n",
       "\n",
       "              ScreenPorch  PoolArea   MiscVal    MoSold    YrSold  SalePrice  \n",
       "Id               0.001330  0.057044 -0.006242  0.021172  0.000712  -0.021917  \n",
       "MSSubClass      -0.026030  0.008283 -0.007683 -0.013585 -0.021407  -0.084284  \n",
       "LotFrontage      0.041383  0.206167  0.003368  0.011200  0.007450   0.351799  \n",
       "LotArea          0.043160  0.077672  0.038068  0.001205 -0.014261   0.263843  \n",
       "OverallQual      0.064886  0.065166 -0.031406  0.070815 -0.027347   0.790982  \n",
       "OverallCond      0.054811 -0.001985  0.068777 -0.003511  0.043950  -0.077856  \n",
       "YearBuilt       -0.050364  0.004950 -0.034383  0.012398 -0.013618   0.522897  \n",
       "YearRemodAdd    -0.038740  0.005829 -0.010286  0.021490  0.035743   0.507101  \n",
       "MasVnrArea       0.061466  0.011723 -0.029815 -0.005965 -0.008201   0.477493  \n",
       "BsmtFinSF1       0.062021  0.140491  0.003571 -0.015727  0.014359   0.386420  \n",
       "\n",
       "[10 rows x 38 columns]"
      ]
     },
     "execution_count": 7,
     "metadata": {},
     "output_type": "execute_result"
    }
   ],
   "source": [
    "# for finding the correlation matrix\n",
    "corr=train.corr()\n",
    "corr.head(10)"
   ]
  },
  {
   "cell_type": "code",
   "execution_count": 8,
   "metadata": {
    "_cell_guid": "a7e4d31a-fe00-446c-a036-35b46e522198",
    "_uuid": "82ee659eae5c42e06bb25ffa787732c5030554fc"
   },
   "outputs": [
    {
     "data": {
      "text/plain": [
       "SalePrice        1.000000\n",
       "OverallQual      0.790982\n",
       "GrLivArea        0.708624\n",
       "GarageCars       0.640409\n",
       "GarageArea       0.623431\n",
       "TotalBsmtSF      0.613581\n",
       "1stFlrSF         0.605852\n",
       "FullBath         0.560664\n",
       "TotRmsAbvGrd     0.533723\n",
       "YearBuilt        0.522897\n",
       "YearRemodAdd     0.507101\n",
       "GarageYrBlt      0.486362\n",
       "MasVnrArea       0.477493\n",
       "Fireplaces       0.466929\n",
       "BsmtFinSF1       0.386420\n",
       "LotFrontage      0.351799\n",
       "WoodDeckSF       0.324413\n",
       "2ndFlrSF         0.319334\n",
       "OpenPorchSF      0.315856\n",
       "HalfBath         0.284108\n",
       "LotArea          0.263843\n",
       "BsmtFullBath     0.227122\n",
       "BsmtUnfSF        0.214479\n",
       "BedroomAbvGr     0.168213\n",
       "ScreenPorch      0.111447\n",
       "PoolArea         0.092404\n",
       "MoSold           0.046432\n",
       "3SsnPorch        0.044584\n",
       "BsmtFinSF2      -0.011378\n",
       "BsmtHalfBath    -0.016844\n",
       "MiscVal         -0.021190\n",
       "Id              -0.021917\n",
       "LowQualFinSF    -0.025606\n",
       "YrSold          -0.028923\n",
       "OverallCond     -0.077856\n",
       "MSSubClass      -0.084284\n",
       "EnclosedPorch   -0.128578\n",
       "KitchenAbvGr    -0.135907\n",
       "Name: SalePrice, dtype: float64"
      ]
     },
     "execution_count": 8,
     "metadata": {},
     "output_type": "execute_result"
    }
   ],
   "source": [
    "corr['SalePrice'].sort_values(ascending=False)"
   ]
  },
  {
   "cell_type": "markdown",
   "metadata": {
    "_cell_guid": "2000c2cc-1120-415f-b7de-d27e4831f7a1",
    "_uuid": "ce3d3d75c817f1634dcda031a3f5cf83da09bcbc"
   },
   "source": [
    "  We can easily see that \n",
    "1.  OverallQual  : Overall material and finish quality and it takes Discrete Values\n",
    "2.  GrLivArea :  Above grade (ground) living area square feet and it is a numerical variable,takes Continuous values\n",
    "3. Garage Cars : Size of garage in car capacity , takes discrete values\n",
    "4. Garage Area : Size of garage in square feet , takes Continuous Values\n",
    "5. TotalBsmtSf  :  Total square feet of basement area , Takes Continuous Values \n",
    "6. 1stFrlsf  :  First Floor square feet , Take continuous Values\n",
    "7. Full Bath : Full bathrooms above grade , Takes Discerete Values\n",
    "8. TotRmsAbvGrd : Total rooms above grade (does not include bathrooms) , takes Discrete Values\n",
    "9.  Year Built : Original construction date , Takes Continous Values\n",
    "\n",
    "These Variables are strong correlated with Sale Price ( The threshold correlation was 0.5 )\n"
   ]
  },
  {
   "cell_type": "code",
   "execution_count": 9,
   "metadata": {
    "_cell_guid": "6e470700-f73b-482d-9702-5eb39d3fe0ab",
    "_uuid": "986c118a52d9a125c5510ab2760fc8b3ca3e22e6"
   },
   "outputs": [
    {
     "data": {
      "text/plain": [
       "<matplotlib.axes._subplots.AxesSubplot at 0x7f972648b390>"
      ]
     },
     "execution_count": 9,
     "metadata": {},
     "output_type": "execute_result"
    },
    {
     "data": {
      "image/png": "[encoded data removed]",
      "text/plain": [
       "<matplotlib.figure.Figure at 0x7f972648b710>"
      ]
     },
     "metadata": {},
     "output_type": "display_data"
    }
   ],
   "source": [
    "# correlation Matrix in heat map style\n",
    "a,b=plt.subplots(figsize=(12,9))\n",
    "sns.heatmap(corr,square=True)"
   ]
  },
  {
   "cell_type": "markdown",
   "metadata": {
    "_cell_guid": "9730c72d-aa2e-436d-ac57-f307e973ff6d",
    "_uuid": "13ed950080584970d8146d42450d52c968657933",
    "collapsed": true
   },
   "source": [
    "In the Sale Price Row we can see OverallQual,GrvLivArea and some with have more correlation with Sale Price as we have seen with Values above."
   ]
  },
  {
   "cell_type": "markdown",
   "metadata": {
    "_cell_guid": "18c03801-472e-4939-a370-06c9f2d1ca28",
    "_uuid": "717107c7ad02946e9a6a24b0a810bd90a24c4052",
    "collapsed": true
   },
   "source": [
    "# Scatter Plots\n",
    "\n",
    "## Numerical Variables"
   ]
  },
  {
   "cell_type": "code",
   "execution_count": 10,
   "metadata": {
    "_cell_guid": "382530f1-6332-4277-b33b-46b2474edaad",
    "_uuid": "9f8b8884f4c78cbb950e5e01ab594417ddc72245",
    "scrolled": true
   },
   "outputs": [
    {
     "data": {
      "image/png": "[encoded data removed]",
      "text/plain": [
       "<matplotlib.figure.Figure at 0x7f971c778470>"
      ]
     },
     "metadata": {},
     "output_type": "display_data"
    }
   ],
   "source": [
    "# plt.scatter(train['GrLivArea'],train['SalePrice'])\n",
    "# plt.xlabel(\"GrLivarea\")\n",
    "# plt.ylabel(\"SalePrice\")\n",
    "# plt.show()\n",
    "\n",
    "plt.subplots(figsize=(5,5))\n",
    "sns.regplot(train['GrLivArea'],train['SalePrice'])\n",
    "plt.show()"
   ]
  },
  {
   "cell_type": "code",
   "execution_count": 11,
   "metadata": {
    "_cell_guid": "71640b6b-1920-4690-be4b-e1ed004e24ab",
    "_uuid": "65e5e7877b301d52fade724075e77c3becd751b9"
   },
   "outputs": [
    {
     "data": {
      "image/png": "[encoded data removed]",
      "text/plain": [
       "<matplotlib.figure.Figure at 0x7f971c6bce10>"
      ]
     },
     "metadata": {},
     "output_type": "display_data"
    }
   ],
   "source": [
    "# plt.scatter(train['GarageArea'],train['SalePrice'])\n",
    "# plt.xlabel(\"GarageArea\")\n",
    "# plt.ylabel(\"SalePrice\")\n",
    "plt.subplots(figsize=(5,5))\n",
    "sns.regplot(train['GarageArea'],train['SalePrice'])\n",
    "plt.show()"
   ]
  },
  {
   "cell_type": "code",
   "execution_count": 12,
   "metadata": {
    "_cell_guid": "dc4a1a61-b860-4607-9a08-62794f543891",
    "_uuid": "745f598597674ddb5387f5d5991f6e8e01fa7ca6"
   },
   "outputs": [
    {
     "data": {
      "image/png": "[encoded data removed]",
      "text/plain": [
       "<matplotlib.figure.Figure at 0x7f971c791860>"
      ]
     },
     "metadata": {},
     "output_type": "display_data"
    }
   ],
   "source": [
    "# plt.scatter(train['TotalBsmtSF'],train['SalePrice'])\n",
    "# plt.xlabel(\"TotalBsmtSF\")\n",
    "# plt.ylabel(\"SalePrice\")\n",
    "\n",
    "plt.subplots(figsize=(5,5))\n",
    "sns.regplot(train['TotalBsmtSF'],train['SalePrice'])\n",
    "plt.show()"
   ]
  },
  {
   "cell_type": "code",
   "execution_count": 13,
   "metadata": {
    "_cell_guid": "676e32df-5801-43e4-bce7-672daee2989e",
    "_uuid": "bd6be58205ec9071d2a3810193d77f00fe603e0a"
   },
   "outputs": [
    {
     "data": {
      "image/png": "[encoded data removed]",
      "text/plain": [
       "<matplotlib.figure.Figure at 0x7f971c69afd0>"
      ]
     },
     "metadata": {},
     "output_type": "display_data"
    }
   ],
   "source": [
    "# plt.scatter(train['YearBuilt'],train['SalePrice'])\n",
    "# plt.xlabel(\"YearBuilt\")\n",
    "# plt.ylabel(\"SalePrice\")\n",
    "\n",
    "plt.subplots(figsize=(5,5))\n",
    "sns.regplot(train['YearBuilt'],train['SalePrice'])\n",
    "plt.show()"
   ]
  },
  {
   "cell_type": "markdown",
   "metadata": {
    "_cell_guid": "cfa7fa1c-951f-46a8-828f-39268c97d98b",
    "_kg_hide-output": true,
    "_uuid": "5ad2fc2777dfe643eefde43666ac0c4402120faa"
   },
   "source": [
    "As We see Clearly in Graph these Variables are really good friends of sale price and also we can see some outliers(Grlivarea)"
   ]
  },
  {
   "cell_type": "markdown",
   "metadata": {},
   "source": [
    "## OUTLIERS\n",
    "\n",
    "From the graphs i concluded something \n",
    "\n",
    "**GrLivArea** : 4 ( all greater than 16.5 values will be removed). In the documentation of the ames dataset the suggestion was to remove all the examples whose grlivarea is greater than 4000\n",
    "\n",
    "**MasVnrArea** : The one with 13.5(nearly) and 0 Mas Vnr area\n",
    "\n",
    "**TotalBsmtSF** : The one with greater than 17.5 total basement squared area\n",
    "\n",
    "**1stFlrSf** : The one with greater than 17 1st floor area\n",
    "\n",
    "**Garage Area** : four with  1200 garage area and less than 12.75 sale price.\n",
    "\n",
    "**LowQualFinalSF** : one with greater than 10 lowqualSf and less than 12.75 sale price\n",
    "\n",
    "**Year Built** : one which has greater than 13.0 sale price and .less than 14.025 year built value\n"
   ]
  },
  {
   "cell_type": "code",
   "execution_count": 14,
   "metadata": {},
   "outputs": [
    {
     "name": "stdout",
     "output_type": "stream",
     "text": [
      "Int64Index([523, 691, 1182, 1298], dtype='int64')\n",
      "Int64Index([581, 1061, 1190, 1298], dtype='int64')\n",
      "Int64Index([185], dtype='int64')\n",
      "Int64Index([332, 496, 523, 1298], dtype='int64')\n"
     ]
    }
   ],
   "source": [
    "print(train.loc[(train['GrLivArea']>4000)].index)\n",
    "print(train.loc[(train['GarageArea']>1200) & (train['SalePrice']<350000)].index)\n",
    "print(train.loc[(train['YearBuilt']<1900) & (train['SalePrice']>400000)].index)\n",
    "print(train.loc[(train['SalePrice']<500000) & (train['TotalBsmtSF']>3000)].index)"
   ]
  },
  {
   "cell_type": "code",
   "execution_count": 15,
   "metadata": {},
   "outputs": [
    {
     "name": "stdout",
     "output_type": "stream",
     "text": [
      "(1460, 81)\n",
      "(1450, 81)\n"
     ]
    }
   ],
   "source": [
    "print(train.shape)\n",
    "train.drop(axis=0,index=[523,691,1182,1298,581,1061,1190,185,332,496],inplace=True)\n",
    "print(train.shape)"
   ]
  },
  {
   "cell_type": "markdown",
   "metadata": {
    "_cell_guid": "ae53f0d9-acbb-48a1-807d-0579900ef45d",
    "_uuid": "d0868363d8f70967651615a553a503a8ad5edcbf"
   },
   "source": [
    "## Categorical Features"
   ]
  },
  {
   "cell_type": "code",
   "execution_count": 16,
   "metadata": {
    "_cell_guid": "24b56531-8e29-49c4-928b-244f51dd65dd",
    "_uuid": "446c234a5c8a708c11d0565598f9e6490cfc8fdd"
   },
   "outputs": [
    {
     "data": {
      "text/plain": [
       "<matplotlib.axes._subplots.AxesSubplot at 0x7f971c5f85c0>"
      ]
     },
     "execution_count": 16,
     "metadata": {},
     "output_type": "execute_result"
    },
    {
     "data": {
      "image/png": "[encoded data removed]",
      "text/plain": [
       "<matplotlib.figure.Figure at 0x7f971c5ff1d0>"
      ]
     },
     "metadata": {},
     "output_type": "display_data"
    }
   ],
   "source": [
    "a,b=plt.subplots(figsize=(7,7))\n",
    "sns.boxplot(train['OverallQual'],train['SalePrice'])"
   ]
  },
  {
   "cell_type": "code",
   "execution_count": 17,
   "metadata": {
    "_cell_guid": "d635dc18-bfda-45cf-b563-431d9bae20cb",
    "_uuid": "d7fa8344da196a8db401ecec3b33a8f1150f6a01"
   },
   "outputs": [
    {
     "data": {
      "text/plain": [
       "<matplotlib.axes._subplots.AxesSubplot at 0x7f971c4fcda0>"
      ]
     },
     "execution_count": 17,
     "metadata": {},
     "output_type": "execute_result"
    },
    {
     "data": {
      "image/png": "[encoded data removed]",
      "text/plain": [
       "<matplotlib.figure.Figure at 0x7f971c5b8748>"
      ]
     },
     "metadata": {},
     "output_type": "display_data"
    }
   ],
   "source": [
    "a,b=plt.subplots(figsize=(7,7))\n",
    "sns.boxplot(train['GarageCars'],train['SalePrice'])"
   ]
  },
  {
   "cell_type": "code",
   "execution_count": 18,
   "metadata": {
    "_cell_guid": "1243034d-32fb-4608-a79f-4647f8eb8ef0",
    "_uuid": "ff0cdce7ba9c740763032d0b8fc268c23857edfb"
   },
   "outputs": [
    {
     "data": {
      "text/plain": [
       "<matplotlib.axes._subplots.AxesSubplot at 0x7f971aa1fb70>"
      ]
     },
     "execution_count": 18,
     "metadata": {},
     "output_type": "execute_result"
    },
    {
     "data": {
      "image/png": "[encoded data removed]",
      "text/plain": [
       "<matplotlib.figure.Figure at 0x7f971aa9a390>"
      ]
     },
     "metadata": {},
     "output_type": "display_data"
    }
   ],
   "source": [
    "a,b=plt.subplots(figsize=(7,7))\n",
    "sns.boxplot(train['FullBath'],train['SalePrice'])"
   ]
  },
  {
   "cell_type": "code",
   "execution_count": 19,
   "metadata": {
    "_cell_guid": "15fcb721-fa91-4a4e-80c1-227a40c3cf91",
    "_uuid": "bc223c57c57288ff309ba8ddc5caecd00b227e28"
   },
   "outputs": [
    {
     "data": {
      "text/plain": [
       "<matplotlib.axes._subplots.AxesSubplot at 0x7f971aaa1898>"
      ]
     },
     "execution_count": 19,
     "metadata": {},
     "output_type": "execute_result"
    },
    {
     "data": {
      "image/png": "[encoded data removed]",
      "text/plain": [
       "<matplotlib.figure.Figure at 0x7f971a9c57b8>"
      ]
     },
     "metadata": {},
     "output_type": "display_data"
    }
   ],
   "source": [
    "a,b=plt.subplots(figsize=(10,10))\n",
    "sns.boxplot(train['YearBuilt'],train['SalePrice'])"
   ]
  },
  {
   "cell_type": "markdown",
   "metadata": {
    "_cell_guid": "6090a205-4dc9-468b-a110-517282c80e0c",
    "_uuid": "d0948d5b1d70f96c8f36319a359c36102874327c"
   },
   "source": [
    "Somethings to Conclude:\n",
    "\n",
    "1. OverallQual', 'GrLivArea' and 'TotalBsmtSF' are strongly correlated with 'SalePrice'. ( We have seen the values)\n",
    "\n",
    "2. 'GarageCars' and 'GarageArea' are also some of the most strongly correlated variables. But these are somewhat related like cars capacity will also indirectly tell garage Area. So we will take only one and we can see that garage Cars has greater correlation coefficient. So we will keep that\n",
    "\n",
    "3. 'TotalBsmtSF' and '1stFloor' also seem to be twin brothers. We can keep 'TotalBsmtSF'. \n",
    "\n",
    "4. TotRmsAbvGrd' and 'GrLivArea' are same again.\n",
    "\n",
    "Now We will plot mega Scatter Plot \n"
   ]
  },
  {
   "cell_type": "code",
   "execution_count": 20,
   "metadata": {
    "_cell_guid": "c48b87ae-8968-4beb-8a1b-9721351efa75",
    "_uuid": "740374d80d8e21d539dec8281f8012a7005f0fd1",
    "scrolled": false
   },
   "outputs": [
    {
     "data": {
      "text/plain": [
       "<seaborn.axisgrid.PairGrid at 0x7f971a32bef0>"
      ]
     },
     "execution_count": 20,
     "metadata": {},
     "output_type": "execute_result"
    },
    {
     "data": {
      "image/png": "[encoded data removed]",
      "text/plain": [
       "<matplotlib.figure.Figure at 0x7f971a32bc88>"
      ]
     },
     "metadata": {},
     "output_type": "display_data"
    }
   ],
   "source": [
    "cols=['SalePrice','OverallQual','GrLivArea','GarageCars','TotalBsmtSF','YearBuilt','FullBath']\n",
    "sns.pairplot(train[cols])"
   ]
  },
  {
   "cell_type": "code",
   "execution_count": 21,
   "metadata": {
    "_cell_guid": "bbefa683-3183-429d-940d-5da2db45f136",
    "_uuid": "d54623a084f12051e1dc78ef91dc05401df18f5b"
   },
   "outputs": [
    {
     "data": {
      "text/plain": [
       "(1450, 80)"
      ]
     },
     "execution_count": 21,
     "metadata": {},
     "output_type": "execute_result"
    }
   ],
   "source": [
    "saleprice=train['SalePrice']\n",
    "Train=train.drop('SalePrice',axis=1)\n",
    "Train.shape"
   ]
  },
  {
   "cell_type": "code",
   "execution_count": 22,
   "metadata": {
    "_cell_guid": "951bbc55-da71-44c9-995c-076c2961e500",
    "_uuid": "4d5ab508d494aece7558d60de18e6e60d52ab778"
   },
   "outputs": [
    {
     "data": {
      "text/html": [
       "<div>\n",
       "<style scoped>\n",
       "    .dataframe tbody tr th:only-of-type {\n",
       "        vertical-align: middle;\n",
       "    }\n",
       "\n",
       "    .dataframe tbody tr th {\n",
       "        vertical-align: top;\n",
       "    }\n",
       "\n",
       "    .dataframe thead th {\n",
       "        text-align: right;\n",
       "    }\n",
       "</style>\n",
       "<table border=\"1\" class=\"dataframe\">\n",
       "  <thead>\n",
       "    <tr style=\"text-align: right;\">\n",
       "      <th></th>\n",
       "      <th>Id</th>\n",
       "      <th>MSSubClass</th>\n",
       "      <th>MSZoning</th>\n",
       "      <th>LotFrontage</th>\n",
       "      <th>LotArea</th>\n",
       "      <th>Street</th>\n",
       "      <th>Alley</th>\n",
       "      <th>LotShape</th>\n",
       "      <th>LandContour</th>\n",
       "      <th>Utilities</th>\n",
       "      <th>...</th>\n",
       "      <th>ScreenPorch</th>\n",
       "      <th>PoolArea</th>\n",
       "      <th>PoolQC</th>\n",
       "      <th>Fence</th>\n",
       "      <th>MiscFeature</th>\n",
       "      <th>MiscVal</th>\n",
       "      <th>MoSold</th>\n",
       "      <th>YrSold</th>\n",
       "      <th>SaleType</th>\n",
       "      <th>SaleCondition</th>\n",
       "    </tr>\n",
       "  </thead>\n",
       "  <tbody>\n",
       "    <tr>\n",
       "      <th>0</th>\n",
       "      <td>1</td>\n",
       "      <td>60</td>\n",
       "      <td>RL</td>\n",
       "      <td>65.0</td>\n",
       "      <td>8450</td>\n",
       "      <td>Pave</td>\n",
       "      <td>NaN</td>\n",
       "      <td>Reg</td>\n",
       "      <td>Lvl</td>\n",
       "      <td>AllPub</td>\n",
       "      <td>...</td>\n",
       "      <td>0</td>\n",
       "      <td>0</td>\n",
       "      <td>NaN</td>\n",
       "      <td>NaN</td>\n",
       "      <td>NaN</td>\n",
       "      <td>0</td>\n",
       "      <td>2</td>\n",
       "      <td>2008</td>\n",
       "      <td>WD</td>\n",
       "      <td>Normal</td>\n",
       "    </tr>\n",
       "    <tr>\n",
       "      <th>1</th>\n",
       "      <td>2</td>\n",
       "      <td>20</td>\n",
       "      <td>RL</td>\n",
       "      <td>80.0</td>\n",
       "      <td>9600</td>\n",
       "      <td>Pave</td>\n",
       "      <td>NaN</td>\n",
       "      <td>Reg</td>\n",
       "      <td>Lvl</td>\n",
       "      <td>AllPub</td>\n",
       "      <td>...</td>\n",
       "      <td>0</td>\n",
       "      <td>0</td>\n",
       "      <td>NaN</td>\n",
       "      <td>NaN</td>\n",
       "      <td>NaN</td>\n",
       "      <td>0</td>\n",
       "      <td>5</td>\n",
       "      <td>2007</td>\n",
       "      <td>WD</td>\n",
       "      <td>Normal</td>\n",
       "    </tr>\n",
       "    <tr>\n",
       "      <th>2</th>\n",
       "      <td>3</td>\n",
       "      <td>60</td>\n",
       "      <td>RL</td>\n",
       "      <td>68.0</td>\n",
       "      <td>11250</td>\n",
       "      <td>Pave</td>\n",
       "      <td>NaN</td>\n",
       "      <td>IR1</td>\n",
       "      <td>Lvl</td>\n",
       "      <td>AllPub</td>\n",
       "      <td>...</td>\n",
       "      <td>0</td>\n",
       "      <td>0</td>\n",
       "      <td>NaN</td>\n",
       "      <td>NaN</td>\n",
       "      <td>NaN</td>\n",
       "      <td>0</td>\n",
       "      <td>9</td>\n",
       "      <td>2008</td>\n",
       "      <td>WD</td>\n",
       "      <td>Normal</td>\n",
       "    </tr>\n",
       "    <tr>\n",
       "      <th>3</th>\n",
       "      <td>4</td>\n",
       "      <td>70</td>\n",
       "      <td>RL</td>\n",
       "      <td>60.0</td>\n",
       "      <td>9550</td>\n",
       "      <td>Pave</td>\n",
       "      <td>NaN</td>\n",
       "      <td>IR1</td>\n",
       "      <td>Lvl</td>\n",
       "      <td>AllPub</td>\n",
       "      <td>...</td>\n",
       "      <td>0</td>\n",
       "      <td>0</td>\n",
       "      <td>NaN</td>\n",
       "      <td>NaN</td>\n",
       "      <td>NaN</td>\n",
       "      <td>0</td>\n",
       "      <td>2</td>\n",
       "      <td>2006</td>\n",
       "      <td>WD</td>\n",
       "      <td>Abnorml</td>\n",
       "    </tr>\n",
       "    <tr>\n",
       "      <th>4</th>\n",
       "      <td>5</td>\n",
       "      <td>60</td>\n",
       "      <td>RL</td>\n",
       "      <td>84.0</td>\n",
       "      <td>14260</td>\n",
       "      <td>Pave</td>\n",
       "      <td>NaN</td>\n",
       "      <td>IR1</td>\n",
       "      <td>Lvl</td>\n",
       "      <td>AllPub</td>\n",
       "      <td>...</td>\n",
       "      <td>0</td>\n",
       "      <td>0</td>\n",
       "      <td>NaN</td>\n",
       "      <td>NaN</td>\n",
       "      <td>NaN</td>\n",
       "      <td>0</td>\n",
       "      <td>12</td>\n",
       "      <td>2008</td>\n",
       "      <td>WD</td>\n",
       "      <td>Normal</td>\n",
       "    </tr>\n",
       "  </tbody>\n",
       "</table>\n",
       "<p>5 rows × 80 columns</p>\n",
       "</div>"
      ],
      "text/plain": [
       "   Id  MSSubClass MSZoning  LotFrontage  LotArea Street Alley LotShape  \\\n",
       "0   1          60       RL         65.0     8450   Pave   NaN      Reg   \n",
       "1   2          20       RL         80.0     9600   Pave   NaN      Reg   \n",
       "2   3          60       RL         68.0    11250   Pave   NaN      IR1   \n",
       "3   4          70       RL         60.0     9550   Pave   NaN      IR1   \n",
       "4   5          60       RL         84.0    14260   Pave   NaN      IR1   \n",
       "\n",
       "  LandContour Utilities      ...       ScreenPorch PoolArea PoolQC Fence  \\\n",
       "0         Lvl    AllPub      ...                 0        0    NaN   NaN   \n",
       "1         Lvl    AllPub      ...                 0        0    NaN   NaN   \n",
       "2         Lvl    AllPub      ...                 0        0    NaN   NaN   \n",
       "3         Lvl    AllPub      ...                 0        0    NaN   NaN   \n",
       "4         Lvl    AllPub      ...                 0        0    NaN   NaN   \n",
       "\n",
       "  MiscFeature MiscVal MoSold  YrSold  SaleType  SaleCondition  \n",
       "0         NaN       0      2    2008        WD         Normal  \n",
       "1         NaN       0      5    2007        WD         Normal  \n",
       "2         NaN       0      9    2008        WD         Normal  \n",
       "3         NaN       0      2    2006        WD        Abnorml  \n",
       "4         NaN       0     12    2008        WD         Normal  \n",
       "\n",
       "[5 rows x 80 columns]"
      ]
     },
     "execution_count": 22,
     "metadata": {},
     "output_type": "execute_result"
    }
   ],
   "source": [
    "data=pd.concat([Train,test])\n",
    "data.head()"
   ]
  },
  {
   "cell_type": "markdown",
   "metadata": {
    "_cell_guid": "e96c89fb-8648-467f-bc24-885ed8b21faf",
    "_uuid": "d7be58782b9bee1eddeddf34784d2157f471d2dc",
    "collapsed": true
   },
   "source": [
    " Summary of variables I have used :\n",
    "\n",
    "train: train data with sale price column        ,shape : (1460,81)\n",
    " \n",
    "Train : train data without sale price column  ,shape : (1460,80)\n",
    "\n",
    " test : test data                                              ,shape: (1459,80) \n",
    "\n",
    "data : Contains both Train and test data        ,shape: (2919,80)"
   ]
  },
  {
   "cell_type": "code",
   "execution_count": 23,
   "metadata": {
    "_cell_guid": "fdadf869-bdd6-4a05-967e-c3cde4f564ed",
    "_uuid": "70253a5b86235875d9c88ef614fea4710c8d2ee8"
   },
   "outputs": [
    {
     "name": "stdout",
     "output_type": "stream",
     "text": [
      "(1450, 79) (1459, 79)\n"
     ]
    }
   ],
   "source": [
    "testid=test['Id']\n",
    "trainid=Train['Id']\n",
    "\n",
    "Train=Train.drop('Id',axis=1)\n",
    "test=test.drop('Id',axis=1)\n",
    "\n",
    "print(Train.shape,test.shape)"
   ]
  },
  {
   "cell_type": "code",
   "execution_count": 24,
   "metadata": {
    "_cell_guid": "a18fd0b5-98ff-4ce2-b69f-3827042521ee",
    "_uuid": "b46c34185106a4ccad5e0dc012213d738f6e801f"
   },
   "outputs": [
    {
     "name": "stdout",
     "output_type": "stream",
     "text": [
      "(2909, 79)\n"
     ]
    }
   ],
   "source": [
    "data=data.drop('Id',axis=1)\n",
    "print(data.shape)"
   ]
  },
  {
   "cell_type": "markdown",
   "metadata": {},
   "source": [
    "## TARGET VAIRABLE\n",
    "\n",
    "The response variable is not transformed using boxcox transformation.In this case, care must be taken because the variance of the residuals is not comparable as λ varies\n",
    "\n",
    "For more **details** go through this link\n",
    "- http://onlinestatbook.com/2/transformations/box-cox.html "
   ]
  },
  {
   "cell_type": "code",
   "execution_count": 25,
   "metadata": {
    "scrolled": false
   },
   "outputs": [
    {
     "name": "stdout",
     "output_type": "stream",
     "text": [
      "Skewness 1.5615504311611146\n"
     ]
    },
    {
     "data": {
      "image/png": "[encoded data removed]",
      "text/plain": [
       "<matplotlib.figure.Figure at 0x7f9718a2f1d0>"
      ]
     },
     "metadata": {},
     "output_type": "display_data"
    }
   ],
   "source": [
    "# plot shows that the variable is skewed\n",
    "plt.subplots(figsize=(10,10))\n",
    "sns.distplot(train['SalePrice'],fit=norm)\n",
    "\n",
    "print('Skewness',skew(train.SalePrice))"
   ]
  },
  {
   "cell_type": "code",
   "execution_count": 26,
   "metadata": {},
   "outputs": [
    {
     "name": "stdout",
     "output_type": "stream",
     "text": [
      "Skewness 0.057329642886069475\n"
     ]
    },
    {
     "data": {
      "image/png": "[encoded data removed]",
      "text/plain": [
       "<matplotlib.figure.Figure at 0x7f97182e73c8>"
      ]
     },
     "metadata": {},
     "output_type": "display_data"
    }
   ],
   "source": [
    "plt.subplots(figsize=(10,10))\n",
    "\n",
    "# log transformation of the target variable also\n",
    "train.SalePrice = np.log1p(train.SalePrice )\n",
    "saleprice=train.SalePrice\n",
    "# plot\n",
    "sns.distplot(train['SalePrice'],fit=norm)\n",
    "\n",
    "# skewness \n",
    "print('Skewness',skew(train.SalePrice))"
   ]
  },
  {
   "cell_type": "markdown",
   "metadata": {
    "_cell_guid": "f80e4ac1-13c1-454e-bd01-876a22e1afd4",
    "_uuid": "02384c0ba31126e2ed9af88c2e344f49a56acce3"
   },
   "source": [
    "## Missing Data "
   ]
  },
  {
   "cell_type": "code",
   "execution_count": 27,
   "metadata": {
    "_cell_guid": "0d50e1f6-33c5-485e-8ea0-126a945cb020",
    "_uuid": "aea975c08830e48954eefa34cfee1b0aef47e492"
   },
   "outputs": [
    {
     "data": {
      "text/html": [
       "<div>\n",
       "<style scoped>\n",
       "    .dataframe tbody tr th:only-of-type {\n",
       "        vertical-align: middle;\n",
       "    }\n",
       "\n",
       "    .dataframe tbody tr th {\n",
       "        vertical-align: top;\n",
       "    }\n",
       "\n",
       "    .dataframe thead th {\n",
       "        text-align: right;\n",
       "    }\n",
       "</style>\n",
       "<table border=\"1\" class=\"dataframe\">\n",
       "  <thead>\n",
       "    <tr style=\"text-align: right;\">\n",
       "      <th></th>\n",
       "      <th>Percent</th>\n",
       "      <th>number</th>\n",
       "    </tr>\n",
       "  </thead>\n",
       "  <tbody>\n",
       "    <tr>\n",
       "      <th>PoolQC</th>\n",
       "      <td>99.724991</td>\n",
       "      <td>2901</td>\n",
       "    </tr>\n",
       "    <tr>\n",
       "      <th>MiscFeature</th>\n",
       "      <td>96.424888</td>\n",
       "      <td>2805</td>\n",
       "    </tr>\n",
       "    <tr>\n",
       "      <th>Alley</th>\n",
       "      <td>93.193537</td>\n",
       "      <td>2711</td>\n",
       "    </tr>\n",
       "    <tr>\n",
       "      <th>Fence</th>\n",
       "      <td>80.440014</td>\n",
       "      <td>2340</td>\n",
       "    </tr>\n",
       "    <tr>\n",
       "      <th>FireplaceQu</th>\n",
       "      <td>48.779649</td>\n",
       "      <td>1419</td>\n",
       "    </tr>\n",
       "    <tr>\n",
       "      <th>LotFrontage</th>\n",
       "      <td>16.638020</td>\n",
       "      <td>484</td>\n",
       "    </tr>\n",
       "    <tr>\n",
       "      <th>GarageFinish</th>\n",
       "      <td>5.465796</td>\n",
       "      <td>159</td>\n",
       "    </tr>\n",
       "    <tr>\n",
       "      <th>GarageQual</th>\n",
       "      <td>5.465796</td>\n",
       "      <td>159</td>\n",
       "    </tr>\n",
       "    <tr>\n",
       "      <th>GarageCond</th>\n",
       "      <td>5.465796</td>\n",
       "      <td>159</td>\n",
       "    </tr>\n",
       "    <tr>\n",
       "      <th>GarageYrBlt</th>\n",
       "      <td>5.465796</td>\n",
       "      <td>159</td>\n",
       "    </tr>\n",
       "    <tr>\n",
       "      <th>GarageType</th>\n",
       "      <td>5.397044</td>\n",
       "      <td>157</td>\n",
       "    </tr>\n",
       "    <tr>\n",
       "      <th>BsmtExposure</th>\n",
       "      <td>2.818838</td>\n",
       "      <td>82</td>\n",
       "    </tr>\n",
       "    <tr>\n",
       "      <th>BsmtCond</th>\n",
       "      <td>2.818838</td>\n",
       "      <td>82</td>\n",
       "    </tr>\n",
       "    <tr>\n",
       "      <th>BsmtQual</th>\n",
       "      <td>2.784462</td>\n",
       "      <td>81</td>\n",
       "    </tr>\n",
       "    <tr>\n",
       "      <th>BsmtFinType1</th>\n",
       "      <td>2.715710</td>\n",
       "      <td>79</td>\n",
       "    </tr>\n",
       "    <tr>\n",
       "      <th>BsmtFinType2</th>\n",
       "      <td>2.715710</td>\n",
       "      <td>79</td>\n",
       "    </tr>\n",
       "    <tr>\n",
       "      <th>MasVnrType</th>\n",
       "      <td>0.825026</td>\n",
       "      <td>24</td>\n",
       "    </tr>\n",
       "    <tr>\n",
       "      <th>MasVnrArea</th>\n",
       "      <td>0.790650</td>\n",
       "      <td>23</td>\n",
       "    </tr>\n",
       "    <tr>\n",
       "      <th>MSZoning</th>\n",
       "      <td>0.137504</td>\n",
       "      <td>4</td>\n",
       "    </tr>\n",
       "    <tr>\n",
       "      <th>BsmtFullBath</th>\n",
       "      <td>0.068752</td>\n",
       "      <td>2</td>\n",
       "    </tr>\n",
       "    <tr>\n",
       "      <th>BsmtHalfBath</th>\n",
       "      <td>0.068752</td>\n",
       "      <td>2</td>\n",
       "    </tr>\n",
       "    <tr>\n",
       "      <th>Functional</th>\n",
       "      <td>0.068752</td>\n",
       "      <td>2</td>\n",
       "    </tr>\n",
       "    <tr>\n",
       "      <th>Utilities</th>\n",
       "      <td>0.068752</td>\n",
       "      <td>2</td>\n",
       "    </tr>\n",
       "    <tr>\n",
       "      <th>GarageArea</th>\n",
       "      <td>0.034376</td>\n",
       "      <td>1</td>\n",
       "    </tr>\n",
       "    <tr>\n",
       "      <th>GarageCars</th>\n",
       "      <td>0.034376</td>\n",
       "      <td>1</td>\n",
       "    </tr>\n",
       "    <tr>\n",
       "      <th>Electrical</th>\n",
       "      <td>0.034376</td>\n",
       "      <td>1</td>\n",
       "    </tr>\n",
       "    <tr>\n",
       "      <th>KitchenQual</th>\n",
       "      <td>0.034376</td>\n",
       "      <td>1</td>\n",
       "    </tr>\n",
       "    <tr>\n",
       "      <th>TotalBsmtSF</th>\n",
       "      <td>0.034376</td>\n",
       "      <td>1</td>\n",
       "    </tr>\n",
       "    <tr>\n",
       "      <th>BsmtUnfSF</th>\n",
       "      <td>0.034376</td>\n",
       "      <td>1</td>\n",
       "    </tr>\n",
       "    <tr>\n",
       "      <th>BsmtFinSF2</th>\n",
       "      <td>0.034376</td>\n",
       "      <td>1</td>\n",
       "    </tr>\n",
       "    <tr>\n",
       "      <th>BsmtFinSF1</th>\n",
       "      <td>0.034376</td>\n",
       "      <td>1</td>\n",
       "    </tr>\n",
       "    <tr>\n",
       "      <th>Exterior2nd</th>\n",
       "      <td>0.034376</td>\n",
       "      <td>1</td>\n",
       "    </tr>\n",
       "    <tr>\n",
       "      <th>Exterior1st</th>\n",
       "      <td>0.034376</td>\n",
       "      <td>1</td>\n",
       "    </tr>\n",
       "    <tr>\n",
       "      <th>SaleType</th>\n",
       "      <td>0.034376</td>\n",
       "      <td>1</td>\n",
       "    </tr>\n",
       "  </tbody>\n",
       "</table>\n",
       "</div>"
      ],
      "text/plain": [
       "                Percent  number\n",
       "PoolQC        99.724991    2901\n",
       "MiscFeature   96.424888    2805\n",
       "Alley         93.193537    2711\n",
       "Fence         80.440014    2340\n",
       "FireplaceQu   48.779649    1419\n",
       "LotFrontage   16.638020     484\n",
       "GarageFinish   5.465796     159\n",
       "GarageQual     5.465796     159\n",
       "GarageCond     5.465796     159\n",
       "GarageYrBlt    5.465796     159\n",
       "GarageType     5.397044     157\n",
       "BsmtExposure   2.818838      82\n",
       "BsmtCond       2.818838      82\n",
       "BsmtQual       2.784462      81\n",
       "BsmtFinType1   2.715710      79\n",
       "BsmtFinType2   2.715710      79\n",
       "MasVnrType     0.825026      24\n",
       "MasVnrArea     0.790650      23\n",
       "MSZoning       0.137504       4\n",
       "BsmtFullBath   0.068752       2\n",
       "BsmtHalfBath   0.068752       2\n",
       "Functional     0.068752       2\n",
       "Utilities      0.068752       2\n",
       "GarageArea     0.034376       1\n",
       "GarageCars     0.034376       1\n",
       "Electrical     0.034376       1\n",
       "KitchenQual    0.034376       1\n",
       "TotalBsmtSF    0.034376       1\n",
       "BsmtUnfSF      0.034376       1\n",
       "BsmtFinSF2     0.034376       1\n",
       "BsmtFinSF1     0.034376       1\n",
       "Exterior2nd    0.034376       1\n",
       "Exterior1st    0.034376       1\n",
       "SaleType       0.034376       1"
      ]
     },
     "execution_count": 27,
     "metadata": {},
     "output_type": "execute_result"
    }
   ],
   "source": [
    "length=data.shape[0]\n",
    "na=pd.DataFrame()\n",
    "\n",
    "# will represent the percentage of missing values\n",
    "na['Percent']=(data.isnull().sum()/length)*100\n",
    "# will represent the number of na values\n",
    "na['number']=data.isnull().sum()                      \n",
    "\n",
    "# we will drop the features which have zero na values\n",
    "na=na.drop(na[na['Percent']==0.0].index)\n",
    "\n",
    "# percent is column by which we have to sort. \n",
    "na.sort_values(by='Percent',ascending=False,inplace=True)\n",
    "na"
   ]
  },
  {
   "cell_type": "code",
   "execution_count": 28,
   "metadata": {
    "_cell_guid": "f66f406d-9624-4509-9e3f-3300ec0c1731",
    "_uuid": "77626308a5f44862171fddefb0abc6e28211faca"
   },
   "outputs": [
    {
     "data": {
      "text/plain": [
       "<matplotlib.axes._subplots.AxesSubplot at 0x7f97182202b0>"
      ]
     },
     "execution_count": 28,
     "metadata": {},
     "output_type": "execute_result"
    },
    {
     "data": {
      "image/png": "[encoded data removed]",
      "text/plain": [
       "<matplotlib.figure.Figure at 0x7f9718257ef0>"
      ]
     },
     "metadata": {},
     "output_type": "display_data"
    }
   ],
   "source": [
    "a,b=plt.subplots(figsize=(20,20))\n",
    "plt.xticks(rotation='90')       # for rotating the features by 90\n",
    "sns.barplot(x=na.index,y=na['Percent'])"
   ]
  },
  {
   "cell_type": "markdown",
   "metadata": {
    "_cell_guid": "5c476fc1-4e68-4ffe-a445-2b557c656e24",
    "_uuid": "7935b26431a539b4867e516161b11c7c9ef346ad",
    "collapsed": true
   },
   "source": [
    "We can easily see that PoolQc,MiscFeature,Alley have greater than 90% missing data \n",
    "\n",
    "PoolQc : Pool quality\n",
    "\n",
    "MiscFeature : Miscellaneous feature not covered in other categories\n",
    "\n",
    "Alley : Type of alley access\n",
    "\n",
    "..."
   ]
  },
  {
   "cell_type": "markdown",
   "metadata": {
    "_cell_guid": "18bcd399-45fc-43bc-bfd0-34b19a94ccab",
    "_uuid": "26764d2dcbd284b80c343f92be0353e146571e66"
   },
   "source": [
    "## FILLING MISSING VALUES\n",
    "\n",
    "**PoolQc**: In description.txt Nan means there is no pool available. So we replace the null values with None\n",
    "\n",
    "**MiscFeature**:  for this also Nan means none\n",
    "\n",
    "**Alley**: Here also Nan means No alley access\n",
    "\n",
    "**Fence**: Here also Nan means no fence that is we replace it with none\n",
    "\n",
    "**FireplaceQu**:  NA means No Fireplace. We will replace it with None\n",
    "\n",
    "**LotFrontage**:  I will fill the missing value with mean of the data \n",
    "\n",
    "**Garagefinish, GarageQual,GarageCond** : Descrpition says that Na means no garage. So filling it with None\n",
    "\n",
    "**GarageYrblt**: Replacing the null values by zero\n",
    "\n",
    "**GarageType**: Description says Na means no garage.So replacing the null values by None\n",
    "\n",
    "**BsmtQual,BsmtCond,BmstExposure**: For all these I will replace Na with None.\n",
    "\n",
    "**BsmtFintype1,BsmtFintype2**: Na means None here also\n",
    "\n",
    "**MasVnrType** : here i replaced Na with none.\n",
    "\n",
    "**MasVnrArea**: Replaced with Zero.\n",
    "\n",
    "**MSZoning**: Identifies the general zoning classification of the sale. Replacing it with mode.\n",
    "\n",
    "**BsmtFullbath,BsmtHalfbath**: It represnts basement of full bathrooms and half bathrooms.So replacing it with zero.\n",
    "\n",
    "**Functional**: Descprition says that it tells about home functionality( conditon for use) and descprition also says that assume typical. So we replace Nan values by typical. \n",
    "\n",
    "**Utilities**: It represents the utilities available. For examples gas,electricity,septic tank etc. I will replace the null values with allpub(As it is most frequent). \n",
    "\n",
    "** Garage Area,Garage cars** : As null values means there is no garage. So garage area and garage cars will be zero for null values. I will replace the null values by zero.\n",
    "\n",
    "**Electrical**: It has only one null value. I will replace it with Sbrkr:Standard Circuit Breakers & Romex or mode of the column and mode is equal to Sbrkr.\n",
    "\n",
    "**KitchenQual** : it tells about the kitchen quality of the house. I will replace it with mode.\n",
    "\n",
    "**TotalBsmtSf,BsmtUnfSf,BsmtFinSF1,BsmtFinSF2**:  All give the information about basement area. I will replace the null value by zero as null represent no basement.\n",
    "\n",
    "**Exterior2nd,Exterior1st**: It tells the about exterior covering of the house. As both contains 1 null value so i will replace it with mode. \n",
    "\n",
    "**Sale Type**:  As it contains null values I will replace it with mode."
   ]
  },
  {
   "cell_type": "code",
   "execution_count": 29,
   "metadata": {
    "_cell_guid": "ce46673c-07c1-4546-943a-933e2d13b0cd",
    "_uuid": "cfe16cde6c848ab9f5cefd12cce36f2011ed8f01"
   },
   "outputs": [],
   "source": [
    "data['PoolQC']=data['PoolQC'].fillna(\"None\")\n",
    "\n",
    "data['MiscFeature']=data['MiscFeature'].fillna('None')\n",
    "\n",
    "data['Alley']=data['Alley'].fillna(\"None\")\n",
    "\n",
    "data['Fence']=data['Fence'].fillna(\"None\")\n",
    "\n",
    "data['FireplaceQu']=data['FireplaceQu'].fillna(\"None\")\n",
    "\n",
    "data['LotFrontage']=data['LotFrontage'].fillna(data['LotFrontage'].mean())\n",
    "\n",
    "data['GarageFinish']=data['GarageFinish'].fillna(\"None\")\n",
    "\n",
    "data['GarageQual']=data['GarageQual'].fillna(\"None\")\n",
    "\n",
    "data['GarageCond']=data['GarageCond'].fillna(\"None\")\n",
    "\n",
    "data['GarageYrBlt']=data['GarageYrBlt'].fillna(0)\n",
    "\n",
    "data['GarageType']=data['GarageType'].fillna(\"None\")\n",
    "\n",
    "data['BsmtExposure']=data['BsmtExposure'].fillna(\"None\")\n",
    "\n",
    "data['BsmtCond']=data['BsmtCond'].fillna(\"None\")\n",
    "\n",
    "data['BsmtQual']=data['BsmtQual'].fillna(\"None\")\n",
    "\n",
    "data['BsmtFinType1']=data['BsmtFinType1'].fillna(\"None\")\n",
    "\n",
    "data['BsmtFinType2']=data['BsmtFinType2'].fillna(\"None\")\n",
    "\n",
    "data['MasVnrType']=data['MasVnrType'].fillna(\"None\")\n",
    "\n",
    "data['MasVnrArea']=data['MasVnrArea'].fillna(0)\n",
    "\n",
    "data['MSZoning']=data['MSZoning'].fillna(data['MSZoning'].mode()[0])\n",
    "\n",
    "data['BsmtFullBath']=data['BsmtFullBath'].fillna(0)\n",
    "\n",
    "data['BsmtHalfBath']=data['BsmtHalfBath'].fillna(0)\n",
    "\n",
    "data['Functional']=data['Functional'].fillna(\"Typ\")\n",
    "\n",
    "data['Utilities']=data['Utilities'].fillna(\"AllPub\")\n",
    "\n",
    "data['GarageArea']=data['GarageArea'].fillna(0)\n",
    "\n",
    "data['GarageCars']=data['GarageCars'].fillna(0)\n",
    "\n",
    "data['Electrical']=data['Electrical'].fillna(data['Electrical'].mode()[0])\n",
    "\n",
    "data['KitchenQual']=data['KitchenQual'].fillna(data['KitchenQual'].mode()[0])\n",
    "\n",
    "data['TotalBsmtSF']=data['TotalBsmtSF'].fillna(0)\n",
    "\n",
    "data['BsmtUnfSF']=data['BsmtUnfSF'].fillna(0)\n",
    "\n",
    "data['BsmtFinSF1']=data['BsmtFinSF1'].fillna(0)\n",
    "\n",
    "data['BsmtFinSF2']=data['BsmtFinSF2'].fillna(0)\n",
    "\n",
    "data['Exterior1st']=data['Exterior1st'].fillna(data['Exterior1st'].mode()[0])\n",
    "\n",
    "data['Exterior2nd']=data['Exterior2nd'].fillna(data['Exterior2nd'].mode()[0])\n",
    "\n",
    "data['SaleType']=data['SaleType'].fillna(data['SaleType'].mode()[0])"
   ]
  },
  {
   "cell_type": "markdown",
   "metadata": {
    "_cell_guid": "3ba04875-7a0a-4fba-aaab-de93276d31df",
    "_uuid": "34c312e90b819c2af5ec7b768695d8811cc828a1"
   },
   "source": [
    "I have replaced all the missing values. Before that we will see any values  are remaining(cross verification)"
   ]
  },
  {
   "cell_type": "code",
   "execution_count": 30,
   "metadata": {
    "_cell_guid": "ba01f8c4-6a87-488d-a3b9-13bbe9360ae5",
    "_uuid": "6d730eac7d8ce00acf09d40ad64dce47e2b58214"
   },
   "outputs": [
    {
     "data": {
      "text/plain": [
       "0"
      ]
     },
     "execution_count": 30,
     "metadata": {},
     "output_type": "execute_result"
    }
   ],
   "source": [
    "(data.isnull().sum()!=0).sum()"
   ]
  },
  {
   "cell_type": "markdown",
   "metadata": {
    "_cell_guid": "be68d4bf-53ef-41f7-8c91-0cc0ffddcc6a",
    "_uuid": "5325cf4767ec0c45a974ef02d3fc7589b18e7e21"
   },
   "source": [
    " We have replaced all the **missing values**. Now it's time to do some feature engineering. Before going further we will seperate the numerical and categorical features.\n",
    " \n",
    "Some variables are really categorical. We will convert these variables to categorical.Some variables are ordinal variables. So i will label encode them. "
   ]
  },
  {
   "cell_type": "code",
   "execution_count": 31,
   "metadata": {
    "_cell_guid": "a07a0e42-eebe-471f-805f-84a8c9bfd526",
    "_uuid": "d63f5b84794dcb5285ed48f91a028d2001a132f0"
   },
   "outputs": [],
   "source": [
    "data['MSSubClass']=data['MSSubClass'].astype(str)\n",
    "data['YrSold']=data['YrSold'].astype(str)\n",
    "data['MoSold']=data['MoSold'].astype(str)"
   ]
  },
  {
   "cell_type": "markdown",
   "metadata": {},
   "source": [
    "## CREATING NEW FEATURES \n",
    "\n",
    "Added the features but the score not improved on leaderboard"
   ]
  },
  {
   "cell_type": "code",
   "execution_count": 32,
   "metadata": {},
   "outputs": [],
   "source": [
    "# data['FloorArea']=data['1stFlrSF']+data['2ndFlrSF']\n",
    "# data['TotalArea']=data['TotalBsmtSF']+data['GrLivArea']\n",
    "# data['OverallQual-squared']=data['OverallQual']**2\n",
    "\n",
    "# data['OverallQual-cube']=data['OverallQual']**3\n",
    "\n",
    "# data['GarageCars-squared']=data['GarageCars']**2"
   ]
  },
  {
   "cell_type": "markdown",
   "metadata": {},
   "source": [
    "Now let's explore **Utilities**. We have filled the utilities with **AllPub**"
   ]
  },
  {
   "cell_type": "code",
   "execution_count": 33,
   "metadata": {},
   "outputs": [
    {
     "data": {
      "text/plain": [
       "AllPub    1457\n",
       "Name: Utilities, dtype: int64"
      ]
     },
     "execution_count": 33,
     "metadata": {},
     "output_type": "execute_result"
    }
   ],
   "source": [
    "test['Utilities'].value_counts()"
   ]
  },
  {
   "cell_type": "code",
   "execution_count": 34,
   "metadata": {},
   "outputs": [
    {
     "data": {
      "text/plain": [
       "2"
      ]
     },
     "execution_count": 34,
     "metadata": {},
     "output_type": "execute_result"
    }
   ],
   "source": [
    "test['Utilities'].isnull().sum()"
   ]
  },
  {
   "cell_type": "markdown",
   "metadata": {},
   "source": [
    "Here we can easily observe in test data utilities takes only one value and that is AllPub and there are only 2 null values and we have filled it with allpub. So in total test set utilities takes only value and that is all pub. So it obvious that is not useful for prediction. So I am removing that varaible from the data. "
   ]
  },
  {
   "cell_type": "code",
   "execution_count": 35,
   "metadata": {},
   "outputs": [
    {
     "name": "stdout",
     "output_type": "stream",
     "text": [
      "(2909, 79)\n",
      "(2909, 78)\n"
     ]
    }
   ],
   "source": [
    "print(data.shape)\n",
    "data.drop('Utilities',axis=1,inplace=True)\n",
    "print(data.shape)"
   ]
  },
  {
   "cell_type": "markdown",
   "metadata": {},
   "source": [
    "## CATEGORICAL VARAIBLES "
   ]
  },
  {
   "cell_type": "code",
   "execution_count": 36,
   "metadata": {},
   "outputs": [
    {
     "name": "stdout",
     "output_type": "stream",
     "text": [
      "Number of categorical features are 45\n",
      "Index(['MSSubClass', 'MSZoning', 'Street', 'Alley', 'LotShape', 'LandContour',\n",
      "       'LotConfig', 'LandSlope', 'Neighborhood', 'Condition1', 'Condition2',\n",
      "       'BldgType', 'HouseStyle', 'RoofStyle', 'RoofMatl', 'Exterior1st',\n",
      "       'Exterior2nd', 'MasVnrType', 'ExterQual', 'ExterCond', 'Foundation',\n",
      "       'BsmtQual', 'BsmtCond', 'BsmtExposure', 'BsmtFinType1', 'BsmtFinType2',\n",
      "       'Heating', 'HeatingQC', 'CentralAir', 'Electrical', 'KitchenQual',\n",
      "       'Functional', 'FireplaceQu', 'GarageType', 'GarageFinish', 'GarageQual',\n",
      "       'GarageCond', 'PavedDrive', 'PoolQC', 'Fence', 'MiscFeature', 'MoSold',\n",
      "       'YrSold', 'SaleType', 'SaleCondition'],\n",
      "      dtype='object')\n"
     ]
    }
   ],
   "source": [
    "categorical_feats=data.dtypes[data.dtypes=='object'].index\n",
    "categorical=data[categorical_feats]\n",
    "print(\"Number of categorical features are\",categorical_feats.shape[0])\n",
    "print(categorical_feats)"
   ]
  },
  {
   "cell_type": "markdown",
   "metadata": {},
   "source": [
    "## LABEL ENCODING\n",
    "\n",
    "Some Categorical variables are ordered. So I will encode them. A good way to find the ordinal variables is that the distance between each class is equal(to be assumed).\n",
    "\n",
    "And for regression problems, label encoding is more used and for classificationn problems one hot encoding is used.\n",
    "\n",
    "YrSold,MoSold -  for these two varaibles if we label encode then or one hot encode them there is no change in the score.\n",
    "\n",
    "OverallQual,OverallCond - these varaibles when encoded the error increased. So there is no need to encode them as there type is integer.\n",
    "\n",
    "Electrical,Street,Alley,CentralAir- if we label encode then the error was more when compared with the error when we one hot encode them."
   ]
  },
  {
   "cell_type": "code",
   "execution_count": 37,
   "metadata": {},
   "outputs": [],
   "source": [
    "# labels=['LotShape','LandSlope','ExterQual',\n",
    "#         'ExterCond','BsmtQual','BsmtCond','BsmtExposure','BsmtFinType1','BsmtFinType2',\n",
    "#        'HeatingQC','KitchenQual','Functional','FireplaceQu','GarageFinish',\n",
    "#        'GarageQual','GarageCond','PavedDrive','PoolQC','Fence',\n",
    "#         'MSSubClass','YrSold','MoSold']\n",
    "\n",
    "\n",
    "# # Electrical,Street,Alley,CentralAir\n",
    "\n",
    "# print(\"Number of ordinal variables are\",len(labels))\n",
    "\n",
    "# le=LabelEncoder()\n",
    "# for i in labels:\n",
    "#     data[i]=pd.Series(le.fit_transform(np.array(data[i])))"
   ]
  },
  {
   "cell_type": "code",
   "execution_count": 38,
   "metadata": {},
   "outputs": [],
   "source": [
    "# categorical_feats=data.dtypes[data.dtypes=='object'].index\n",
    "# categorical=data[categorical_feats]\n",
    "# print(\"Number of categorical features are\",categorical_feats.shape[0])\n",
    "# print(categorical_feats)"
   ]
  },
  {
   "cell_type": "markdown",
   "metadata": {},
   "source": [
    "## NUMERICAL FEATURES"
   ]
  },
  {
   "cell_type": "code",
   "execution_count": 39,
   "metadata": {
    "scrolled": true
   },
   "outputs": [
    {
     "name": "stdout",
     "output_type": "stream",
     "text": [
      "The Lenght of Numerical Varaibles are 33\n",
      "Index(['LotFrontage', 'LotArea', 'OverallQual', 'OverallCond', 'YearBuilt',\n",
      "       'YearRemodAdd', 'MasVnrArea', 'BsmtFinSF1', 'BsmtFinSF2', 'BsmtUnfSF',\n",
      "       'TotalBsmtSF', '1stFlrSF', '2ndFlrSF', 'LowQualFinSF', 'GrLivArea',\n",
      "       'BsmtFullBath', 'BsmtHalfBath', 'FullBath', 'HalfBath', 'BedroomAbvGr',\n",
      "       'KitchenAbvGr', 'TotRmsAbvGrd', 'Fireplaces', 'GarageYrBlt',\n",
      "       'GarageCars', 'GarageArea', 'WoodDeckSF', 'OpenPorchSF',\n",
      "       'EnclosedPorch', '3SsnPorch', 'ScreenPorch', 'PoolArea', 'MiscVal'],\n",
      "      dtype='object')\n"
     ]
    }
   ],
   "source": [
    "numerical_feats=data.dtypes[data.dtypes!='object'].index\n",
    "numerical=data[numerical_feats]\n",
    "print(\"The Lenght of Numerical Varaibles are\",numerical_feats.shape[0])\n",
    "print(numerical_feats)\n",
    "\n",
    "\n",
    "# k=['1stFlrSF', '2ndFlrSF', '3SsnPorch', 'Alley', 'BedroomAbvGr',\n",
    "#        'BsmtCond', 'BsmtExposure', 'BsmtFinSF1', 'BsmtFinSF2', 'BsmtFinType1',\n",
    "#        'BsmtFinType2', 'BsmtFullBath', 'BsmtHalfBath', 'BsmtQual', 'BsmtUnfSF',\n",
    "#        'CentralAir', 'EnclosedPorch', 'ExterCond', 'ExterQual', 'Fence',\n",
    "#        'FireplaceQu', 'Fireplaces', 'FullBath', 'Functional', 'GarageArea',\n",
    "#        'GarageCars', 'GarageCond', 'GarageFinish', 'GarageQual', 'GarageYrBlt',\n",
    "#        'GrLivArea', 'HalfBath', 'HeatingQC', 'KitchenAbvGr', 'KitchenQual',\n",
    "#        'LandSlope', 'LotArea', 'LotFrontage', 'LotShape', 'LowQualFinSF',\n",
    "#        'MSSubClass', 'MasVnrArea', 'MiscVal', 'MoSold', 'OpenPorchSF',\n",
    "#        'OverallCond', 'OverallQual', 'PavedDrive', 'PoolArea', 'PoolQC',\n",
    "#        'ScreenPorch', 'Street', 'TotRmsAbvGrd', 'TotalBsmtSF', 'WoodDeckSF',\n",
    "#        'YearBuilt', 'YearRemodAdd', 'YrSold', 'TotalSF']\n",
    "\n",
    "# print(set(k)-set(numerical_feats))\n",
    "# print(set(numerical_feats)-set(k))"
   ]
  },
  {
   "cell_type": "code",
   "execution_count": 40,
   "metadata": {
    "scrolled": false
   },
   "outputs": [
    {
     "name": "stdout",
     "output_type": "stream",
     "text": [
      "33\n"
     ]
    },
    {
     "data": {
      "text/plain": [
       "MiscVal          21.919304\n",
       "PoolArea         18.682408\n",
       "LotArea          13.188969\n",
       "LowQualFinSF     12.394704\n",
       "3SsnPorch        11.356127\n",
       "KitchenAbvGr      4.293726\n",
       "BsmtFinSF2        4.148795\n",
       "EnclosedPorch     4.011511\n",
       "BsmtHalfBath      3.938080\n",
       "ScreenPorch       3.926850\n",
       "MasVnrArea        2.602896\n",
       "OpenPorchSF       2.533691\n",
       "WoodDeckSF        1.851174\n",
       "1stFlrSF          1.227268\n",
       "LotFrontage       1.224044\n",
       "BsmtFinSF1        0.977085\n",
       "GrLivArea         0.959784\n",
       "BsmtUnfSF         0.914249\n",
       "2ndFlrSF          0.839337\n",
       "TotRmsAbvGrd      0.743738\n",
       "Fireplaces        0.728154\n",
       "HalfBath          0.698699\n",
       "BsmtFullBath      0.624038\n",
       "TotalBsmtSF       0.600341\n",
       "OverallCond       0.563377\n",
       "BedroomAbvGr      0.329506\n",
       "OverallQual       0.181589\n",
       "GarageArea        0.167315\n",
       "FullBath          0.157822\n",
       "GarageCars       -0.225980\n",
       "YearRemodAdd     -0.448386\n",
       "YearBuilt        -0.596588\n",
       "GarageYrBlt      -3.898291\n",
       "dtype: float64"
      ]
     },
     "execution_count": 40,
     "metadata": {},
     "output_type": "execute_result"
    }
   ],
   "source": [
    "skewness=numerical.apply(lambda x : skew(x))\n",
    "skewness.sort_values(ascending=False,inplace=True)\n",
    "print(skewness.shape[0])\n",
    "skewness"
   ]
  },
  {
   "cell_type": "markdown",
   "metadata": {},
   "source": [
    "If skewness = 0, the data are perfectly symmetrical. But a skewness of exactly zero is quite unlikely for real-world data, so how can you interpret the skewness number.A classic — suggests this rule of thumb:\n",
    "\n",
    "- If skewness is less than −1 or greater than +1, the distribution is highly skewed.\n",
    "\n",
    "- If skewness is between −1 and 0.5 or between 0.5 and +1, the distribution moderately skewed.\n",
    "\n",
    "- If skewness is between -0.5 and +0.5, the distribution is approximately symmetric."
   ]
  },
  {
   "cell_type": "code",
   "execution_count": 41,
   "metadata": {
    "scrolled": true
   },
   "outputs": [
    {
     "name": "stdout",
     "output_type": "stream",
     "text": [
      "The features that got transformed are :\n",
      "['MiscVal', 'PoolArea', 'LotArea', 'LowQualFinSF', '3SsnPorch', 'KitchenAbvGr', 'BsmtFinSF2', 'EnclosedPorch', 'BsmtHalfBath', 'ScreenPorch', 'MasVnrArea', 'OpenPorchSF', 'WoodDeckSF', '1stFlrSF', 'LotFrontage', 'BsmtFinSF1', 'GrLivArea', 'BsmtUnfSF', '2ndFlrSF', 'TotRmsAbvGrd', 'Fireplaces', 'HalfBath', 'BsmtFullBath', 'TotalBsmtSF', 'OverallCond', 'YearBuilt', 'GarageYrBlt']\n",
      "\n",
      "The number of features that got transformed:\n",
      "27\n"
     ]
    }
   ],
   "source": [
    "# log transformation of the skewed features.\n",
    "skewness=skewness[abs(skewness)>0.5]\n",
    "print(\"The features that got transformed are :\")\n",
    "print(list(skewness.index))\n",
    "print(\"\\nThe number of features that got transformed:\")\n",
    "print(skewness.shape[0])\n",
    "# print(skewness)\n",
    "for i in skewness.index:\n",
    "    data[i]=boxcox1p(np.array(data[i]),0.15)\n",
    "\n",
    "# data[skewness.index]=np.log1p(data[skewness.index])\n",
    "# print(data.shape)"
   ]
  },
  {
   "cell_type": "markdown",
   "metadata": {},
   "source": [
    "## LABEL ENCODING\n",
    "\n",
    "Some Categorical variables are ordered. So I will encode them. A good way to find the ordinal variables is that the distance between each class is equal(to be assumed).\n",
    "\n",
    "And for regression problems, label encoding is more used and for classificationn problems one hot encoding is used.\n",
    "\n",
    "YrSold,MoSold -  for these two varaibles if we label encode then or one hot encode them there is no change in the score.\n",
    "\n",
    "OverallQual,OverallCond - these varaibles when encoded the error increased. So there is no need to encode them as there type is integer.\n",
    "\n",
    "Electrical,Street,Alley,CentralAir- if we label encode then the error was more when compared with the error when we one hot encode them."
   ]
  },
  {
   "cell_type": "code",
   "execution_count": 42,
   "metadata": {},
   "outputs": [],
   "source": [
    "# labels=['LotShape','LandSlope','ExterQual',\n",
    "#         'ExterCond','BsmtQual','BsmtCond','BsmtExposure','BsmtFinType1','BsmtFinType2',\n",
    "#        'HeatingQC','KitchenQual','FireplaceQu','GarageFinish'\n",
    "#        ,'GarageQual','GarageCond','PoolQC','YrSold','MoSold','Functional','PavedDrive','Fence']\n",
    "\n",
    "\n",
    "# # 'MSSubClass','Functional''PavedDrive' ,'Fence'\n",
    "\n",
    "# print(\"Number of ordinal variables are\",len(labels))\n",
    "\n",
    "# le=LabelEncoder()\n",
    "# for i in labels:\n",
    "#     data[i]=pd.Series(le.fit_transform(np.array(data[i])))"
   ]
  },
  {
   "cell_type": "code",
   "execution_count": 43,
   "metadata": {},
   "outputs": [
    {
     "name": "stdout",
     "output_type": "stream",
     "text": [
      "Number of categorical features are 45\n",
      "Index(['MSSubClass', 'MSZoning', 'Street', 'Alley', 'LotShape', 'LandContour',\n",
      "       'LotConfig', 'LandSlope', 'Neighborhood', 'Condition1', 'Condition2',\n",
      "       'BldgType', 'HouseStyle', 'RoofStyle', 'RoofMatl', 'Exterior1st',\n",
      "       'Exterior2nd', 'MasVnrType', 'ExterQual', 'ExterCond', 'Foundation',\n",
      "       'BsmtQual', 'BsmtCond', 'BsmtExposure', 'BsmtFinType1', 'BsmtFinType2',\n",
      "       'Heating', 'HeatingQC', 'CentralAir', 'Electrical', 'KitchenQual',\n",
      "       'Functional', 'FireplaceQu', 'GarageType', 'GarageFinish', 'GarageQual',\n",
      "       'GarageCond', 'PavedDrive', 'PoolQC', 'Fence', 'MiscFeature', 'MoSold',\n",
      "       'YrSold', 'SaleType', 'SaleCondition'],\n",
      "      dtype='object')\n"
     ]
    }
   ],
   "source": [
    "categorical_feats=data.dtypes[data.dtypes=='object'].index\n",
    "categorical=data[categorical_feats]\n",
    "print(\"Number of categorical features are\",categorical_feats.shape[0])\n",
    "print(categorical_feats)"
   ]
  },
  {
   "cell_type": "code",
   "execution_count": 44,
   "metadata": {},
   "outputs": [
    {
     "data": {
      "text/plain": [
       "(2909, 78)"
      ]
     },
     "execution_count": 44,
     "metadata": {},
     "output_type": "execute_result"
    }
   ],
   "source": [
    "data.shape"
   ]
  },
  {
   "cell_type": "markdown",
   "metadata": {},
   "source": [
    "## TRAIN AND TEST DATA"
   ]
  },
  {
   "cell_type": "code",
   "execution_count": 45,
   "metadata": {},
   "outputs": [],
   "source": [
    "# t=train.SalePrice\n",
    "# train=data.head(1460).copy()\n",
    "# train['SalePrice']=t\n",
    "# train.shape\n",
    "\n",
    "# test=data.tail(1459).copy()\n",
    "# test.shape\n",
    "\n",
    "## OUTLIERS\n",
    "\n",
    "# m=train.shape[0]\n",
    "# t=train.SalePrice\n",
    "# train=data.head(m).copy()                    # we will make a copy. \n",
    "# train['SalePrice']=t\n",
    "# train.head(10)\n",
    "\n",
    "# for i in numerical_feats:\n",
    "#     sns.regplot(train[i],train['SalePrice'])\n",
    "#     plt.show()\n",
    "\n",
    "# for i in (list(labels)+list(categorical_feats)):\n",
    "#     plt.xticks(rotation=90)          # for rotation\n",
    "#     sns.boxplot(train[i],train['SalePrice'])\n",
    "#     plt.show()\n",
    "\n",
    "# From the graphs i concluded something \n",
    "\n",
    "# **GrLivArea** : 4 ( all greater than 16.5 values will be removed). In the documentation of the ames dataset the suggestion was to remove all the examples whose grlivarea is greater than 4000\n",
    "\n",
    "# **MasVnrArea** : The one with 13.5(nearly) and 0 Mas Vnr area\n",
    "\n",
    "# **TotalBsmtSF** : The one with greater than 17.5 total basement squared area\n",
    "\n",
    "# **1stFlrSf** : The one with greater than 17 1st floor area\n",
    "\n",
    "# **Garage Area** : four with  1200 garage area and less than 12.75 sale price.\n",
    "\n",
    "# **LowQualFinalSF** : one with greater than 10 lowqualSf and less than 12.75 sale price\n",
    "\n",
    "# **Year Built** : one which has greater than 13.0 sale price and .less than 14.025 year built value\n",
    "\n",
    "\n",
    "\n",
    "# print(\"GrLivArea\",train.loc[train['GrLivArea']>16.5].index.values)\n",
    "# print(\"MasVnrArea\",train.loc[(train['MasVnrArea']<0.5) & (train['SalePrice']>13.25)].index.values)\n",
    "# print(\"TotalBsmtSF\",train.loc[train['TotalBsmtSF']>17.5].index.values)\n",
    "# print(\"1st floor area\",train.loc[train['1stFlrSF']>17].index.values)\n",
    "# print(\"garage area\",train.loc[(train['GarageArea']>1200) & (train['SalePrice']<12.775)].index.values)\n",
    "# print(\"LowQualFinalSF\",train.loc[(train['LowQualFinSF']>10) & (train['SalePrice']>12.75)].index.values)\n",
    "# print(\"Year Built\",train.loc[(train['SalePrice']>12.8) & (train['YearBuilt']<14.05)].index.values)\n",
    "\n",
    "\n",
    "\n",
    "# Now from the above we can easily see that 1182,1298 are really harmful for prediciton.\n"
   ]
  },
  {
   "cell_type": "markdown",
   "metadata": {
    "_cell_guid": "ac12c673-c652-4b20-9971-e115cbe312f5",
    "_uuid": "b2116d84c6aef51d1da5c49584800577edacb560"
   },
   "source": [
    "## Converting the categorical features to dummy vairables"
   ]
  },
  {
   "cell_type": "code",
   "execution_count": 46,
   "metadata": {},
   "outputs": [
    {
     "data": {
      "text/plain": [
       "(2909, 78)"
      ]
     },
     "execution_count": 46,
     "metadata": {},
     "output_type": "execute_result"
    }
   ],
   "source": [
    "data.shape"
   ]
  },
  {
   "cell_type": "code",
   "execution_count": 47,
   "metadata": {},
   "outputs": [
    {
     "data": {
      "text/plain": [
       "(2909, 329)"
      ]
     },
     "execution_count": 47,
     "metadata": {},
     "output_type": "execute_result"
    }
   ],
   "source": [
    "data=pd.get_dummies(data)\n",
    "data.shape"
   ]
  },
  {
   "cell_type": "code",
   "execution_count": 48,
   "metadata": {
    "scrolled": true
   },
   "outputs": [
    {
     "data": {
      "text/html": [
       "<div>\n",
       "<style scoped>\n",
       "    .dataframe tbody tr th:only-of-type {\n",
       "        vertical-align: middle;\n",
       "    }\n",
       "\n",
       "    .dataframe tbody tr th {\n",
       "        vertical-align: top;\n",
       "    }\n",
       "\n",
       "    .dataframe thead th {\n",
       "        text-align: right;\n",
       "    }\n",
       "</style>\n",
       "<table border=\"1\" class=\"dataframe\">\n",
       "  <thead>\n",
       "    <tr style=\"text-align: right;\">\n",
       "      <th></th>\n",
       "      <th>LotFrontage</th>\n",
       "      <th>LotArea</th>\n",
       "      <th>OverallQual</th>\n",
       "      <th>OverallCond</th>\n",
       "      <th>YearBuilt</th>\n",
       "      <th>YearRemodAdd</th>\n",
       "      <th>MasVnrArea</th>\n",
       "      <th>BsmtFinSF1</th>\n",
       "      <th>BsmtFinSF2</th>\n",
       "      <th>BsmtUnfSF</th>\n",
       "      <th>...</th>\n",
       "      <th>SaleType_ConLw</th>\n",
       "      <th>SaleType_New</th>\n",
       "      <th>SaleType_Oth</th>\n",
       "      <th>SaleType_WD</th>\n",
       "      <th>SaleCondition_Abnorml</th>\n",
       "      <th>SaleCondition_AdjLand</th>\n",
       "      <th>SaleCondition_Alloca</th>\n",
       "      <th>SaleCondition_Family</th>\n",
       "      <th>SaleCondition_Normal</th>\n",
       "      <th>SaleCondition_Partial</th>\n",
       "    </tr>\n",
       "  </thead>\n",
       "  <tbody>\n",
       "    <tr>\n",
       "      <th>0</th>\n",
       "      <td>5.831328</td>\n",
       "      <td>19.212182</td>\n",
       "      <td>7</td>\n",
       "      <td>2.055642</td>\n",
       "      <td>14.187527</td>\n",
       "      <td>2003</td>\n",
       "      <td>8.059126</td>\n",
       "      <td>11.170327</td>\n",
       "      <td>0.0</td>\n",
       "      <td>7.483296</td>\n",
       "      <td>...</td>\n",
       "      <td>0</td>\n",
       "      <td>0</td>\n",
       "      <td>0</td>\n",
       "      <td>1</td>\n",
       "      <td>0</td>\n",
       "      <td>0</td>\n",
       "      <td>0</td>\n",
       "      <td>0</td>\n",
       "      <td>1</td>\n",
       "      <td>0</td>\n",
       "    </tr>\n",
       "    <tr>\n",
       "      <th>1</th>\n",
       "      <td>6.221214</td>\n",
       "      <td>19.712205</td>\n",
       "      <td>6</td>\n",
       "      <td>2.602594</td>\n",
       "      <td>14.145138</td>\n",
       "      <td>1976</td>\n",
       "      <td>0.000000</td>\n",
       "      <td>12.062832</td>\n",
       "      <td>0.0</td>\n",
       "      <td>8.897844</td>\n",
       "      <td>...</td>\n",
       "      <td>0</td>\n",
       "      <td>0</td>\n",
       "      <td>0</td>\n",
       "      <td>1</td>\n",
       "      <td>0</td>\n",
       "      <td>0</td>\n",
       "      <td>0</td>\n",
       "      <td>0</td>\n",
       "      <td>1</td>\n",
       "      <td>0</td>\n",
       "    </tr>\n",
       "    <tr>\n",
       "      <th>2</th>\n",
       "      <td>5.914940</td>\n",
       "      <td>20.347241</td>\n",
       "      <td>7</td>\n",
       "      <td>2.055642</td>\n",
       "      <td>14.184404</td>\n",
       "      <td>2002</td>\n",
       "      <td>7.646538</td>\n",
       "      <td>10.200343</td>\n",
       "      <td>0.0</td>\n",
       "      <td>9.917060</td>\n",
       "      <td>...</td>\n",
       "      <td>0</td>\n",
       "      <td>0</td>\n",
       "      <td>0</td>\n",
       "      <td>1</td>\n",
       "      <td>0</td>\n",
       "      <td>0</td>\n",
       "      <td>0</td>\n",
       "      <td>0</td>\n",
       "      <td>1</td>\n",
       "      <td>0</td>\n",
       "    </tr>\n",
       "    <tr>\n",
       "      <th>3</th>\n",
       "      <td>5.684507</td>\n",
       "      <td>19.691553</td>\n",
       "      <td>7</td>\n",
       "      <td>2.055642</td>\n",
       "      <td>14.047529</td>\n",
       "      <td>1970</td>\n",
       "      <td>0.000000</td>\n",
       "      <td>8.274266</td>\n",
       "      <td>0.0</td>\n",
       "      <td>10.468500</td>\n",
       "      <td>...</td>\n",
       "      <td>0</td>\n",
       "      <td>0</td>\n",
       "      <td>0</td>\n",
       "      <td>1</td>\n",
       "      <td>1</td>\n",
       "      <td>0</td>\n",
       "      <td>0</td>\n",
       "      <td>0</td>\n",
       "      <td>0</td>\n",
       "      <td>0</td>\n",
       "    </tr>\n",
       "    <tr>\n",
       "      <th>4</th>\n",
       "      <td>6.314735</td>\n",
       "      <td>21.325160</td>\n",
       "      <td>8</td>\n",
       "      <td>2.055642</td>\n",
       "      <td>14.182841</td>\n",
       "      <td>2000</td>\n",
       "      <td>9.391827</td>\n",
       "      <td>10.971129</td>\n",
       "      <td>0.0</td>\n",
       "      <td>10.221051</td>\n",
       "      <td>...</td>\n",
       "      <td>0</td>\n",
       "      <td>0</td>\n",
       "      <td>0</td>\n",
       "      <td>1</td>\n",
       "      <td>0</td>\n",
       "      <td>0</td>\n",
       "      <td>0</td>\n",
       "      <td>0</td>\n",
       "      <td>1</td>\n",
       "      <td>0</td>\n",
       "    </tr>\n",
       "  </tbody>\n",
       "</table>\n",
       "<p>5 rows × 329 columns</p>\n",
       "</div>"
      ],
      "text/plain": [
       "   LotFrontage    LotArea  OverallQual  OverallCond  YearBuilt  YearRemodAdd  \\\n",
       "0     5.831328  19.212182            7     2.055642  14.187527          2003   \n",
       "1     6.221214  19.712205            6     2.602594  14.145138          1976   \n",
       "2     5.914940  20.347241            7     2.055642  14.184404          2002   \n",
       "3     5.684507  19.691553            7     2.055642  14.047529          1970   \n",
       "4     6.314735  21.325160            8     2.055642  14.182841          2000   \n",
       "\n",
       "   MasVnrArea  BsmtFinSF1  BsmtFinSF2  BsmtUnfSF          ...            \\\n",
       "0    8.059126   11.170327         0.0   7.483296          ...             \n",
       "1    0.000000   12.062832         0.0   8.897844          ...             \n",
       "2    7.646538   10.200343         0.0   9.917060          ...             \n",
       "3    0.000000    8.274266         0.0  10.468500          ...             \n",
       "4    9.391827   10.971129         0.0  10.221051          ...             \n",
       "\n",
       "   SaleType_ConLw  SaleType_New  SaleType_Oth  SaleType_WD  \\\n",
       "0               0             0             0            1   \n",
       "1               0             0             0            1   \n",
       "2               0             0             0            1   \n",
       "3               0             0             0            1   \n",
       "4               0             0             0            1   \n",
       "\n",
       "   SaleCondition_Abnorml  SaleCondition_AdjLand  SaleCondition_Alloca  \\\n",
       "0                      0                      0                     0   \n",
       "1                      0                      0                     0   \n",
       "2                      0                      0                     0   \n",
       "3                      1                      0                     0   \n",
       "4                      0                      0                     0   \n",
       "\n",
       "   SaleCondition_Family  SaleCondition_Normal  SaleCondition_Partial  \n",
       "0                     0                     1                      0  \n",
       "1                     0                     1                      0  \n",
       "2                     0                     1                      0  \n",
       "3                     0                     0                      0  \n",
       "4                     0                     1                      0  \n",
       "\n",
       "[5 rows x 329 columns]"
      ]
     },
     "execution_count": 48,
     "metadata": {},
     "output_type": "execute_result"
    }
   ],
   "source": [
    "data.head()"
   ]
  },
  {
   "cell_type": "markdown",
   "metadata": {},
   "source": [
    "## REMOVAL OF OTHER UNNECESSARY VARIABLES\n",
    "\n",
    "The main thing here I want to address is that there are some features in train data whose value is same and there are some in test data.In the **Utilities** case we have seen that in test data utilities takes only one value. So i have removed it. Like this there can be many variables which we have to find out and remove them.\n",
    "\n",
    "For **categorical** varaible the variance is different."
   ]
  },
  {
   "cell_type": "code",
   "execution_count": 49,
   "metadata": {},
   "outputs": [],
   "source": [
    "# train.head()\n",
    "\n",
    "# data.head()\n",
    "\n",
    "# m=train.shape[0]\n",
    "# train=data.head(m).copy()\n",
    "# test=data.tail(1459).copy()\n",
    "\n",
    "# test.head()\n",
    "\n",
    "# data.head()\n",
    "\n",
    "# k=[]\n",
    "# for i in train.columns:\n",
    "#     sigma=train[i].var()\n",
    "# #     print(sigma)\n",
    "#     if(sigma<=0.0025):\n",
    "#         k.append(i)\n",
    "# print(len(k))\n",
    "# print(k)\n",
    "\n",
    "# l=[]\n",
    "# for i in test.columns:\n",
    "#     sigma=test[i].var()\n",
    "# #     print(sigma)\n",
    "#     if(sigma<=0.0025):\n",
    "#         l.append(i)\n",
    "# print(len(l))\n",
    "# print(l)\n",
    "\n",
    "# p=list(set(k).union(set(l)))\n",
    "# len(p)\n",
    "\n",
    "# train.drop(axis=1,columns=p,inplace=True)\n",
    "# test.drop(axis=1,columns=p,inplace=True)\n",
    "\n",
    "# data=pd.concat([train,test],axis=0)\n",
    "# data.shape"
   ]
  },
  {
   "cell_type": "code",
   "execution_count": 50,
   "metadata": {
    "scrolled": true
   },
   "outputs": [
    {
     "data": {
      "text/html": [
       "<div>\n",
       "<style scoped>\n",
       "    .dataframe tbody tr th:only-of-type {\n",
       "        vertical-align: middle;\n",
       "    }\n",
       "\n",
       "    .dataframe tbody tr th {\n",
       "        vertical-align: top;\n",
       "    }\n",
       "\n",
       "    .dataframe thead th {\n",
       "        text-align: right;\n",
       "    }\n",
       "</style>\n",
       "<table border=\"1\" class=\"dataframe\">\n",
       "  <thead>\n",
       "    <tr style=\"text-align: right;\">\n",
       "      <th></th>\n",
       "      <th>LotFrontage</th>\n",
       "      <th>LotArea</th>\n",
       "      <th>OverallQual</th>\n",
       "      <th>OverallCond</th>\n",
       "      <th>YearBuilt</th>\n",
       "      <th>YearRemodAdd</th>\n",
       "      <th>MasVnrArea</th>\n",
       "      <th>BsmtFinSF1</th>\n",
       "      <th>BsmtFinSF2</th>\n",
       "      <th>BsmtUnfSF</th>\n",
       "      <th>...</th>\n",
       "      <th>SaleType_ConLw</th>\n",
       "      <th>SaleType_New</th>\n",
       "      <th>SaleType_Oth</th>\n",
       "      <th>SaleType_WD</th>\n",
       "      <th>SaleCondition_Abnorml</th>\n",
       "      <th>SaleCondition_AdjLand</th>\n",
       "      <th>SaleCondition_Alloca</th>\n",
       "      <th>SaleCondition_Family</th>\n",
       "      <th>SaleCondition_Normal</th>\n",
       "      <th>SaleCondition_Partial</th>\n",
       "    </tr>\n",
       "  </thead>\n",
       "  <tbody>\n",
       "    <tr>\n",
       "      <th>0</th>\n",
       "      <td>5.831328</td>\n",
       "      <td>19.212182</td>\n",
       "      <td>7</td>\n",
       "      <td>2.055642</td>\n",
       "      <td>14.187527</td>\n",
       "      <td>2003</td>\n",
       "      <td>8.059126</td>\n",
       "      <td>11.170327</td>\n",
       "      <td>0.0</td>\n",
       "      <td>7.483296</td>\n",
       "      <td>...</td>\n",
       "      <td>0</td>\n",
       "      <td>0</td>\n",
       "      <td>0</td>\n",
       "      <td>1</td>\n",
       "      <td>0</td>\n",
       "      <td>0</td>\n",
       "      <td>0</td>\n",
       "      <td>0</td>\n",
       "      <td>1</td>\n",
       "      <td>0</td>\n",
       "    </tr>\n",
       "    <tr>\n",
       "      <th>1</th>\n",
       "      <td>6.221214</td>\n",
       "      <td>19.712205</td>\n",
       "      <td>6</td>\n",
       "      <td>2.602594</td>\n",
       "      <td>14.145138</td>\n",
       "      <td>1976</td>\n",
       "      <td>0.000000</td>\n",
       "      <td>12.062832</td>\n",
       "      <td>0.0</td>\n",
       "      <td>8.897844</td>\n",
       "      <td>...</td>\n",
       "      <td>0</td>\n",
       "      <td>0</td>\n",
       "      <td>0</td>\n",
       "      <td>1</td>\n",
       "      <td>0</td>\n",
       "      <td>0</td>\n",
       "      <td>0</td>\n",
       "      <td>0</td>\n",
       "      <td>1</td>\n",
       "      <td>0</td>\n",
       "    </tr>\n",
       "    <tr>\n",
       "      <th>2</th>\n",
       "      <td>5.914940</td>\n",
       "      <td>20.347241</td>\n",
       "      <td>7</td>\n",
       "      <td>2.055642</td>\n",
       "      <td>14.184404</td>\n",
       "      <td>2002</td>\n",
       "      <td>7.646538</td>\n",
       "      <td>10.200343</td>\n",
       "      <td>0.0</td>\n",
       "      <td>9.917060</td>\n",
       "      <td>...</td>\n",
       "      <td>0</td>\n",
       "      <td>0</td>\n",
       "      <td>0</td>\n",
       "      <td>1</td>\n",
       "      <td>0</td>\n",
       "      <td>0</td>\n",
       "      <td>0</td>\n",
       "      <td>0</td>\n",
       "      <td>1</td>\n",
       "      <td>0</td>\n",
       "    </tr>\n",
       "    <tr>\n",
       "      <th>3</th>\n",
       "      <td>5.684507</td>\n",
       "      <td>19.691553</td>\n",
       "      <td>7</td>\n",
       "      <td>2.055642</td>\n",
       "      <td>14.047529</td>\n",
       "      <td>1970</td>\n",
       "      <td>0.000000</td>\n",
       "      <td>8.274266</td>\n",
       "      <td>0.0</td>\n",
       "      <td>10.468500</td>\n",
       "      <td>...</td>\n",
       "      <td>0</td>\n",
       "      <td>0</td>\n",
       "      <td>0</td>\n",
       "      <td>1</td>\n",
       "      <td>1</td>\n",
       "      <td>0</td>\n",
       "      <td>0</td>\n",
       "      <td>0</td>\n",
       "      <td>0</td>\n",
       "      <td>0</td>\n",
       "    </tr>\n",
       "    <tr>\n",
       "      <th>4</th>\n",
       "      <td>6.314735</td>\n",
       "      <td>21.325160</td>\n",
       "      <td>8</td>\n",
       "      <td>2.055642</td>\n",
       "      <td>14.182841</td>\n",
       "      <td>2000</td>\n",
       "      <td>9.391827</td>\n",
       "      <td>10.971129</td>\n",
       "      <td>0.0</td>\n",
       "      <td>10.221051</td>\n",
       "      <td>...</td>\n",
       "      <td>0</td>\n",
       "      <td>0</td>\n",
       "      <td>0</td>\n",
       "      <td>1</td>\n",
       "      <td>0</td>\n",
       "      <td>0</td>\n",
       "      <td>0</td>\n",
       "      <td>0</td>\n",
       "      <td>1</td>\n",
       "      <td>0</td>\n",
       "    </tr>\n",
       "  </tbody>\n",
       "</table>\n",
       "<p>5 rows × 329 columns</p>\n",
       "</div>"
      ],
      "text/plain": [
       "   LotFrontage    LotArea  OverallQual  OverallCond  YearBuilt  YearRemodAdd  \\\n",
       "0     5.831328  19.212182            7     2.055642  14.187527          2003   \n",
       "1     6.221214  19.712205            6     2.602594  14.145138          1976   \n",
       "2     5.914940  20.347241            7     2.055642  14.184404          2002   \n",
       "3     5.684507  19.691553            7     2.055642  14.047529          1970   \n",
       "4     6.314735  21.325160            8     2.055642  14.182841          2000   \n",
       "\n",
       "   MasVnrArea  BsmtFinSF1  BsmtFinSF2  BsmtUnfSF          ...            \\\n",
       "0    8.059126   11.170327         0.0   7.483296          ...             \n",
       "1    0.000000   12.062832         0.0   8.897844          ...             \n",
       "2    7.646538   10.200343         0.0   9.917060          ...             \n",
       "3    0.000000    8.274266         0.0  10.468500          ...             \n",
       "4    9.391827   10.971129         0.0  10.221051          ...             \n",
       "\n",
       "   SaleType_ConLw  SaleType_New  SaleType_Oth  SaleType_WD  \\\n",
       "0               0             0             0            1   \n",
       "1               0             0             0            1   \n",
       "2               0             0             0            1   \n",
       "3               0             0             0            1   \n",
       "4               0             0             0            1   \n",
       "\n",
       "   SaleCondition_Abnorml  SaleCondition_AdjLand  SaleCondition_Alloca  \\\n",
       "0                      0                      0                     0   \n",
       "1                      0                      0                     0   \n",
       "2                      0                      0                     0   \n",
       "3                      1                      0                     0   \n",
       "4                      0                      0                     0   \n",
       "\n",
       "   SaleCondition_Family  SaleCondition_Normal  SaleCondition_Partial  \n",
       "0                     0                     1                      0  \n",
       "1                     0                     1                      0  \n",
       "2                     0                     1                      0  \n",
       "3                     0                     0                      0  \n",
       "4                     0                     1                      0  \n",
       "\n",
       "[5 rows x 329 columns]"
      ]
     },
     "execution_count": 50,
     "metadata": {},
     "output_type": "execute_result"
    }
   ],
   "source": [
    "data.head()"
   ]
  },
  {
   "cell_type": "code",
   "execution_count": 51,
   "metadata": {
    "scrolled": false
   },
   "outputs": [
    {
     "name": "stdout",
     "output_type": "stream",
     "text": [
      "(1450, 329) (1459, 329)\n"
     ]
    }
   ],
   "source": [
    "train=data.iloc[0:1450,:]\n",
    "test=data.iloc[1450:,:]\n",
    "print(train.shape,test.shape)"
   ]
  },
  {
   "cell_type": "code",
   "execution_count": 52,
   "metadata": {},
   "outputs": [],
   "source": [
    "# k=[]\n",
    "# v=0.0055                         \n",
    "# for i in train.columns:\n",
    "#     sigma=train[i].var()\n",
    "# #     print(sigma)\n",
    "#     if(sigma<=v):\n",
    "#         k.append(i)\n",
    "# print(\"The number of features are %d and the features are:\"%len(k))\n",
    "# print(k,\"\\n\")\n",
    "\n",
    "# ## test data \n",
    "# l=[]\n",
    "# for i in test.columns:\n",
    "#     sigma=test[i].var()\n",
    "# #     print(sigma)\n",
    "#     if(sigma<=v):\n",
    "#         l.append(i)        \n",
    "# print(\"The number of features are %d and the features are:\"%len(l))\n",
    "# print(l,\"\\n\")\n",
    "\n",
    "# ## combining the features \n",
    "# p=list(set(k).union(set(l)))\n",
    "# # p.remove('YearBuilt')\n",
    "# print(\"The number of features that are in common\",len(p))"
   ]
  },
  {
   "cell_type": "code",
   "execution_count": 53,
   "metadata": {},
   "outputs": [
    {
     "data": {
      "text/plain": [
       "Index(['MSSubClass_120', 'MSSubClass_150', 'MSSubClass_160', 'MSSubClass_180',\n",
       "       'MSSubClass_190', 'MSSubClass_20', 'MSSubClass_30', 'MSSubClass_40',\n",
       "       'MSSubClass_45', 'MSSubClass_50',\n",
       "       ...\n",
       "       'SaleType_ConLw', 'SaleType_New', 'SaleType_Oth', 'SaleType_WD',\n",
       "       'SaleCondition_Abnorml', 'SaleCondition_AdjLand',\n",
       "       'SaleCondition_Alloca', 'SaleCondition_Family', 'SaleCondition_Normal',\n",
       "       'SaleCondition_Partial'],\n",
       "      dtype='object', length=296)"
      ]
     },
     "execution_count": 53,
     "metadata": {},
     "output_type": "execute_result"
    }
   ],
   "source": [
    "categorical=pd.get_dummies(categorical)\n",
    "categorical.columns"
   ]
  },
  {
   "cell_type": "code",
   "execution_count": 54,
   "metadata": {},
   "outputs": [
    {
     "name": "stdout",
     "output_type": "stream",
     "text": [
      "The number features is: 97\n",
      "['RoofMatl_WdShngl', 'PoolQC_Gd', 'Electrical_FuseP', 'RoofMatl_Tar&Grv', 'SaleType_ConLI', 'GarageType_2Types', 'Condition2_RRNn', 'Heating_GasW', 'MSSubClass_180', 'SaleCondition_Alloca', 'Condition2_RRAe', 'Condition2_Norm', 'Electrical_Mix', 'MiscFeature_TenC', 'Condition2_PosA', 'Neighborhood_Blmngtn', 'Neighborhood_Veenker', 'ExterCond_Ex', 'RoofStyle_Flat', 'PoolQC_Ex', 'Neighborhood_BrDale', 'PoolQC_Fa', 'GarageCond_Po', 'Exterior2nd_Stone', 'PoolQC_None', 'HeatingQC_Po', 'Functional_Sev', 'MiscFeature_Gar2', 'SaleType_ConLw', 'GarageCond_Ex', 'BsmtCond_Po', 'Exterior1st_ImStucc', 'Heating_Floor', 'Heating_GasA', 'RoofMatl_WdShake', 'SaleType_Oth', 'GarageQual_Gd', 'LotConfig_FR3', 'LandSlope_Sev', 'Condition2_PosN', 'RoofStyle_Gambrel', 'Condition1_RRAe', 'MiscFeature_Othr', 'Condition1_RRNe', 'GarageCond_Gd', 'Street_Grvl', 'RoofStyle_Mansard', 'RoofMatl_Roll', 'MSSubClass_150', 'SaleCondition_AdjLand', 'MSSubClass_40', 'Foundation_Wood', 'Exterior2nd_Brk Cmn', 'Functional_Maj2', 'Foundation_Stone', 'Fence_MnWw', 'RoofStyle_Shed', 'Exterior1st_BrkComm', 'GarageQual_Po', 'BsmtFinType2_GLQ', 'HouseStyle_1.5Unf', 'Street_Pave', 'Condition2_Artery', 'GarageQual_Ex', 'SaleType_Con', 'ExterCond_Po', 'MSSubClass_75', 'RoofMatl_Membran', 'MSSubClass_45', 'MSZoning_C (all)', 'Heating_Wall', 'Exterior2nd_Other', 'SaleType_CWD', 'Functional_Maj1', 'LotShape_IR3', 'SaleType_ConLD', 'GarageType_CarPort', 'Condition2_Feedr', 'Heating_Grav', 'Heating_OthW', 'Neighborhood_Blueste', 'Condition1_RRNn', 'MasVnrType_BrkCmn', 'RoofMatl_Metal', 'ExterQual_Fa', 'Exterior1st_CBlock', 'Exterior1st_AsphShn', 'Exterior2nd_ImStucc', 'HouseStyle_2.5Unf', 'Exterior2nd_AsphShn', 'Condition1_PosA', 'MSZoning_RH', 'Condition2_RRAn', 'HouseStyle_2.5Fin', 'Exterior1st_Stone', 'Exterior2nd_CBlock', 'Neighborhood_NPkVill']\n"
     ]
    }
   ],
   "source": [
    "k=[]\n",
    "l=[]\n",
    "for i in categorical.columns:\n",
    "    m1=train[i].mode()[0]\n",
    "    var1=(train[i].value_counts()[m1])/train.shape[0]\n",
    "    m2=test[i].mode()[0]\n",
    "    var2=(test[i].value_counts()[m2])/test.shape[0]\n",
    "    if var1>0.99:\n",
    "        k.append(i)\n",
    "    if var2>0.99:\n",
    "        l.append(i)\n",
    "    \n",
    "\n",
    "p=list(set(k).union(set(l)))\n",
    "print(\"The number features is:\",len(p))\n",
    "print(p)"
   ]
  },
  {
   "cell_type": "code",
   "execution_count": 55,
   "metadata": {},
   "outputs": [
    {
     "name": "stdout",
     "output_type": "stream",
     "text": [
      "(1450, 232) (1459, 232)\n"
     ]
    },
    {
     "name": "stderr",
     "output_type": "stream",
     "text": [
      "/home/suchith/anaconda3/lib/python3.6/site-packages/ipykernel_launcher.py:1: SettingWithCopyWarning: \n",
      "A value is trying to be set on a copy of a slice from a DataFrame\n",
      "\n",
      "See the caveats in the documentation: http://pandas.pydata.org/pandas-docs/stable/indexing.html#indexing-view-versus-copy\n",
      "  \"\"\"Entry point for launching an IPython kernel.\n",
      "/home/suchith/anaconda3/lib/python3.6/site-packages/ipykernel_launcher.py:2: SettingWithCopyWarning: \n",
      "A value is trying to be set on a copy of a slice from a DataFrame\n",
      "\n",
      "See the caveats in the documentation: http://pandas.pydata.org/pandas-docs/stable/indexing.html#indexing-view-versus-copy\n",
      "  \n"
     ]
    }
   ],
   "source": [
    "train.drop(axis=1,columns=p,inplace=True)\n",
    "test.drop(axis=1,columns=p,inplace=True)\n",
    "print(train.shape,test.shape)"
   ]
  },
  {
   "cell_type": "code",
   "execution_count": 56,
   "metadata": {},
   "outputs": [
    {
     "data": {
      "text/plain": [
       "(2909, 232)"
      ]
     },
     "execution_count": 56,
     "metadata": {},
     "output_type": "execute_result"
    }
   ],
   "source": [
    "data=pd.concat([train,test],axis=0)\n",
    "data.shape"
   ]
  },
  {
   "cell_type": "markdown",
   "metadata": {},
   "source": [
    "## TRAINING AND TEST MATRICES"
   ]
  },
  {
   "cell_type": "code",
   "execution_count": 57,
   "metadata": {
    "scrolled": true
   },
   "outputs": [
    {
     "data": {
      "text/plain": [
       "(1450, 232)"
      ]
     },
     "execution_count": 57,
     "metadata": {},
     "output_type": "execute_result"
    }
   ],
   "source": [
    "train.shape"
   ]
  },
  {
   "cell_type": "code",
   "execution_count": 58,
   "metadata": {
    "_cell_guid": "6214a47e-f471-4692-9d8d-5575990e5f40",
    "_uuid": "8af582dfc8920ba4b557b625a0efbd707ecfff56",
    "scrolled": true
   },
   "outputs": [
    {
     "name": "stdout",
     "output_type": "stream",
     "text": [
      "1450\n",
      "Training size : (1450,232)\n",
      "Test size : (1459,232)\n",
      "Target Varaible Size: (1450,)\n"
     ]
    }
   ],
   "source": [
    "# training set has a size of 1450 that is after removal of outlier's\n",
    "m=train.shape[0]\n",
    "print(m)\n",
    "X=data.iloc[0:m,:].values\n",
    "\n",
    "# test set has a size of 1459\n",
    "X_test=data.iloc[m:,:].values\n",
    "\n",
    "y=np.array(saleprice)\n",
    "print(\"Training size : (%d,%d)\"%X.shape)\n",
    "print(\"Test size : (%d,%d)\"%X_test.shape)\n",
    "print(\"Target Varaible Size: (%d,)\"%y.shape)"
   ]
  },
  {
   "cell_type": "markdown",
   "metadata": {
    "_cell_guid": "d780dcaf-e008-408f-8ddf-91d6630d3c61",
    "_uuid": "43c8e7a665733698214be3ed31634214563bff25"
   },
   "source": [
    "## CROSS VALIDATION"
   ]
  },
  {
   "cell_type": "code",
   "execution_count": 59,
   "metadata": {
    "_cell_guid": "6b18de4f-47f5-4227-977f-d3a12314c47e",
    "_uuid": "dc9ee9c99eabb32463ef5032c624264f73e436b6",
    "scrolled": true
   },
   "outputs": [
    {
     "name": "stdout",
     "output_type": "stream",
     "text": [
      "Training size : (1305,232)\n",
      "Cross validation size : (145,232)\n",
      "Target Varaible training Size: (1305,)\n",
      "Target Varaible validation Size: (145,)\n"
     ]
    }
   ],
   "source": [
    "X_train,X_val,y_train,y_val=train_test_split(X,y,test_size=0.1,random_state=0)\n",
    "\n",
    "print(\"Training size : (%d,%d)\"%X_train.shape)\n",
    "print(\"Cross validation size : (%d,%d)\"%X_val.shape)\n",
    "print(\"Target Varaible training Size: (%d,)\"%y_train.shape)\n",
    "print(\"Target Varaible validation Size: (%d,)\"%y_val.shape)"
   ]
  },
  {
   "cell_type": "markdown",
   "metadata": {
    "_cell_guid": "5811bf9c-3c55-4684-b5e8-498cdbf2ece7",
    "_uuid": "824014e454688651c6f5e023b0d0984ba9a02ac1"
   },
   "source": [
    "# MODELS"
   ]
  },
  {
   "cell_type": "markdown",
   "metadata": {
    "_cell_guid": "4a57fce4-80be-44ec-a954-b097eb95b83e",
    "_uuid": "43cd9d5e57d113c736e3fc8585cf31239960c80a"
   },
   "source": [
    "Before modelling we will make a function which can calculate root mean squared logarithmic error."
   ]
  },
  {
   "cell_type": "code",
   "execution_count": 60,
   "metadata": {},
   "outputs": [],
   "source": [
    "def rmsle(y_true,y_pred):\n",
    "    if y_pred.shape[0]!=y_true.shape[0]:\n",
    "        print(\"Error! Array Shapes are not same\")\n",
    "        return\n",
    "    number_of_examples=y_true.shape[0]\n",
    "    y_true=np.log(y_true)\n",
    "    y_pred=np.log(y_pred)\n",
    "    error=math.sqrt(np.sum(np.square(y_true-y_pred))/number_of_examples)\n",
    "    return error"
   ]
  },
  {
   "cell_type": "markdown",
   "metadata": {},
   "source": [
    "## LINEAR REGRESSION"
   ]
  },
  {
   "cell_type": "code",
   "execution_count": 61,
   "metadata": {
    "_cell_guid": "4856401c-d81a-410f-8fa4-a83cd680c96e",
    "_uuid": "7ec36e1022ebe2c622954cfcffc95169823ba9a5",
    "scrolled": true
   },
   "outputs": [
    {
     "name": "stdout",
     "output_type": "stream",
     "text": [
      "Training Score: 0.09272940984535054\n",
      "Validation Score: 0.12065170562100919\n"
     ]
    }
   ],
   "source": [
    "lr=LinearRegression()\n",
    "lr.fit(X_train,y_train)\n",
    "print(\"Training Score:\",rmsle(np.expm1(y_train),np.expm1(lr.predict(X_train))))\n",
    "print(\"Validation Score:\",rmsle(np.expm1(y_val),np.expm1(lr.predict(X_val))))"
   ]
  },
  {
   "cell_type": "markdown",
   "metadata": {},
   "source": [
    "## RIDGE REGRESSION"
   ]
  },
  {
   "cell_type": "code",
   "execution_count": 62,
   "metadata": {
    "_cell_guid": "7bca1b14-b5f0-4071-ba9d-1b2ff8826b49",
    "_uuid": "c5337c95075907594af668ed1d936892f35694ff"
   },
   "outputs": [
    {
     "data": {
      "text/plain": [
       "{'alpha': 10}"
      ]
     },
     "execution_count": 62,
     "metadata": {},
     "output_type": "execute_result"
    }
   ],
   "source": [
    "# GRID SEARCH\n",
    "parameters=[{'alpha':[0.01,0.03,0.06,0.1,0.3,0.6,1,2,3,4,5,6,7,8,9,10]}]\n",
    "ridge=Ridge()\n",
    "gridsearch=GridSearchCV(ridge,parameters,scoring='neg_mean_squared_log_error',cv=10)\n",
    "gridsearch.fit(X_train,y_train)\n",
    "gridsearch.best_params_\n",
    "# gridsearch.fit()"
   ]
  },
  {
   "cell_type": "code",
   "execution_count": 63,
   "metadata": {
    "_cell_guid": "4fd3b8b0-007b-4d60-8d82-0f814c93365f",
    "_uuid": "70f135ab778c93e93135a7825e634e3f07b2fe70"
   },
   "outputs": [
    {
     "name": "stdout",
     "output_type": "stream",
     "text": [
      "Training Score: 0.09795713141425338\n",
      "Validation Score: 0.1017693494786552\n"
     ]
    }
   ],
   "source": [
    "a=gridsearch.best_params_['alpha']\n",
    "ridge=Ridge(alpha=a)\n",
    "ridge.fit(X_train,y_train)\n",
    "print(\"Training Score:\",rmsle(np.expm1(y_train),np.expm1(ridge.predict(X_train))))\n",
    "print(\"Validation Score:\",rmsle(np.expm1(y_val),np.expm1(ridge.predict(X_val))))"
   ]
  },
  {
   "cell_type": "markdown",
   "metadata": {},
   "source": [
    "## LASSO"
   ]
  },
  {
   "cell_type": "code",
   "execution_count": 64,
   "metadata": {
    "scrolled": false
   },
   "outputs": [
    {
     "data": {
      "text/plain": [
       "{'alpha': 0.0006}"
      ]
     },
     "execution_count": 64,
     "metadata": {},
     "output_type": "execute_result"
    }
   ],
   "source": [
    "parameters=[{'alpha':[0.0003,0.0004,0.0005,0.0006,0.0007,0.001,0.003,0.01,0.03,0.06,0.1]}]\n",
    "lasso=Lasso(random_state=42)\n",
    "gridsearch=GridSearchCV(lasso,parameters,scoring='neg_mean_squared_log_error',cv=10)\n",
    "gridsearch.fit(X_train,y_train)\n",
    "gridsearch.best_params_"
   ]
  },
  {
   "cell_type": "code",
   "execution_count": 65,
   "metadata": {},
   "outputs": [
    {
     "name": "stdout",
     "output_type": "stream",
     "text": [
      "Number of variables lasso used is 107\n",
      "Training Score: 0.10275242830052043\n",
      "Validation Score: 0.10053531978592146\n"
     ]
    }
   ],
   "source": [
    "a=gridsearch.best_params_['alpha']\n",
    "lasso=Lasso(alpha=a,random_state=42)\n",
    "lasso.fit(X_train,y_train)\n",
    "print(\"Number of variables lasso used is\",np.sum(lasso.coef_!=0))\n",
    "print(\"Training Score:\",rmsle(np.expm1(y_train),np.expm1(lasso.predict(X_train))))\n",
    "print(\"Validation Score:\",rmsle(np.expm1(y_val),np.expm1(lasso.predict(X_val))))"
   ]
  },
  {
   "cell_type": "markdown",
   "metadata": {},
   "source": [
    "## GRADIENT BOSSITING"
   ]
  },
  {
   "cell_type": "code",
   "execution_count": 66,
   "metadata": {},
   "outputs": [
    {
     "name": "stdout",
     "output_type": "stream",
     "text": [
      "Training Score: 0.08402126402553192\n",
      "Validation Score: 0.11793263643012411\n"
     ]
    }
   ],
   "source": [
    "xgb=XGBRegressor(learning_rate=0.1,n_estimators=100,random_state=42)\n",
    "xgb.fit(X_train,y_train)\n",
    "print(\"Training Score:\",rmsle(np.expm1(y_train),np.expm1(xgb.predict(X_train))))\n",
    "print(\"Validation Score:\",rmsle(np.expm1(y_val),np.expm1(xgb.predict(X_val))))"
   ]
  },
  {
   "cell_type": "code",
   "execution_count": 67,
   "metadata": {},
   "outputs": [
    {
     "name": "stdout",
     "output_type": "stream",
     "text": [
      "[ 116533.109375   157315.03125    183752.8125    ...,  169639.71875\n",
      "  118809.3359375  226429.96875  ]\n"
     ]
    }
   ],
   "source": [
    "gradient_predictions=np.expm1(xgb.predict(X_test))\n",
    "print(gradient_predictions)"
   ]
  },
  {
   "cell_type": "markdown",
   "metadata": {},
   "source": [
    "## ELASTIC NET"
   ]
  },
  {
   "cell_type": "code",
   "execution_count": 68,
   "metadata": {},
   "outputs": [
    {
     "name": "stderr",
     "output_type": "stream",
     "text": [
      "/home/suchith/anaconda3/lib/python3.6/site-packages/sklearn/linear_model/coordinate_descent.py:491: ConvergenceWarning: Objective did not converge. You might want to increase the number of iterations. Fitting data with very small alpha may cause precision problems.\n",
      "  ConvergenceWarning)\n",
      "/home/suchith/anaconda3/lib/python3.6/site-packages/sklearn/linear_model/coordinate_descent.py:491: ConvergenceWarning: Objective did not converge. You might want to increase the number of iterations. Fitting data with very small alpha may cause precision problems.\n",
      "  ConvergenceWarning)\n",
      "/home/suchith/anaconda3/lib/python3.6/site-packages/sklearn/linear_model/coordinate_descent.py:491: ConvergenceWarning: Objective did not converge. You might want to increase the number of iterations. Fitting data with very small alpha may cause precision problems.\n",
      "  ConvergenceWarning)\n",
      "/home/suchith/anaconda3/lib/python3.6/site-packages/sklearn/linear_model/coordinate_descent.py:491: ConvergenceWarning: Objective did not converge. You might want to increase the number of iterations. Fitting data with very small alpha may cause precision problems.\n",
      "  ConvergenceWarning)\n",
      "/home/suchith/anaconda3/lib/python3.6/site-packages/sklearn/linear_model/coordinate_descent.py:491: ConvergenceWarning: Objective did not converge. You might want to increase the number of iterations. Fitting data with very small alpha may cause precision problems.\n",
      "  ConvergenceWarning)\n",
      "/home/suchith/anaconda3/lib/python3.6/site-packages/sklearn/linear_model/coordinate_descent.py:491: ConvergenceWarning: Objective did not converge. You might want to increase the number of iterations. Fitting data with very small alpha may cause precision problems.\n",
      "  ConvergenceWarning)\n",
      "/home/suchith/anaconda3/lib/python3.6/site-packages/sklearn/linear_model/coordinate_descent.py:491: ConvergenceWarning: Objective did not converge. You might want to increase the number of iterations. Fitting data with very small alpha may cause precision problems.\n",
      "  ConvergenceWarning)\n",
      "/home/suchith/anaconda3/lib/python3.6/site-packages/sklearn/linear_model/coordinate_descent.py:491: ConvergenceWarning: Objective did not converge. You might want to increase the number of iterations. Fitting data with very small alpha may cause precision problems.\n",
      "  ConvergenceWarning)\n"
     ]
    },
    {
     "data": {
      "text/plain": [
       "{'alpha': 0.001}"
      ]
     },
     "execution_count": 68,
     "metadata": {},
     "output_type": "execute_result"
    }
   ],
   "source": [
    "parameters=[{'alpha':[0.0003,0.0004,0.0005,0.0006,0.0008,0.0009,0.001]}]\n",
    "eln=ElasticNet(random_state=42)\n",
    "gridsearch=GridSearchCV(eln,parameters,scoring='neg_mean_squared_log_error',cv=10)\n",
    "gridsearch.fit(X_train,y_train)\n",
    "gridsearch.best_params_"
   ]
  },
  {
   "cell_type": "code",
   "execution_count": 69,
   "metadata": {},
   "outputs": [
    {
     "name": "stdout",
     "output_type": "stream",
     "text": [
      "Training Score: 0.10191351057511665\n",
      "Validation Score: 0.10027643645565926\n"
     ]
    }
   ],
   "source": [
    "a=gridsearch.best_params_['alpha']\n",
    "eln=ElasticNet(alpha=a,random_state=42)\n",
    "eln.fit(X_train,y_train)\n",
    "# print(\"Number of variables lasso used is\",np.sum(lasso.coef_!=0))\n",
    "print(\"Training Score:\",rmsle(np.expm1(y_train),np.expm1(eln.predict(X_train))))\n",
    "print(\"Validation Score:\",rmsle(np.expm1(y_val),np.expm1(eln.predict(X_val))))"
   ]
  },
  {
   "cell_type": "markdown",
   "metadata": {},
   "source": [
    "## KERNEL RIDGE"
   ]
  },
  {
   "cell_type": "code",
   "execution_count": 70,
   "metadata": {},
   "outputs": [
    {
     "name": "stdout",
     "output_type": "stream",
     "text": [
      "Training Score: 0.06610372923116259\n",
      "Validation Score: 0.14610337058273612\n"
     ]
    }
   ],
   "source": [
    "krr=KernelRidge(alpha=0.6, kernel='polynomial', degree=2, coef0=2.5)\n",
    "krr.fit(X_train,y_train)\n",
    "print(\"Training Score:\",rmsle(np.expm1(y_train),np.expm1(krr.predict(X_train))))\n",
    "print(\"Validation Score:\",rmsle(np.expm1(y_val),np.expm1(krr.predict(X_val))))"
   ]
  },
  {
   "cell_type": "code",
   "execution_count": 71,
   "metadata": {},
   "outputs": [
    {
     "name": "stdout",
     "output_type": "stream",
     "text": [
      "     Id      SalePrice\n",
      "0  1461  118654.200535\n",
      "1  1462  156489.560453\n",
      "2  1463  181247.632924\n",
      "3  1464  196447.795476\n",
      "4  1465  200977.794508\n",
      "5  1466  171391.853492\n",
      "6  1467  177382.333396\n",
      "7  1468  158136.292287\n",
      "8  1469  201193.566828\n",
      "9  1470  116020.298814\n",
      "     Id      SalePrice\n",
      "0  1461  116756.402833\n",
      "1  1462  164721.456021\n",
      "2  1463  185704.631829\n",
      "3  1464  198285.061623\n",
      "4  1465  199101.564252\n",
      "5  1466  168642.646875\n",
      "6  1467  174307.620036\n",
      "7  1468  160092.540208\n",
      "8  1469  194884.311358\n",
      "9  1470  117777.369639\n"
     ]
    }
   ],
   "source": [
    "##  PREDICTIONS\n",
    "\n",
    "y_lasso=lasso.predict(X_test)\n",
    "y_lasso=np.expm1(y_lasso)\n",
    "ans=pd.DataFrame()\n",
    "ans['Id']=testid\n",
    "ans['SalePrice']=y_lasso\n",
    "print(ans.head(10))\n",
    "\n",
    "ans.to_csv(\"lasso.csv\",index=False)     # 0.12366\n",
    "\n",
    "y_ridge=ridge.predict(X_test)\n",
    "y_ridge=np.expm1(y_ridge)\n",
    "ans=pd.DataFrame()\n",
    "ans['Id']=testid\n",
    "ans['SalePrice']=y_ridge\n",
    "print(ans.head(10))\n",
    "\n",
    "ans.to_csv(\"Ridge.csv\",index=False)     \n",
    "\n",
    "# y_eln=np.expm1(eln.predict(X_test))\n",
    "# y_eln"
   ]
  },
  {
   "cell_type": "code",
   "execution_count": 72,
   "metadata": {},
   "outputs": [
    {
     "name": "stdout",
     "output_type": "stream",
     "text": [
      "The correlation matrix of training predictions is\n",
      " [[ 1.          0.99838891  0.98639892  0.99333997  0.99995541  0.98443575]\n",
      " [ 0.99838891  1.          0.98670815  0.99662737  0.99872582  0.98769159]\n",
      " [ 0.98639892  0.98670815  1.          0.98475629  0.98641909  0.9861336 ]\n",
      " [ 0.99333997  0.99662737  0.98475629  1.          0.99392405  0.99096326]\n",
      " [ 0.99995541  0.99872582  0.98641909  0.99392405  1.          0.98501422]\n",
      " [ 0.98443575  0.98769159  0.9861336   0.99096326  0.98501422  1.        ]]\n",
      "The correlation matrix of validation predictions is\n",
      " [[ 1.          0.99800752  0.98916317  0.9889935   0.99995625  0.96716805]\n",
      " [ 0.99800752  1.          0.98895389  0.99402532  0.99838087  0.97090934]\n",
      " [ 0.98916317  0.98895389  1.          0.98160204  0.98931772  0.95919283]\n",
      " [ 0.9889935   0.99402532  0.98160204  1.          0.98986451  0.97740668]\n",
      " [ 0.99995625  0.99838087  0.98931772  0.98986451  1.          0.967818  ]\n",
      " [ 0.96716805  0.97090934  0.95919283  0.97740668  0.967818    1.        ]]\n"
     ]
    }
   ],
   "source": [
    "m=X_train.shape[0]\n",
    "\n",
    "y1=(lasso.predict(X_train)).reshape((m,1))\n",
    "y2=(ridge.predict(X_train)).reshape((m,1))\n",
    "y3=(xgb.predict(X_train)).reshape((m,1))\n",
    "y4 =(lr.predict(X_train)).reshape((m,1))\n",
    "y5 =(eln.predict(X_train)).reshape((m,1))\n",
    "y6=(krr.predict(X_train)).reshape((m,1))\n",
    "\n",
    "X_new=np.hstack((y1,y2,y3,y4,y5,y6))\n",
    "# print(X_new.shape)\n",
    "\n",
    "correlation=np.corrcoef(X_new.T)\n",
    "print(\"The correlation matrix of training predictions is\\n\",correlation)\n",
    "m1=X_val.shape[0]\n",
    "\n",
    "y1=(lasso.predict(X_val)).reshape((m1,1))\n",
    "y2=(ridge.predict(X_val)).reshape((m1,1))\n",
    "y3=(xgb.predict(X_val)).reshape((m1,1))\n",
    "y4 =(lr.predict(X_val)).reshape((m1,1))\n",
    "y5 =(eln.predict(X_val)).reshape((m1,1))\n",
    "y6 =(krr.predict(X_val)).reshape((m1,1))\n",
    "\n",
    "X_new=np.hstack((y1,y2,y3,y4,y5,y6))\n",
    "\n",
    "correlation=np.corrcoef(X_new.T)\n",
    "print(\"The correlation matrix of validation predictions is\\n\",correlation)"
   ]
  },
  {
   "cell_type": "markdown",
   "metadata": {},
   "source": [
    "## ENSEMBLE"
   ]
  },
  {
   "cell_type": "markdown",
   "metadata": {},
   "source": [
    "### SIMPLE AVERAGING AND WEIGHTED AVERAGING.\n",
    "\n",
    "I have tried with combinations but the results were not improved."
   ]
  },
  {
   "cell_type": "code",
   "execution_count": 73,
   "metadata": {},
   "outputs": [],
   "source": [
    "  ## weighted average.\n",
    "# y_ensemble=y_ridge*0.6+y_lasso*0.2+0.2*y_eln\n",
    "# ans1=pd.DataFrame()\n",
    "# ans1['Id']=testid\n",
    "# ans1['SalePrice']=y_ensemble\n",
    "# ans1.to_csv(\"ensemble.csv\",index=False)\n",
    "# ans1.head(10)\n",
    "\n",
    "# y.shape\n",
    "\n",
    "\n",
    "# THIS IS SOME DIFFERNET METHOD I TRIED BUT THE SCORE GOT WORST.\n",
    "\n",
    "\n",
    "\n",
    "# y1=(lasso.predict(X)).reshape((1450,1))\n",
    "# y2=(ridge.predict(X)).reshape((1450,1))\n",
    "# y3=(xgb.predict(X)).reshape((1450,1))\n",
    "# y4 =(lr.predict(X)).reshape((1450,1))\n",
    "# y5 =(eln.predict(X)).reshape((1450,1))\n",
    "# print(y1.shape,y2.shape,y3.shape,y4.shape,y5.shape)\n",
    "\n",
    "# X_new=np.hstack((y1,y2,y3,y4,y5))\n",
    "# print(X_new.shape)\n",
    "# X_new=np.hstack((y1,y2,y3,y4,y5))\n",
    "# print(X_new.shape)\n",
    "\n",
    "# correlation=np.corrcoef(X_new.T)\n",
    "# print(correlation)\n",
    "# correlation=np.corrcoef(X_new.T)\n",
    "# print(correlation)\n",
    "\n",
    "# X_new_train,X_new_val,y_new_train,y_new_val=train_test_split(X_new,y,test_size=0.1,random_state=0)\n",
    "# print(X_new_train.shape)\n",
    "# print(X_new_val.shape)\n",
    "# print(y_new_train.shape)\n",
    "# print(y_new_val.shape)\n",
    "\n",
    "# lr1=LinearRegression()\n",
    "# lr1.fit(X_new_train,y_new_train)\n",
    "# print(\"Training Score\",rmsle(np.expm1(y_new_train),np.expm1(lr1.predict(X_new_train))))\n",
    "# print(\"validation Score\",rmsle(np.expm1(y_new_val),np.expm1(lr1.predict(X_new_val))))\n",
    "\n",
    "# l=Ridge(alpha=0.01)\n",
    "# l.fit(X_new_train,y_new_train)\n",
    "# print(\"Training Score\",rmsle(np.expm1(y_new_train),np.expm1(l.predict(X_new_train))))\n",
    "# print(\"validation Score\",rmsle(np.expm1(y_new_val),np.expm1(l.predict(X_new_val))))\n",
    "\n",
    "# ls=Lasso(alpha=0.0006,random_state=0)\n",
    "# ls.fit(X_new_train,y_new_train)\n",
    "# print(\"Training Score\",rmsle(np.expm1(y_new_train),np.expm1(ls.predict(X_new_train))))\n",
    "# print(\"validation Score\",rmsle(np.expm1(y_new_val),np.expm1(ls.predict(X_new_val))))\n",
    "\n",
    "\n",
    "# k1=lasso.predict(X_test).reshape((1459,1))\n",
    "# k2=ridge.predict(X_test).reshape((1459,1))\n",
    "# k3=xgb.predict(X_test).reshape((1459,1))\n",
    "# k4=lr.predict(X_test).reshape((1459,1))\n",
    "# k5=eln.predict(X_test).reshape((1459,1))\n",
    "\n",
    "# X_new_test=np.hstack((k1,k2,k3,k4,k5))\n",
    "# y_last=ls.predict(X_new_test)\n",
    "# y_last=np.expm1(y_last)\n",
    "# print(y_last.shape)\n",
    "\n",
    "# ans=pd.DataFrame()\n",
    "# ans['Id']=testid\n",
    "# ans['SalePrice']=y_last\n",
    "# ans.to_csv(\"two_model.csv\",index=False)\n",
    "# ans.head(10)"
   ]
  },
  {
   "cell_type": "markdown",
   "metadata": {},
   "source": [
    "### BAGGING\n",
    "\n",
    "I tried bagging on xgb,elasticNet,lasso. The score has not changed much. Actually the score in validation data has not changed. I have even tried with bags equal to 400."
   ]
  },
  {
   "cell_type": "code",
   "execution_count": 74,
   "metadata": {
    "scrolled": false
   },
   "outputs": [
    {
     "name": "stdout",
     "output_type": "stream",
     "text": [
      "(1305, 100)\n",
      "(145, 100)\n",
      "(1305,)\n",
      "(145,)\n",
      "Training Score: 0.09899114170044106\n",
      "Validation Scoe: 0.10083559039616471\n"
     ]
    }
   ],
   "source": [
    "# bagging\n",
    "model=ElasticNet(alpha=0.0006)\n",
    "seed=0\n",
    "bags=100\n",
    "\n",
    "predictions_train=np.zeros((X_train.shape[0],bags))\n",
    "predictions_val=np.zeros((X_val.shape[0],bags))\n",
    "for i in range(bags):\n",
    "    model.set_params(random_state=(seed+i))\n",
    "    model.fit(X_train,y_train)\n",
    "    predictions_train[:,i]=model.predict(X_train)\n",
    "    predictions_val[:,i]=model.predict(X_val)\n",
    "\n",
    "print(predictions_train.shape)\n",
    "print(predictions_val.shape)\n",
    "\n",
    "predictions_train=np.sum(predictions_train,axis=1)/bags\n",
    "predictions_val=np.sum(predictions_val,axis=1)/bags\n",
    "\n",
    "print(predictions_train.shape)\n",
    "print(predictions_val.shape)\n",
    "\n",
    "print(\"Training Score:\",rmsle(np.expm1(y_train),np.expm1(predictions_train)))\n",
    "print(\"Validation Scoe:\",rmsle(np.expm1(y_val),np.expm1(predictions_val)))"
   ]
  },
  {
   "cell_type": "markdown",
   "metadata": {},
   "source": [
    "## BOOSTING"
   ]
  },
  {
   "cell_type": "code",
   "execution_count": 75,
   "metadata": {},
   "outputs": [
    {
     "name": "stdout",
     "output_type": "stream",
     "text": [
      "Training Score: 0.12024770292483157\n",
      "Validation Score: 0.14894281545772994\n"
     ]
    }
   ],
   "source": [
    "ada=AdaBoostRegressor(ridge,n_estimators=100,random_state=42)\n",
    "ada.fit(X_train,y_train)\n",
    "print(\"Training Score:\",rmsle(np.expm1(y_train),np.expm1(ada.predict(X_train))))\n",
    "print(\"Validation Score:\",rmsle(np.expm1(y_val),np.expm1(ada.predict(X_val))))"
   ]
  },
  {
   "cell_type": "markdown",
   "metadata": {},
   "source": [
    "## STACKING"
   ]
  },
  {
   "cell_type": "markdown",
   "metadata": {},
   "source": [
    "I have tried this type stacking. The results got improved!!"
   ]
  },
  {
   "cell_type": "code",
   "execution_count": 76,
   "metadata": {
    "scrolled": false
   },
   "outputs": [],
   "source": [
    "# # train\n",
    "# y1=(lasso.predict(X_train)).reshape((m,1))\n",
    "# y2=(ridge.predict(X_train)).reshape((m,1))\n",
    "# y3=(xgb.predict(X_train)).reshape((m,1))\n",
    "# y4 =(lr.predict(X_train)).reshape((m,1))\n",
    "# y5 =(eln.predict(X_train)).reshape((m,1))\n",
    "# y6=(krr.predict(X_train)).reshape((m,1))\n",
    "\n",
    "# X_new_train=np.hstack((y1,y3,y4))\n",
    "\n",
    "# # validation \n",
    "# y1_val=(lasso.predict(X_val)).reshape((m1,1))\n",
    "# y2_val=(ridge.predict(X_val)).reshape((m1,1))\n",
    "# y3_val=(xgb.predict(X_val)).reshape((m1,1))\n",
    "# y4_val=(lr.predict(X_val)).reshape((m1,1))\n",
    "# y5_val=(eln.predict(X_val)).reshape((m1,1))\n",
    "# y6_val=(krr.predict(X_val)).reshape((m1,1))\n",
    "\n",
    "# X_new_val=np.hstack((y1_val,y3_val,y4_val))    #y5,y2\n",
    "\n",
    "# # test\n",
    "# y1_test=(lasso.predict(X_test)).reshape((1459,1))\n",
    "# y2_test=(ridge.predict(X_test)).reshape((1459,1))\n",
    "# y3_test=(xgb.predict(X_test)).reshape((1459,1))\n",
    "# y4_test=(lr.predict(X_test)).reshape((1459,1))\n",
    "# y5_test=(eln.predict(X_test)).reshape((1459,1))\n",
    "# y6_test=(krr.predict(X_test)).reshape((1459,1))\n",
    "\n",
    "# X_new_test=np.hstack((y1_test,y3_test,y4_test))     # y5_test,y2_test\n",
    "\n",
    "\n",
    "# # training with linear regression\n",
    "# linear_regression=LinearRegression()\n",
    "# linear_regression.fit(X_new_val,y_val)\n",
    "\n",
    "# # training with xgb\n",
    "# gradient=XGBRegressor()\n",
    "# gradient.fit(X_new_val,y_val)\n",
    "\n",
    "# # training with lasso\n",
    "# reg=Lasso(alpha=0.0006)\n",
    "# reg.fit(X_new_val,y_val)\n",
    "\n",
    "# print(\"Training score:\",rmsle(np.expm1(y_train),np.expm1(linear_regression.predict(X_new_train))))\n",
    "# print(\"Training score:\",rmsle(np.expm1(y_train),np.expm1(gradient.predict(X_new_train))))\n",
    "# print(\"Training score:\",rmsle(np.expm1(y_train),np.expm1(reg.predict(X_new_train))))\n",
    "\n",
    "# # test data...   predictions\n",
    "# y_stack=linear_regression.predict(X_new_test)\n",
    "\n",
    "# stack=pd.DataFrame()\n",
    "# stack['Id']=testid\n",
    "# stack['SalePrice']=np.expm1(y_stack)\n",
    "# stack.head()\n",
    "\n",
    "\n",
    "# stack.to_csv(\"Stacking.csv\",index=False) "
   ]
  },
  {
   "cell_type": "code",
   "execution_count": 77,
   "metadata": {},
   "outputs": [
    {
     "data": {
      "text/plain": [
       "array([ 12.24769912,  12.10901644,  12.31717117, ...,  12.49313327,\n",
       "        11.86446927,  11.90159023])"
      ]
     },
     "execution_count": 77,
     "metadata": {},
     "output_type": "execute_result"
    }
   ],
   "source": [
    "y"
   ]
  },
  {
   "cell_type": "code",
   "execution_count": 78,
   "metadata": {},
   "outputs": [
    {
     "name": "stdout",
     "output_type": "stream",
     "text": [
      "(1450, 3)\n",
      "(1450,)\n",
      "(7295, 3)\n"
     ]
    }
   ],
   "source": [
    "# we will have to split the training set in to n_folds\n",
    "# our training set is X and target is y\n",
    "\n",
    "# base estimators are eln,linear,xgb\n",
    "\n",
    "n_folds=5\n",
    "number_of_base_estimators=3\n",
    "m=X.shape[0]             # number of training examples.\n",
    "mt=X_test.shape[0]       # number of test examples.\n",
    "\n",
    "kfold=KFold(n_splits=n_folds,shuffle=True,random_state=42)\n",
    "\n",
    "predictions=np.zeros((m,number_of_base_estimators))\n",
    "target=np.zeros((m,))\n",
    "\n",
    "predictions_test=np.zeros((n_folds*mt,number_of_base_estimators))\n",
    "\n",
    "k=0\n",
    "p=0\n",
    "size_val=int(m/n_folds)           # size of validation set!!\n",
    "for train_index, val_index in kfold.split(X):\n",
    "    X_train,X_val=X[train_index],X[val_index]\n",
    "    y_train,y_val=y[train_index],y[val_index]\n",
    "    \n",
    "    eln.fit(X_train,y_train)\n",
    "    predictions[k:k+size_val,0]=eln.predict(X_val)\n",
    "    predictions_test[p:p+mt,0]=eln.predict(X_test)\n",
    "    \n",
    "    xgb.fit(X_train,y_train)\n",
    "    predictions[k:k+size_val,1]=xgb.predict(X_val)\n",
    "    predictions_test[p:p+mt,1]=xgb.predict(X_test)\n",
    "    \n",
    "    lr.fit(X_train,y_train)\n",
    "    predictions[k:k+size_val,2]=lr.predict(X_val)\n",
    "    predictions_test[p:p+mt,2]=lr.predict(X_test)\n",
    "    \n",
    "    target[k:k+size_val]=y_val\n",
    "    \n",
    "    k=k+size_val\n",
    "    p=p+mt\n",
    "        \n",
    "print(predictions.shape)\n",
    "print(target.shape)\n",
    "print(predictions_test.shape)\n",
    "\n",
    "# we have to take average of the predictions in the test set\n",
    "predictions_test_final=(predictions_test[0:mt,:]+predictions_test[mt:2*mt,:]+predictions_test[2*mt:3*mt,:]+predictions_test[3*mt:4*mt,:]+predictions_test[4*mt:5*mt,:])/5"
   ]
  },
  {
   "cell_type": "code",
   "execution_count": 79,
   "metadata": {},
   "outputs": [
    {
     "data": {
      "text/plain": [
       "array([ 11.79056478,  11.7745279 ,  11.13460362, ...,  12.098493  ,\n",
       "        11.96972353,  12.49313327])"
      ]
     },
     "execution_count": 79,
     "metadata": {},
     "output_type": "execute_result"
    }
   ],
   "source": [
    "target"
   ]
  },
  {
   "cell_type": "code",
   "execution_count": 80,
   "metadata": {},
   "outputs": [
    {
     "name": "stdout",
     "output_type": "stream",
     "text": [
      "{'alpha': 0.0003}\n"
     ]
    },
    {
     "data": {
      "text/plain": [
       "Lasso(alpha=0.0003, copy_X=True, fit_intercept=True, max_iter=1000,\n",
       "   normalize=False, positive=False, precompute=False, random_state=None,\n",
       "   selection='cyclic', tol=0.0001, warm_start=False)"
      ]
     },
     "execution_count": 80,
     "metadata": {},
     "output_type": "execute_result"
    }
   ],
   "source": [
    "# now the train set is predictions and y is targets.\n",
    "# i will choose lasso as meta model.\n",
    "\n",
    "parameters=[{'alpha':[0.0003,0.0006,0.001,0.003,0.006,0.01,0.03,0.06,0.1,0.3,0.6,1]}]\n",
    "meta=Lasso()\n",
    "gridsearch=GridSearchCV(meta,parameters,scoring='neg_mean_squared_log_error',cv=10)\n",
    "gridsearch.fit(predictions,target)\n",
    "print(gridsearch.best_params_)\n",
    "\n",
    "meta=Lasso(alpha=gridsearch.best_params_['alpha'])\n",
    "meta.fit(predictions,target)"
   ]
  },
  {
   "cell_type": "code",
   "execution_count": 81,
   "metadata": {},
   "outputs": [
    {
     "data": {
      "text/html": [
       "<div>\n",
       "<style scoped>\n",
       "    .dataframe tbody tr th:only-of-type {\n",
       "        vertical-align: middle;\n",
       "    }\n",
       "\n",
       "    .dataframe tbody tr th {\n",
       "        vertical-align: top;\n",
       "    }\n",
       "\n",
       "    .dataframe thead th {\n",
       "        text-align: right;\n",
       "    }\n",
       "</style>\n",
       "<table border=\"1\" class=\"dataframe\">\n",
       "  <thead>\n",
       "    <tr style=\"text-align: right;\">\n",
       "      <th></th>\n",
       "      <th>Id</th>\n",
       "      <th>SalePrice</th>\n",
       "    </tr>\n",
       "  </thead>\n",
       "  <tbody>\n",
       "    <tr>\n",
       "      <th>0</th>\n",
       "      <td>1461</td>\n",
       "      <td>118823.153517</td>\n",
       "    </tr>\n",
       "    <tr>\n",
       "      <th>1</th>\n",
       "      <td>1462</td>\n",
       "      <td>156950.815398</td>\n",
       "    </tr>\n",
       "    <tr>\n",
       "      <th>2</th>\n",
       "      <td>1463</td>\n",
       "      <td>184191.353666</td>\n",
       "    </tr>\n",
       "    <tr>\n",
       "      <th>3</th>\n",
       "      <td>1464</td>\n",
       "      <td>194717.758564</td>\n",
       "    </tr>\n",
       "    <tr>\n",
       "      <th>4</th>\n",
       "      <td>1465</td>\n",
       "      <td>198206.343554</td>\n",
       "    </tr>\n",
       "    <tr>\n",
       "      <th>5</th>\n",
       "      <td>1466</td>\n",
       "      <td>170922.688228</td>\n",
       "    </tr>\n",
       "    <tr>\n",
       "      <th>6</th>\n",
       "      <td>1467</td>\n",
       "      <td>175464.002789</td>\n",
       "    </tr>\n",
       "    <tr>\n",
       "      <th>7</th>\n",
       "      <td>1468</td>\n",
       "      <td>160414.173476</td>\n",
       "    </tr>\n",
       "    <tr>\n",
       "      <th>8</th>\n",
       "      <td>1469</td>\n",
       "      <td>197392.955980</td>\n",
       "    </tr>\n",
       "    <tr>\n",
       "      <th>9</th>\n",
       "      <td>1470</td>\n",
       "      <td>119975.968323</td>\n",
       "    </tr>\n",
       "  </tbody>\n",
       "</table>\n",
       "</div>"
      ],
      "text/plain": [
       "     Id      SalePrice\n",
       "0  1461  118823.153517\n",
       "1  1462  156950.815398\n",
       "2  1463  184191.353666\n",
       "3  1464  194717.758564\n",
       "4  1465  198206.343554\n",
       "5  1466  170922.688228\n",
       "6  1467  175464.002789\n",
       "7  1468  160414.173476\n",
       "8  1469  197392.955980\n",
       "9  1470  119975.968323"
      ]
     },
     "execution_count": 81,
     "metadata": {},
     "output_type": "execute_result"
    }
   ],
   "source": [
    "stack=pd.DataFrame()\n",
    "stack['Id']=testid\n",
    "stack['SalePrice']=np.expm1(meta.predict(predictions_test_final))\n",
    "stack.to_csv(\"STACKING.csv\",index=False)           # will get a 0.12122 score\n",
    "stack.head(10)"
   ]
  },
  {
   "cell_type": "markdown",
   "metadata": {},
   "source": [
    "With stacking the score was 0.12122 and with lasso prediction I got a score of 0.12366. I will ensemble stacking,lasso and xgb predictions."
   ]
  },
  {
   "cell_type": "markdown",
   "metadata": {},
   "source": [
    "## FINAL ENSEMBLE"
   ]
  },
  {
   "cell_type": "code",
   "execution_count": 82,
   "metadata": {},
   "outputs": [
    {
     "data": {
      "text/html": [
       "<div>\n",
       "<style scoped>\n",
       "    .dataframe tbody tr th:only-of-type {\n",
       "        vertical-align: middle;\n",
       "    }\n",
       "\n",
       "    .dataframe tbody tr th {\n",
       "        vertical-align: top;\n",
       "    }\n",
       "\n",
       "    .dataframe thead th {\n",
       "        text-align: right;\n",
       "    }\n",
       "</style>\n",
       "<table border=\"1\" class=\"dataframe\">\n",
       "  <thead>\n",
       "    <tr style=\"text-align: right;\">\n",
       "      <th></th>\n",
       "      <th>Id</th>\n",
       "      <th>SalePrice</th>\n",
       "    </tr>\n",
       "  </thead>\n",
       "  <tbody>\n",
       "    <tr>\n",
       "      <th>0</th>\n",
       "      <td>1461</td>\n",
       "      <td>118454.304339</td>\n",
       "    </tr>\n",
       "    <tr>\n",
       "      <th>1</th>\n",
       "      <td>1462</td>\n",
       "      <td>156936.260706</td>\n",
       "    </tr>\n",
       "    <tr>\n",
       "      <th>2</th>\n",
       "      <td>1463</td>\n",
       "      <td>183684.016333</td>\n",
       "    </tr>\n",
       "    <tr>\n",
       "      <th>3</th>\n",
       "      <td>1464</td>\n",
       "      <td>193862.008519</td>\n",
       "    </tr>\n",
       "    <tr>\n",
       "      <th>4</th>\n",
       "      <td>1465</td>\n",
       "      <td>197283.535445</td>\n",
       "    </tr>\n",
       "  </tbody>\n",
       "</table>\n",
       "</div>"
      ],
      "text/plain": [
       "     Id      SalePrice\n",
       "0  1461  118454.304339\n",
       "1  1462  156936.260706\n",
       "2  1463  183684.016333\n",
       "3  1464  193862.008519\n",
       "4  1465  197283.535445"
      ]
     },
     "execution_count": 82,
     "metadata": {},
     "output_type": "execute_result"
    }
   ],
   "source": [
    "y_final_ensemble=0.70*stack['SalePrice'].values+0.15*y_lasso+0.15*gradient_predictions\n",
    "ensemble=pd.DataFrame()\n",
    "ensemble['Id']=testid\n",
    "ensemble['SalePrice']=y_final_ensemble\n",
    "ensemble.head()"
   ]
  },
  {
   "cell_type": "code",
   "execution_count": 83,
   "metadata": {},
   "outputs": [],
   "source": [
    "ensemble.to_csv(\"FINAL_ENSEMBLING.csv\",index=False) # with this you will get a score of 0.12102"
   ]
  },
  {
   "cell_type": "markdown",
   "metadata": {},
   "source": [
    "## DEEP LEVEL STACKING\n",
    "\n",
    "here i will implement deep level stacking. This may improve the score"
   ]
  },
  {
   "cell_type": "code",
   "execution_count": 84,
   "metadata": {},
   "outputs": [
    {
     "name": "stdout",
     "output_type": "stream",
     "text": [
      "[[ 11.85545739  11.89599037  11.81276514]\n",
      " [ 11.87767396  11.86884403  11.82900038]\n",
      " [ 11.13622687  11.19816589  11.18991051]\n",
      " ..., \n",
      " [ 12.13406723  12.17704105  12.10776944]\n",
      " [ 11.86880795  11.92905235  11.87545875]\n",
      " [ 12.43420704  12.45833588  12.48582038]]\n",
      "[ 11.79056478  11.7745279   11.13460362 ...,  12.098493    11.96972353\n",
      "  12.49313327]\n",
      "[[ 11.70123151  11.74795609  11.60730621]\n",
      " [ 11.96650773  11.96775951  11.95435549]\n",
      " [ 12.11462438  12.11048927  12.14516285]\n",
      " ..., \n",
      " [ 12.0419061   12.00330086  12.08294374]\n",
      " [ 11.68372002  11.69366913  11.68863607]\n",
      " [ 12.32188676  12.3526329   12.24685251]]\n"
     ]
    }
   ],
   "source": [
    "print(predictions)\n",
    "print(target)\n",
    "print(predictions_test_final)"
   ]
  },
  {
   "cell_type": "code",
   "execution_count": 85,
   "metadata": {},
   "outputs": [
    {
     "name": "stdout",
     "output_type": "stream",
     "text": [
      "(1450, 3) (1450,) (1459, 3)\n",
      "(1450, 3) (1450,) (1459, 3)\n"
     ]
    }
   ],
   "source": [
    "# predictions,target,predictions_test_final\n",
    "# the base estimators are same.\n",
    "\n",
    "print(predictions.shape,target.shape,predictions_test_final.shape)\n",
    "\n",
    "number_of_base_estimators=3\n",
    "n_folds=5\n",
    "\n",
    "m=predictions.shape[0]        # number of training examples\n",
    "mt=predictions_test_final.shape[0]     # number of test examples\n",
    "\n",
    "# predictions on train data in level 2\n",
    "predictions_level2=np.zeros((m,number_of_base_estimators))\n",
    "target_level2=np.zeros((m,))\n",
    "\n",
    "# predictions on test data in level 2\n",
    "predictions_test_level2=np.zeros((n_folds*mt,number_of_base_estimators))\n",
    "\n",
    "k=0\n",
    "p=0\n",
    "size_val=int(m/n_folds)\n",
    "\n",
    "# print(size_val)\n",
    "kf=KFold(n_splits=n_folds,shuffle=True,random_state=42)\n",
    "\n",
    "for train_index,val_index in kf.split(predictions):\n",
    "    X_train,X_val=predictions[train_index],predictions[val_index]\n",
    "    y_train,y_val=target[train_index],target[val_index]\n",
    "    \n",
    "    eln.fit(X_train,y_train)\n",
    "    predictions_level2[k:k+size_val,0]=eln.predict(X_val)\n",
    "    predictions_test_level2[p:p+mt,0]=eln.predict(predictions_test_final)\n",
    "    \n",
    "    xgb.fit(X_train,y_train)\n",
    "    predictions_level2[k:k+size_val,1]=xgb.predict(X_val)\n",
    "    predictions_test_level2[p:p+mt,1]=xgb.predict(predictions_test_final)\n",
    "    \n",
    "    lr.fit(X_train,y_train)\n",
    "    predictions_level2[k:k+size_val,2]=lr.predict(X_val)\n",
    "    predictions_test_level2[p:p+mt,2]=lr.predict(predictions_test_final)\n",
    "    \n",
    "    target_level2[k:k+size_val]=y_val\n",
    "    \n",
    "    k=k+size_val\n",
    "    p=p+mt\n",
    "    \n",
    "\n",
    "# averaging test predictions\n",
    "predictions_test_final_level2=np.zeros((mt,number_of_base_estimators))\n",
    "for i in range(n_folds):\n",
    "    predictions_test_final_level2=predictions_test_final_level2+predictions_test_level2[(i*mt):((i+1)*mt),:]\n",
    "\n",
    "predictions_test_final_level2=predictions_test_final_level2/5\n",
    "    \n",
    "print(predictions_level2.shape,target_level2.shape,predictions_test_final_level2.shape)"
   ]
  },
  {
   "cell_type": "code",
   "execution_count": 86,
   "metadata": {},
   "outputs": [
    {
     "data": {
      "text/plain": [
       "0.9201372147445136"
      ]
     },
     "execution_count": 86,
     "metadata": {},
     "output_type": "execute_result"
    }
   ],
   "source": [
    "# choosing the linear regression as meta model \n",
    "\n",
    "# parameters=[{'alpha':[0.0003,0.0006,0.001,0.003,0.006,0.01,0.03,0.06,0.1,0.3,0.6,1]}]\n",
    "# meta=Lasso()\n",
    "# gridsearch=GridSearchCV(meta,parameters,scoring='neg_mean_squared_log_error',cv=10)\n",
    "# gridsearch.fit(predictions_level2,target_level2)\n",
    "# print(gridsearch.best_params_)\n",
    "\n",
    "# meta=Lasso(alpha=gridsearch.best_params_['alpha'])\n",
    "meta=LinearRegression()\n",
    "meta.fit(predictions_level2,target_level2)\n",
    "meta.score(predictions_level2,target_level2)"
   ]
  },
  {
   "cell_type": "code",
   "execution_count": 87,
   "metadata": {},
   "outputs": [
    {
     "data": {
      "text/html": [
       "<div>\n",
       "<style scoped>\n",
       "    .dataframe tbody tr th:only-of-type {\n",
       "        vertical-align: middle;\n",
       "    }\n",
       "\n",
       "    .dataframe tbody tr th {\n",
       "        vertical-align: top;\n",
       "    }\n",
       "\n",
       "    .dataframe thead th {\n",
       "        text-align: right;\n",
       "    }\n",
       "</style>\n",
       "<table border=\"1\" class=\"dataframe\">\n",
       "  <thead>\n",
       "    <tr style=\"text-align: right;\">\n",
       "      <th></th>\n",
       "      <th>Id</th>\n",
       "      <th>SalePrice</th>\n",
       "    </tr>\n",
       "  </thead>\n",
       "  <tbody>\n",
       "    <tr>\n",
       "      <th>0</th>\n",
       "      <td>1461</td>\n",
       "      <td>118096.475069</td>\n",
       "    </tr>\n",
       "    <tr>\n",
       "      <th>1</th>\n",
       "      <td>1462</td>\n",
       "      <td>156613.753177</td>\n",
       "    </tr>\n",
       "    <tr>\n",
       "      <th>2</th>\n",
       "      <td>1463</td>\n",
       "      <td>184426.819100</td>\n",
       "    </tr>\n",
       "    <tr>\n",
       "      <th>3</th>\n",
       "      <td>1464</td>\n",
       "      <td>194995.569812</td>\n",
       "    </tr>\n",
       "    <tr>\n",
       "      <th>4</th>\n",
       "      <td>1465</td>\n",
       "      <td>198001.850715</td>\n",
       "    </tr>\n",
       "    <tr>\n",
       "      <th>5</th>\n",
       "      <td>1466</td>\n",
       "      <td>171179.527220</td>\n",
       "    </tr>\n",
       "    <tr>\n",
       "      <th>6</th>\n",
       "      <td>1467</td>\n",
       "      <td>175110.861512</td>\n",
       "    </tr>\n",
       "    <tr>\n",
       "      <th>7</th>\n",
       "      <td>1468</td>\n",
       "      <td>160589.662061</td>\n",
       "    </tr>\n",
       "    <tr>\n",
       "      <th>8</th>\n",
       "      <td>1469</td>\n",
       "      <td>196894.118057</td>\n",
       "    </tr>\n",
       "    <tr>\n",
       "      <th>9</th>\n",
       "      <td>1470</td>\n",
       "      <td>120422.574163</td>\n",
       "    </tr>\n",
       "  </tbody>\n",
       "</table>\n",
       "</div>"
      ],
      "text/plain": [
       "     Id      SalePrice\n",
       "0  1461  118096.475069\n",
       "1  1462  156613.753177\n",
       "2  1463  184426.819100\n",
       "3  1464  194995.569812\n",
       "4  1465  198001.850715\n",
       "5  1466  171179.527220\n",
       "6  1467  175110.861512\n",
       "7  1468  160589.662061\n",
       "8  1469  196894.118057\n",
       "9  1470  120422.574163"
      ]
     },
     "execution_count": 87,
     "metadata": {},
     "output_type": "execute_result"
    }
   ],
   "source": [
    "stack_level2=pd.DataFrame()\n",
    "stack_level2['Id']=testid\n",
    "stack_level2['SalePrice']=np.expm1(meta.predict(predictions_test_final_level2))\n",
    "stack_level2.to_csv(\"DEEP_STACKING.csv\",index=False) # with this 0.12068 score.\n",
    "stack_level2.head(10)"
   ]
  }
 ],
 "metadata": {
  "kernelspec": {
   "display_name": "Python 3",
   "language": "python",
   "name": "python3"
  },
  "language_info": {
   "codemirror_mode": {
    "name": "ipython",
    "version": 3
   },
   "file_extension": ".py",
   "mimetype": "text/x-python",
   "name": "python",
   "nbconvert_exporter": "python",
   "pygments_lexer": "ipython3",
   "version": "3.6.2"
  }
 },
 "nbformat": 4,
 "nbformat_minor": 1
}
