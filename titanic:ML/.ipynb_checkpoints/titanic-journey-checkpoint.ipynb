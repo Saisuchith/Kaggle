{
 "cells": [
  {
   "cell_type": "markdown",
   "metadata": {
    "_cell_guid": "1a56ea65-31c4-4d9f-8078-2f1dfff0a572",
    "_uuid": "c996f4522018b4d8ad9c74ea6d531d73565c1d8f"
   },
   "source": [
    "## TITANIC JOURNEY"
   ]
  },
  {
   "cell_type": "code",
   "execution_count": 1,
   "metadata": {
    "_cell_guid": "5299beaa-5c25-4546-9fa7-97fb2d4d217f",
    "_uuid": "5b45fd715e6ae9be41c4951ae56dab130868f144"
   },
   "outputs": [],
   "source": [
    "import numpy as np\n",
    "import pandas as pd\n",
    "import seaborn as sns\n",
    "import matplotlib.pyplot as plt\n",
    "\n",
    "# sklearn libraries\n",
    "from sklearn.linear_model import LogisticRegression\n",
    "from sklearn.svm import SVC\n",
    "from sklearn.neighbors import KNeighborsClassifier\n",
    "from sklearn.tree import DecisionTreeClassifier\n",
    "from sklearn.ensemble import RandomForestClassifier\n",
    "from xgboost import XGBClassifier\n",
    "from sklearn.model_selection import train_test_split,KFold,GridSearchCV\n",
    "from scipy.stats import norm,skew"
   ]
  },
  {
   "cell_type": "code",
   "execution_count": 2,
   "metadata": {
    "_cell_guid": "f1909d6f-c11e-4a8d-a6f3-b57a54431537",
    "_uuid": "99d9e3d55fb114dd9fa53797751383b8e7c8ba75"
   },
   "outputs": [
    {
     "name": "stdout",
     "output_type": "stream",
     "text": [
      "Training Size (891,12)\n",
      "Test Size (418,11)\n"
     ]
    }
   ],
   "source": [
    "train=pd.read_csv(\"train.csv\")\n",
    "test=pd.read_csv(\"test.csv\")\n",
    "print(\"Training Size (%d,%d)\"%train.shape)\n",
    "print(\"Test Size (%d,%d)\"%test.shape)"
   ]
  },
  {
   "cell_type": "code",
   "execution_count": 3,
   "metadata": {
    "_cell_guid": "07e45b39-6211-473b-bb31-ae1010bc9c4e",
    "_uuid": "681e1f9dec4f01544167beaadc82044bcfb3a10d"
   },
   "outputs": [
    {
     "data": {
      "text/html": [
       "<div>\n",
       "<style scoped>\n",
       "    .dataframe tbody tr th:only-of-type {\n",
       "        vertical-align: middle;\n",
       "    }\n",
       "\n",
       "    .dataframe tbody tr th {\n",
       "        vertical-align: top;\n",
       "    }\n",
       "\n",
       "    .dataframe thead th {\n",
       "        text-align: right;\n",
       "    }\n",
       "</style>\n",
       "<table border=\"1\" class=\"dataframe\">\n",
       "  <thead>\n",
       "    <tr style=\"text-align: right;\">\n",
       "      <th></th>\n",
       "      <th>PassengerId</th>\n",
       "      <th>Survived</th>\n",
       "      <th>Pclass</th>\n",
       "      <th>Name</th>\n",
       "      <th>Sex</th>\n",
       "      <th>Age</th>\n",
       "      <th>SibSp</th>\n",
       "      <th>Parch</th>\n",
       "      <th>Ticket</th>\n",
       "      <th>Fare</th>\n",
       "      <th>Cabin</th>\n",
       "      <th>Embarked</th>\n",
       "    </tr>\n",
       "  </thead>\n",
       "  <tbody>\n",
       "    <tr>\n",
       "      <th>0</th>\n",
       "      <td>1</td>\n",
       "      <td>0</td>\n",
       "      <td>3</td>\n",
       "      <td>Braund, Mr. Owen Harris</td>\n",
       "      <td>male</td>\n",
       "      <td>22.0</td>\n",
       "      <td>1</td>\n",
       "      <td>0</td>\n",
       "      <td>A/5 21171</td>\n",
       "      <td>7.2500</td>\n",
       "      <td>NaN</td>\n",
       "      <td>S</td>\n",
       "    </tr>\n",
       "    <tr>\n",
       "      <th>1</th>\n",
       "      <td>2</td>\n",
       "      <td>1</td>\n",
       "      <td>1</td>\n",
       "      <td>Cumings, Mrs. John Bradley (Florence Briggs Th...</td>\n",
       "      <td>female</td>\n",
       "      <td>38.0</td>\n",
       "      <td>1</td>\n",
       "      <td>0</td>\n",
       "      <td>PC 17599</td>\n",
       "      <td>71.2833</td>\n",
       "      <td>C85</td>\n",
       "      <td>C</td>\n",
       "    </tr>\n",
       "    <tr>\n",
       "      <th>2</th>\n",
       "      <td>3</td>\n",
       "      <td>1</td>\n",
       "      <td>3</td>\n",
       "      <td>Heikkinen, Miss. Laina</td>\n",
       "      <td>female</td>\n",
       "      <td>26.0</td>\n",
       "      <td>0</td>\n",
       "      <td>0</td>\n",
       "      <td>STON/O2. 3101282</td>\n",
       "      <td>7.9250</td>\n",
       "      <td>NaN</td>\n",
       "      <td>S</td>\n",
       "    </tr>\n",
       "    <tr>\n",
       "      <th>3</th>\n",
       "      <td>4</td>\n",
       "      <td>1</td>\n",
       "      <td>1</td>\n",
       "      <td>Futrelle, Mrs. Jacques Heath (Lily May Peel)</td>\n",
       "      <td>female</td>\n",
       "      <td>35.0</td>\n",
       "      <td>1</td>\n",
       "      <td>0</td>\n",
       "      <td>113803</td>\n",
       "      <td>53.1000</td>\n",
       "      <td>C123</td>\n",
       "      <td>S</td>\n",
       "    </tr>\n",
       "    <tr>\n",
       "      <th>4</th>\n",
       "      <td>5</td>\n",
       "      <td>0</td>\n",
       "      <td>3</td>\n",
       "      <td>Allen, Mr. William Henry</td>\n",
       "      <td>male</td>\n",
       "      <td>35.0</td>\n",
       "      <td>0</td>\n",
       "      <td>0</td>\n",
       "      <td>373450</td>\n",
       "      <td>8.0500</td>\n",
       "      <td>NaN</td>\n",
       "      <td>S</td>\n",
       "    </tr>\n",
       "  </tbody>\n",
       "</table>\n",
       "</div>"
      ],
      "text/plain": [
       "   PassengerId  Survived  Pclass  \\\n",
       "0            1         0       3   \n",
       "1            2         1       1   \n",
       "2            3         1       3   \n",
       "3            4         1       1   \n",
       "4            5         0       3   \n",
       "\n",
       "                                                Name     Sex   Age  SibSp  \\\n",
       "0                            Braund, Mr. Owen Harris    male  22.0      1   \n",
       "1  Cumings, Mrs. John Bradley (Florence Briggs Th...  female  38.0      1   \n",
       "2                             Heikkinen, Miss. Laina  female  26.0      0   \n",
       "3       Futrelle, Mrs. Jacques Heath (Lily May Peel)  female  35.0      1   \n",
       "4                           Allen, Mr. William Henry    male  35.0      0   \n",
       "\n",
       "   Parch            Ticket     Fare Cabin Embarked  \n",
       "0      0         A/5 21171   7.2500   NaN        S  \n",
       "1      0          PC 17599  71.2833   C85        C  \n",
       "2      0  STON/O2. 3101282   7.9250   NaN        S  \n",
       "3      0            113803  53.1000  C123        S  \n",
       "4      0            373450   8.0500   NaN        S  "
      ]
     },
     "execution_count": 3,
     "metadata": {},
     "output_type": "execute_result"
    }
   ],
   "source": [
    "train.head()"
   ]
  },
  {
   "cell_type": "code",
   "execution_count": 4,
   "metadata": {
    "_cell_guid": "6539fdbb-a3fb-4c6d-b9c8-238c8122d053",
    "_uuid": "b802de9343c17cf541d5cde203523cdd839080cb"
   },
   "outputs": [],
   "source": [
    "trainid=train['PassengerId']\n",
    "testid=test['PassengerId']\n",
    "train.drop(columns='PassengerId',inplace=True)\n",
    "test.drop(columns='PassengerId',inplace=True)"
   ]
  },
  {
   "cell_type": "markdown",
   "metadata": {
    "_cell_guid": "b9078c60-bd03-45ad-8477-e439f3ad46ac",
    "_uuid": "5a51b7da8ed8fc1579e5378418e787c573a5ea28"
   },
   "source": [
    "We have to predict the label survived . From the problem statement it is obvious that it depends on Pclass, sex and age Let's Start.\n",
    "\n",
    "About the **DATASET**:\n",
    "\n",
    "survival: Survival \t\n",
    "\n",
    "pclass:Ticket class \t\n",
    "\n",
    "sex:Sex \t\n",
    "\n",
    "Age:Age in years \t\n",
    "\n",
    "sibsp:# of siblings / spouses aboard the Titanic \t\n",
    "\n",
    "parch:# of parents / children aboard the Titanic \t\n",
    "\n",
    "ticket:Ticket number \t\n",
    "\n",
    "fare:Passenger fare \t\n",
    "\n",
    "cabin:Cabin number \t\n",
    "\n",
    "embarked :Embarkment (sometimes embarcation or embarkation) is the process of loading a passenger ship or an airplane with passengers or military personnel\n",
    "\n",
    "**VARIABLE NOTES**:\n",
    "\n",
    "pclass: A proxy for socio-economic status (SES)\n",
    "\n",
    "1st = Upper\n",
    "\n",
    "2nd = Middle\n",
    "\n",
    "3rd = Lower"
   ]
  },
  {
   "cell_type": "markdown",
   "metadata": {
    "_cell_guid": "29544724-4d0f-4aa6-9c0c-b96aa71d1564",
    "_uuid": "f67ca315198bf2ee111c082e9d82dc304ba78697"
   },
   "source": [
    "We seperate the **target variable** "
   ]
  },
  {
   "cell_type": "code",
   "execution_count": 5,
   "metadata": {
    "_cell_guid": "c33b286d-0ed4-4175-9650-08ae3b5fe1c8",
    "_uuid": "3a2b1a6d8acb39d39727803d600837ee5070ebfb"
   },
   "outputs": [],
   "source": [
    "survived=train['Survived']\n",
    "train.drop(columns='Survived',inplace=True)"
   ]
  },
  {
   "cell_type": "code",
   "execution_count": 6,
   "metadata": {
    "_cell_guid": "acf2ae98-a8c0-4938-b6f7-bbe13ae0831a",
    "_uuid": "9e5fea10f1b67225f7290eef8474e97fe8fbf36f"
   },
   "outputs": [],
   "source": [
    "# data=pd.concat([train,test],axis=0)\n",
    "# print(\"Combined Data:(%d,%d)\"%data.shape)"
   ]
  },
  {
   "cell_type": "code",
   "execution_count": 7,
   "metadata": {
    "_cell_guid": "07a6ab90-fcbf-4e9b-95ac-f43d5458b740",
    "_uuid": "4e644f6fc08f95e8116e1e0576eca6284c5ee245"
   },
   "outputs": [
    {
     "name": "stdout",
     "output_type": "stream",
     "text": [
      "<class 'pandas.core.frame.DataFrame'>\n",
      "RangeIndex: 891 entries, 0 to 890\n",
      "Data columns (total 10 columns):\n",
      "Pclass      891 non-null int64\n",
      "Name        891 non-null object\n",
      "Sex         891 non-null object\n",
      "Age         714 non-null float64\n",
      "SibSp       891 non-null int64\n",
      "Parch       891 non-null int64\n",
      "Ticket      891 non-null object\n",
      "Fare        891 non-null float64\n",
      "Cabin       204 non-null object\n",
      "Embarked    889 non-null object\n",
      "dtypes: float64(2), int64(3), object(5)\n",
      "memory usage: 69.7+ KB\n"
     ]
    }
   ],
   "source": [
    "train.info()"
   ]
  },
  {
   "cell_type": "markdown",
   "metadata": {},
   "source": [
    "## HOW MANY SURVIVED"
   ]
  },
  {
   "cell_type": "code",
   "execution_count": 8,
   "metadata": {},
   "outputs": [
    {
     "data": {
      "text/plain": [
       "0    549\n",
       "1    342\n",
       "Name: Survived, dtype: int64"
      ]
     },
     "execution_count": 8,
     "metadata": {},
     "output_type": "execute_result"
    }
   ],
   "source": [
    "survived.value_counts()"
   ]
  },
  {
   "cell_type": "code",
   "execution_count": 9,
   "metadata": {},
   "outputs": [
    {
     "data": {
      "text/plain": [
       "<matplotlib.axes._subplots.AxesSubplot at 0x7f3c682dbba8>"
      ]
     },
     "execution_count": 9,
     "metadata": {},
     "output_type": "execute_result"
    },
    {
     "data": {
      "image/png": "[encoded data removed]",
      "text/plain": [
       "<matplotlib.figure.Figure at 0x7f3c682db278>"
      ]
     },
     "metadata": {},
     "output_type": "display_data"
    }
   ],
   "source": [
    "sns.countplot(survived)"
   ]
  },
  {
   "cell_type": "markdown",
   "metadata": {},
   "source": [
    "Out of **891** Passengers **342** Survived...."
   ]
  },
  {
   "cell_type": "markdown",
   "metadata": {
    "_cell_guid": "e386d267-8a84-47e7-b891-e6031880d8ef",
    "_uuid": "faeca46bae4926bd6db7ffd18a31564b9fd26aea"
   },
   "source": [
    "## FILLING THE MISSING VALUES"
   ]
  },
  {
   "cell_type": "code",
   "execution_count": 10,
   "metadata": {
    "_cell_guid": "bb061766-2e7b-4775-bb25-c4a095a1c755",
    "_uuid": "6d4f8596ab14f374c8e9bbbe5ccf348d64613221",
    "scrolled": true
   },
   "outputs": [
    {
     "data": {
      "text/html": [
       "<div>\n",
       "<style scoped>\n",
       "    .dataframe tbody tr th:only-of-type {\n",
       "        vertical-align: middle;\n",
       "    }\n",
       "\n",
       "    .dataframe tbody tr th {\n",
       "        vertical-align: top;\n",
       "    }\n",
       "\n",
       "    .dataframe thead th {\n",
       "        text-align: right;\n",
       "    }\n",
       "</style>\n",
       "<table border=\"1\" class=\"dataframe\">\n",
       "  <thead>\n",
       "    <tr style=\"text-align: right;\">\n",
       "      <th></th>\n",
       "      <th>MissingValues</th>\n",
       "      <th>Percent</th>\n",
       "    </tr>\n",
       "  </thead>\n",
       "  <tbody>\n",
       "    <tr>\n",
       "      <th>Cabin</th>\n",
       "      <td>687</td>\n",
       "      <td>77.104377</td>\n",
       "    </tr>\n",
       "    <tr>\n",
       "      <th>Age</th>\n",
       "      <td>177</td>\n",
       "      <td>19.865320</td>\n",
       "    </tr>\n",
       "    <tr>\n",
       "      <th>Embarked</th>\n",
       "      <td>2</td>\n",
       "      <td>0.224467</td>\n",
       "    </tr>\n",
       "    <tr>\n",
       "      <th>Pclass</th>\n",
       "      <td>0</td>\n",
       "      <td>0.000000</td>\n",
       "    </tr>\n",
       "    <tr>\n",
       "      <th>Name</th>\n",
       "      <td>0</td>\n",
       "      <td>0.000000</td>\n",
       "    </tr>\n",
       "    <tr>\n",
       "      <th>Sex</th>\n",
       "      <td>0</td>\n",
       "      <td>0.000000</td>\n",
       "    </tr>\n",
       "    <tr>\n",
       "      <th>SibSp</th>\n",
       "      <td>0</td>\n",
       "      <td>0.000000</td>\n",
       "    </tr>\n",
       "    <tr>\n",
       "      <th>Parch</th>\n",
       "      <td>0</td>\n",
       "      <td>0.000000</td>\n",
       "    </tr>\n",
       "    <tr>\n",
       "      <th>Ticket</th>\n",
       "      <td>0</td>\n",
       "      <td>0.000000</td>\n",
       "    </tr>\n",
       "    <tr>\n",
       "      <th>Fare</th>\n",
       "      <td>0</td>\n",
       "      <td>0.000000</td>\n",
       "    </tr>\n",
       "  </tbody>\n",
       "</table>\n",
       "</div>"
      ],
      "text/plain": [
       "          MissingValues    Percent\n",
       "Cabin               687  77.104377\n",
       "Age                 177  19.865320\n",
       "Embarked              2   0.224467\n",
       "Pclass                0   0.000000\n",
       "Name                  0   0.000000\n",
       "Sex                   0   0.000000\n",
       "SibSp                 0   0.000000\n",
       "Parch                 0   0.000000\n",
       "Ticket                0   0.000000\n",
       "Fare                  0   0.000000"
      ]
     },
     "execution_count": 10,
     "metadata": {},
     "output_type": "execute_result"
    }
   ],
   "source": [
    "na_train=pd.DataFrame()\n",
    "na_test=pd.DataFrame()\n",
    "na_train['MissingValues']=train.isnull().sum()\n",
    "na_train['Percent']=(na_train['MissingValues']/train.shape[0])*100\n",
    "na_test['MissingValues']=test.isnull().sum()\n",
    "na_test['Percent']=(na_test['MissingValues']/test.shape[0])*100\n",
    "na_train.sort_values(by='MissingValues',ascending=False,inplace=True)\n",
    "na_test.sort_values(by='MissingValues',ascending=False,inplace=True)\n",
    "na_train"
   ]
  },
  {
   "cell_type": "code",
   "execution_count": 11,
   "metadata": {
    "_cell_guid": "9d66a935-2e25-40da-a3f2-fe815796e0bf",
    "_uuid": "720a134ac55c7c4f0923eecd2c9323fdfbc986f2",
    "scrolled": false
   },
   "outputs": [
    {
     "data": {
      "text/html": [
       "<div>\n",
       "<style scoped>\n",
       "    .dataframe tbody tr th:only-of-type {\n",
       "        vertical-align: middle;\n",
       "    }\n",
       "\n",
       "    .dataframe tbody tr th {\n",
       "        vertical-align: top;\n",
       "    }\n",
       "\n",
       "    .dataframe thead th {\n",
       "        text-align: right;\n",
       "    }\n",
       "</style>\n",
       "<table border=\"1\" class=\"dataframe\">\n",
       "  <thead>\n",
       "    <tr style=\"text-align: right;\">\n",
       "      <th></th>\n",
       "      <th>MissingValues</th>\n",
       "      <th>Percent</th>\n",
       "    </tr>\n",
       "  </thead>\n",
       "  <tbody>\n",
       "    <tr>\n",
       "      <th>Cabin</th>\n",
       "      <td>327</td>\n",
       "      <td>78.229665</td>\n",
       "    </tr>\n",
       "    <tr>\n",
       "      <th>Age</th>\n",
       "      <td>86</td>\n",
       "      <td>20.574163</td>\n",
       "    </tr>\n",
       "    <tr>\n",
       "      <th>Fare</th>\n",
       "      <td>1</td>\n",
       "      <td>0.239234</td>\n",
       "    </tr>\n",
       "    <tr>\n",
       "      <th>Pclass</th>\n",
       "      <td>0</td>\n",
       "      <td>0.000000</td>\n",
       "    </tr>\n",
       "    <tr>\n",
       "      <th>Name</th>\n",
       "      <td>0</td>\n",
       "      <td>0.000000</td>\n",
       "    </tr>\n",
       "    <tr>\n",
       "      <th>Sex</th>\n",
       "      <td>0</td>\n",
       "      <td>0.000000</td>\n",
       "    </tr>\n",
       "    <tr>\n",
       "      <th>SibSp</th>\n",
       "      <td>0</td>\n",
       "      <td>0.000000</td>\n",
       "    </tr>\n",
       "    <tr>\n",
       "      <th>Parch</th>\n",
       "      <td>0</td>\n",
       "      <td>0.000000</td>\n",
       "    </tr>\n",
       "    <tr>\n",
       "      <th>Ticket</th>\n",
       "      <td>0</td>\n",
       "      <td>0.000000</td>\n",
       "    </tr>\n",
       "    <tr>\n",
       "      <th>Embarked</th>\n",
       "      <td>0</td>\n",
       "      <td>0.000000</td>\n",
       "    </tr>\n",
       "  </tbody>\n",
       "</table>\n",
       "</div>"
      ],
      "text/plain": [
       "          MissingValues    Percent\n",
       "Cabin               327  78.229665\n",
       "Age                  86  20.574163\n",
       "Fare                  1   0.239234\n",
       "Pclass                0   0.000000\n",
       "Name                  0   0.000000\n",
       "Sex                   0   0.000000\n",
       "SibSp                 0   0.000000\n",
       "Parch                 0   0.000000\n",
       "Ticket                0   0.000000\n",
       "Embarked              0   0.000000"
      ]
     },
     "execution_count": 11,
     "metadata": {},
     "output_type": "execute_result"
    }
   ],
   "source": [
    "na_test"
   ]
  },
  {
   "cell_type": "markdown",
   "metadata": {
    "_cell_guid": "0f1f381a-af4b-4807-8936-6213f3cd9e51",
    "_uuid": "9006f670c61aa8f61fb6307d684f3e3394c9296f"
   },
   "source": [
    "We can easily see that in **cabin** in train contains 77% of missing values. This is huge. We have to make a way to fill these values.Before filling these values we will see how these values are distributed.\n",
    "\n",
    "Embarked,Pclass,Sex,Sibsp,Parch takes discrete values and age and fare are continous values."
   ]
  },
  {
   "cell_type": "code",
   "execution_count": 12,
   "metadata": {
    "_cell_guid": "da657e0c-bfbc-4201-b6ae-821d550e786f",
    "_uuid": "85a23d21ba8353c35b11ec53ae18c99d6cff6c42",
    "scrolled": false
   },
   "outputs": [
    {
     "data": {
      "image/png": "[encoded data removed]",
      "text/plain": [
       "<matplotlib.figure.Figure at 0x7f3ca06f8898>"
      ]
     },
     "metadata": {},
     "output_type": "display_data"
    },
    {
     "data": {
      "image/png": "[encoded data removed]",
      "text/plain": [
       "<matplotlib.figure.Figure at 0x7f3c5fe17588>"
      ]
     },
     "metadata": {},
     "output_type": "display_data"
    },
    {
     "data": {
      "image/png": "[encoded data removed]",
      "text/plain": [
       "<matplotlib.figure.Figure at 0x7f3c5e5b81d0>"
      ]
     },
     "metadata": {},
     "output_type": "display_data"
    },
    {
     "data": {
      "image/png": "[encoded data removed]",
      "text/plain": [
       "<matplotlib.figure.Figure at 0x7f3c5e5b88d0>"
      ]
     },
     "metadata": {},
     "output_type": "display_data"
    },
    {
     "data": {
      "image/png": "[encoded data removed]",
      "text/plain": [
       "<matplotlib.figure.Figure at 0x7f3c5e52a748>"
      ]
     },
     "metadata": {},
     "output_type": "display_data"
    }
   ],
   "source": [
    "for i in ['Embarked','Pclass','Sex','SibSp','Parch']:\n",
    "    sns.countplot(x=train[i])\n",
    "    plt.show()"
   ]
  },
  {
   "cell_type": "code",
   "execution_count": 13,
   "metadata": {
    "_cell_guid": "83cee619-88c6-4644-bd14-1131c4d00a51",
    "_uuid": "2a1db1fbe5633a87c9cff65f9a7d4bc8ff7b036e",
    "scrolled": false
   },
   "outputs": [
    {
     "data": {
      "text/plain": [
       "<matplotlib.axes._subplots.AxesSubplot at 0x7f3c5e5b3c50>"
      ]
     },
     "execution_count": 13,
     "metadata": {},
     "output_type": "execute_result"
    },
    {
     "data": {
      "image/png": "[encoded data removed]",
      "text/plain": [
       "<matplotlib.figure.Figure at 0x7f3c6625e630>"
      ]
     },
     "metadata": {},
     "output_type": "display_data"
    }
   ],
   "source": [
    "plt.subplots(figsize=(9,9))\n",
    "plt.xticks(rotation='90')\n",
    "sns.countplot(x=train['Age'])"
   ]
  },
  {
   "cell_type": "markdown",
   "metadata": {
    "_cell_guid": "a0b705d8-bf08-40df-8e51-43adf3d91333",
    "_uuid": "01e812ad79eeb2901c23fdea7e427c8803a064f1",
    "collapsed": true
   },
   "source": [
    "Embarked is categorical and S is most occuring element.There are 2 missing values in embarked in train data. I will replace it with S.\n",
    "\n",
    "I will drop the cabin because the percent of missing values is really high and I am not getting any way to fill these values.  It turns out that most of the cabin information is for people in first class because a partial first class passenger list was recovered on the body of one of the stewards.\n",
    "\n",
    "http://www.encyclopedia-titanica.org/cabins.html"
   ]
  },
  {
   "cell_type": "code",
   "execution_count": 14,
   "metadata": {
    "_cell_guid": "167792ef-3d73-44ae-b768-07ab395bd10f",
    "_uuid": "3c9b5068fc436578a64ab7df2f2254e7ba8b0e16"
   },
   "outputs": [
    {
     "name": "stdout",
     "output_type": "stream",
     "text": [
      "Combined Data:(1309,9)\n"
     ]
    }
   ],
   "source": [
    "train.drop(columns='Cabin',inplace=True)\n",
    "test.drop(columns='Cabin',inplace=True)\n",
    "data=pd.concat([train,test],axis=0)\n",
    "print(\"Combined Data:(%d,%d)\"%data.shape)"
   ]
  },
  {
   "cell_type": "markdown",
   "metadata": {
    "_cell_guid": "b60517ab-5b8b-4f26-b705-e8814eedd7f7",
    "_uuid": "c35e0bc7cf3172e8c749128159d309ebdf536e11"
   },
   "source": [
    "I will fill the missing values of Age with the mean of the and for fare also I will do the same and for embarked i will fill it with 'S'"
   ]
  },
  {
   "cell_type": "code",
   "execution_count": 15,
   "metadata": {
    "_cell_guid": "56e43d54-4d93-46e2-81a1-66b57e3317b3",
    "_uuid": "4f4996b26fad82bd0f743c6ff04b3c0b3f833bdc"
   },
   "outputs": [],
   "source": [
    "# filling the missing values \n",
    "# AGE\n",
    "train['Age'].fillna(data['Age'].mean(),inplace=True)\n",
    "test['Age'].fillna(data['Age'].mean(),inplace=True)\n",
    "\n",
    "# Embarked\n",
    "train['Embarked'].fillna('S',inplace=True)\n",
    "\n",
    "# fare\n",
    "test['Fare'].fillna(data['Fare'].mean(),inplace=True)"
   ]
  },
  {
   "cell_type": "markdown",
   "metadata": {
    "_cell_guid": "755ff1ff-6c1d-410f-9f1c-eccda1320d02",
    "_uuid": "2babb5524d39eff67e8bc5553ea133fdd0c5981e",
    "collapsed": true
   },
   "source": [
    "## FEATURE ENGINERRING \n",
    "\n",
    "Let's explore each feature and let's hope we get something good..!!!\n",
    "\n",
    "### PCLASS\n",
    "\n",
    "From the  below graph we can say something:\n",
    "\n",
    "For pclass=3 that is lower class survived passengers are less. So if pclass=3 for a passenger we say that probability of Survival is less.\n",
    "\n",
    "So according to me we will not change this variable."
   ]
  },
  {
   "cell_type": "code",
   "execution_count": 16,
   "metadata": {
    "_cell_guid": "efca113e-acfb-4b03-980f-5d4864f01f61",
    "_uuid": "d41a77fd5958ddd7f4bdeec2e83bc7a2dba36129",
    "scrolled": true
   },
   "outputs": [
    {
     "data": {
      "image/png": "[encoded data removed]",
      "text/plain": [
       "<matplotlib.figure.Figure at 0x7f3c5e47fe10>"
      ]
     },
     "metadata": {},
     "output_type": "display_data"
    },
    {
     "data": {
      "image/png": "[encoded data removed]",
      "text/plain": [
       "<matplotlib.figure.Figure at 0x7f3c5e413048>"
      ]
     },
     "metadata": {},
     "output_type": "display_data"
    },
    {
     "data": {
      "image/png": "[encoded data removed]",
      "text/plain": [
       "<matplotlib.figure.Figure at 0x7f3c5e2f6908>"
      ]
     },
     "metadata": {},
     "output_type": "display_data"
    }
   ],
   "source": [
    "sns.countplot(x=train['Pclass'])\n",
    "plt.show()\n",
    "sns.countplot(x=train['Pclass'],hue=survived)\n",
    "plt.show()\n",
    "sns.barplot(x=train['Pclass'],y=survived)\n",
    "plt.show()"
   ]
  },
  {
   "cell_type": "markdown",
   "metadata": {
    "_cell_guid": "0b9c5307-dead-4b9d-bc47-b043b0fe6765",
    "_uuid": "9d85d323e8f260926acd02ae7c7419db3650d2a8",
    "collapsed": true
   },
   "source": [
    "## SEX \n",
    "\n",
    "From the graph below we can infer (They are done only seeing the graph. The values may be wrong)  \n",
    "\n",
    "- Out of 891 passengers nearly 550 are males and 330(approx) are females. \n",
    "\n",
    "- if a passenger is male the probability of survival is less that is nearly 550 males out of 100 males survived."
   ]
  },
  {
   "cell_type": "code",
   "execution_count": 17,
   "metadata": {
    "_cell_guid": "4b703a54-33d0-429c-b667-55728d220535",
    "_uuid": "bccb5506b7ce3f6493034eda6c332620adcfbad8",
    "scrolled": true
   },
   "outputs": [
    {
     "data": {
      "image/png": "[encoded data removed]",
      "text/plain": [
       "<matplotlib.figure.Figure at 0x7f3c5e26f208>"
      ]
     },
     "metadata": {},
     "output_type": "display_data"
    },
    {
     "data": {
      "image/png": "[encoded data removed]",
      "text/plain": [
       "<matplotlib.figure.Figure at 0x7f3c5e269630>"
      ]
     },
     "metadata": {},
     "output_type": "display_data"
    },
    {
     "data": {
      "image/png": "[encoded data removed]",
      "text/plain": [
       "<matplotlib.figure.Figure at 0x7f3c5e21dc88>"
      ]
     },
     "metadata": {},
     "output_type": "display_data"
    }
   ],
   "source": [
    "sns.countplot(x=train['Sex'])\n",
    "plt.show()\n",
    "sns.countplot(x=train['Sex'],hue=survived)\n",
    "plt.show()\n",
    "sns.barplot(x=train['Sex'],y=survived)\n",
    "plt.show()"
   ]
  },
  {
   "cell_type": "markdown",
   "metadata": {
    "_cell_guid": "8658af7d-c3bc-44a1-9d91-34ed3a6a49de",
    "_uuid": "4138e56f4522378b2d6355edcd4d5c53ce0f5a46",
    "collapsed": true
   },
   "source": [
    "I will label encode male and female as female=1 and male=0."
   ]
  },
  {
   "cell_type": "code",
   "execution_count": 18,
   "metadata": {
    "_cell_guid": "f868fbef-4c2a-47de-b37e-f0ad7bc3fab4",
    "_uuid": "0d3249e18fb1a41338d6df5f0d00701ea4897ea2"
   },
   "outputs": [],
   "source": [
    "# for train data \n",
    "train.loc[train['Sex']=='male','Sex']=0\n",
    "train.loc[train['Sex']=='female','Sex']=1\n",
    "\n",
    "# for test data\n",
    "test.loc[test['Sex']=='male','Sex']=0\n",
    "test.loc[test['Sex']=='female','Sex']=1"
   ]
  },
  {
   "cell_type": "markdown",
   "metadata": {},
   "source": [
    "## NAME \n",
    " \n",
    "This feature is differnet. At first we think that this is of no use.this time before making some conclusions we will go dig deep this time.\n",
    "\n",
    "Before this we will see this feature elements"
   ]
  },
  {
   "cell_type": "code",
   "execution_count": 19,
   "metadata": {
    "scrolled": true
   },
   "outputs": [
    {
     "data": {
      "text/plain": [
       "0                              Braund, Mr. Owen Harris\n",
       "1    Cumings, Mrs. John Bradley (Florence Briggs Th...\n",
       "2                               Heikkinen, Miss. Laina\n",
       "3         Futrelle, Mrs. Jacques Heath (Lily May Peel)\n",
       "4                             Allen, Mr. William Henry\n",
       "5                                     Moran, Mr. James\n",
       "6                              McCarthy, Mr. Timothy J\n",
       "7                       Palsson, Master. Gosta Leonard\n",
       "8    Johnson, Mrs. Oscar W (Elisabeth Vilhelmina Berg)\n",
       "9                  Nasser, Mrs. Nicholas (Adele Achem)\n",
       "Name: Name, dtype: object"
      ]
     },
     "execution_count": 19,
     "metadata": {},
     "output_type": "execute_result"
    }
   ],
   "source": [
    "train['Name'].head(10)"
   ]
  },
  {
   "cell_type": "markdown",
   "metadata": {},
   "source": [
    "The only thing that is useful for us is this information: ** Mr,Master,Miss**. So let's extract this and see how this is related to survival.\n",
    "\n",
    "For extraction, We can easily see that after **comma** Mr,master,miss has started. So my first split is based on it.For more details see the link below\n",
    "\n",
    "https://pandas.pydata.org/pandas-docs/stable/generated/pandas.Series.str.split.html"
   ]
  },
  {
   "cell_type": "code",
   "execution_count": 20,
   "metadata": {},
   "outputs": [],
   "source": [
    "train['Title']=train['Name'].str.split(', ',expand=True)[1].str.split('.',expand=True)[0]\n",
    "\n",
    "# the below is really slow.\n",
    "# for i in train.index: \n",
    "#     train['Title'][i]=train['Name'][i].split()[1]\n",
    "\n",
    "# print(\"Done\")"
   ]
  },
  {
   "cell_type": "code",
   "execution_count": 21,
   "metadata": {},
   "outputs": [
    {
     "data": {
      "text/plain": [
       "Mr              517\n",
       "Miss            182\n",
       "Mrs             125\n",
       "Master           40\n",
       "Dr                7\n",
       "Rev               6\n",
       "Major             2\n",
       "Mlle              2\n",
       "Col               2\n",
       "Mme               1\n",
       "Don               1\n",
       "the Countess      1\n",
       "Jonkheer          1\n",
       "Capt              1\n",
       "Lady              1\n",
       "Ms                1\n",
       "Sir               1\n",
       "Name: Title, dtype: int64"
      ]
     },
     "execution_count": 21,
     "metadata": {},
     "output_type": "execute_result"
    }
   ],
   "source": [
    "train['Title'].value_counts()"
   ]
  },
  {
   "cell_type": "markdown",
   "metadata": {},
   "source": [
    "So we have extracted the titles. Let's see how this is useful"
   ]
  },
  {
   "cell_type": "code",
   "execution_count": 22,
   "metadata": {},
   "outputs": [
    {
     "data": {
      "image/png": "[encoded data removed]",
      "text/plain": [
       "<matplotlib.figure.Figure at 0x7f3c5e1eb898>"
      ]
     },
     "metadata": {},
     "output_type": "display_data"
    },
    {
     "data": {
      "image/png": "[encoded data removed]",
      "text/plain": [
       "<matplotlib.figure.Figure at 0x7f3c5e1ebe10>"
      ]
     },
     "metadata": {},
     "output_type": "display_data"
    }
   ],
   "source": [
    "plt.xticks(rotation='90')\n",
    "sns.countplot(train['Title'])\n",
    "plt.show()\n",
    "plt.xticks(rotation='90')\n",
    "sns.countplot(train['Title'],hue=survived)\n",
    "plt.show()"
   ]
  },
  {
   "cell_type": "markdown",
   "metadata": {},
   "source": [
    "I will combine all the title which has less than 10 value counts"
   ]
  },
  {
   "cell_type": "code",
   "execution_count": 23,
   "metadata": {},
   "outputs": [],
   "source": [
    "minimum=10\n",
    "title_names = (train['Title'].value_counts() < minimum)\n",
    "train['Title'] = train['Title'].apply(lambda x: 'Misc' if title_names.loc[x] == True else x)\n"
   ]
  },
  {
   "cell_type": "code",
   "execution_count": 24,
   "metadata": {},
   "outputs": [
    {
     "data": {
      "text/plain": [
       "Mr        517\n",
       "Miss      182\n",
       "Mrs       125\n",
       "Master     40\n",
       "Misc       27\n",
       "Name: Title, dtype: int64"
      ]
     },
     "execution_count": 24,
     "metadata": {},
     "output_type": "execute_result"
    }
   ],
   "source": [
    "train['Title'].value_counts()"
   ]
  },
  {
   "cell_type": "code",
   "execution_count": 25,
   "metadata": {
    "scrolled": true
   },
   "outputs": [
    {
     "data": {
      "image/png": "[encoded data removed]",
      "text/plain": [
       "<matplotlib.figure.Figure at 0x7f3c5e5b88d0>"
      ]
     },
     "metadata": {},
     "output_type": "display_data"
    },
    {
     "data": {
      "image/png": "[encoded data removed]",
      "text/plain": [
       "<matplotlib.figure.Figure at 0x7f3c5e5b8668>"
      ]
     },
     "metadata": {},
     "output_type": "display_data"
    }
   ],
   "source": [
    "plt.xticks(rotation='90')\n",
    "sns.countplot(train['Title'])\n",
    "plt.show()\n",
    "plt.xticks(rotation='90')\n",
    "sns.countplot(train['Title'],hue=survived)\n",
    "plt.show()"
   ]
  },
  {
   "cell_type": "markdown",
   "metadata": {},
   "source": [
    "From the above graph we can conclude something. If the title is **Mr** the probabilty of survival is less. So this turned out to be a good feature."
   ]
  },
  {
   "cell_type": "code",
   "execution_count": 26,
   "metadata": {},
   "outputs": [],
   "source": [
    "# we will do the same transformation for test also\n",
    "test['Title'] = test['Name'].str.split(\", \", expand=True)[1].str.split(\".\", expand=True)[0]\n",
    "stat_min = 10\n",
    "title_names = (test['Title'].value_counts() < stat_min)\n",
    "test['Title'] = test['Title'].apply(lambda x: 'Misc' if title_names.loc[x] == True else x)"
   ]
  },
  {
   "cell_type": "code",
   "execution_count": 27,
   "metadata": {},
   "outputs": [
    {
     "data": {
      "text/html": [
       "<div>\n",
       "<style scoped>\n",
       "    .dataframe tbody tr th:only-of-type {\n",
       "        vertical-align: middle;\n",
       "    }\n",
       "\n",
       "    .dataframe tbody tr th {\n",
       "        vertical-align: top;\n",
       "    }\n",
       "\n",
       "    .dataframe thead th {\n",
       "        text-align: right;\n",
       "    }\n",
       "</style>\n",
       "<table border=\"1\" class=\"dataframe\">\n",
       "  <thead>\n",
       "    <tr style=\"text-align: right;\">\n",
       "      <th></th>\n",
       "      <th>Pclass</th>\n",
       "      <th>Sex</th>\n",
       "      <th>Age</th>\n",
       "      <th>SibSp</th>\n",
       "      <th>Parch</th>\n",
       "      <th>Ticket</th>\n",
       "      <th>Fare</th>\n",
       "      <th>Embarked</th>\n",
       "      <th>Title</th>\n",
       "    </tr>\n",
       "  </thead>\n",
       "  <tbody>\n",
       "    <tr>\n",
       "      <th>0</th>\n",
       "      <td>3</td>\n",
       "      <td>0</td>\n",
       "      <td>22.0</td>\n",
       "      <td>1</td>\n",
       "      <td>0</td>\n",
       "      <td>A/5 21171</td>\n",
       "      <td>7.2500</td>\n",
       "      <td>S</td>\n",
       "      <td>Mr</td>\n",
       "    </tr>\n",
       "    <tr>\n",
       "      <th>1</th>\n",
       "      <td>1</td>\n",
       "      <td>1</td>\n",
       "      <td>38.0</td>\n",
       "      <td>1</td>\n",
       "      <td>0</td>\n",
       "      <td>PC 17599</td>\n",
       "      <td>71.2833</td>\n",
       "      <td>C</td>\n",
       "      <td>Mrs</td>\n",
       "    </tr>\n",
       "    <tr>\n",
       "      <th>2</th>\n",
       "      <td>3</td>\n",
       "      <td>1</td>\n",
       "      <td>26.0</td>\n",
       "      <td>0</td>\n",
       "      <td>0</td>\n",
       "      <td>STON/O2. 3101282</td>\n",
       "      <td>7.9250</td>\n",
       "      <td>S</td>\n",
       "      <td>Miss</td>\n",
       "    </tr>\n",
       "    <tr>\n",
       "      <th>3</th>\n",
       "      <td>1</td>\n",
       "      <td>1</td>\n",
       "      <td>35.0</td>\n",
       "      <td>1</td>\n",
       "      <td>0</td>\n",
       "      <td>113803</td>\n",
       "      <td>53.1000</td>\n",
       "      <td>S</td>\n",
       "      <td>Mrs</td>\n",
       "    </tr>\n",
       "    <tr>\n",
       "      <th>4</th>\n",
       "      <td>3</td>\n",
       "      <td>0</td>\n",
       "      <td>35.0</td>\n",
       "      <td>0</td>\n",
       "      <td>0</td>\n",
       "      <td>373450</td>\n",
       "      <td>8.0500</td>\n",
       "      <td>S</td>\n",
       "      <td>Mr</td>\n",
       "    </tr>\n",
       "  </tbody>\n",
       "</table>\n",
       "</div>"
      ],
      "text/plain": [
       "   Pclass  Sex   Age  SibSp  Parch            Ticket     Fare Embarked Title\n",
       "0       3    0  22.0      1      0         A/5 21171   7.2500        S    Mr\n",
       "1       1    1  38.0      1      0          PC 17599  71.2833        C   Mrs\n",
       "2       3    1  26.0      0      0  STON/O2. 3101282   7.9250        S  Miss\n",
       "3       1    1  35.0      1      0            113803  53.1000        S   Mrs\n",
       "4       3    0  35.0      0      0            373450   8.0500        S    Mr"
      ]
     },
     "execution_count": 27,
     "metadata": {},
     "output_type": "execute_result"
    }
   ],
   "source": [
    "# so there is no need of name feature. So removing it from the set.\n",
    "train.drop(columns='Name',inplace=True)\n",
    "test.drop(columns='Name',inplace=True)\n",
    "train.head()"
   ]
  },
  {
   "cell_type": "code",
   "execution_count": 28,
   "metadata": {},
   "outputs": [],
   "source": [
    "# label encoding of title value\n",
    "\n",
    "# for train data \n",
    "train.loc[train['Title']=='Mr','Title']=1\n",
    "train.loc[train['Title']=='Miss','Title']=2\n",
    "train.loc[train['Title']=='Mrs','Title']=3\n",
    "train.loc[train['Title']=='Master','Title']=4\n",
    "train.loc[train['Title']=='Misc','Title']=5\n",
    "\n",
    "# for test data\n",
    "test.loc[test['Title']=='Mr','Title']=1\n",
    "test.loc[test['Title']=='Miss','Title']=2\n",
    "test.loc[test['Title']=='Mrs','Title']=3\n",
    "test.loc[test['Title']=='Master','Title']=4\n",
    "test.loc[test['Title']=='Misc','Title']=5\n"
   ]
  },
  {
   "cell_type": "markdown",
   "metadata": {},
   "source": [
    "## AGE \n",
    "\n",
    "This is an interesting feature. In the problem statment it was given that survival depends on the feature.\n"
   ]
  },
  {
   "cell_type": "code",
   "execution_count": 29,
   "metadata": {},
   "outputs": [
    {
     "data": {
      "text/plain": [
       "<matplotlib.axes._subplots.AxesSubplot at 0x7f3c5e2a2588>"
      ]
     },
     "execution_count": 29,
     "metadata": {},
     "output_type": "execute_result"
    },
    {
     "data": {
      "image/png": "[encoded data removed]",
      "text/plain": [
       "<matplotlib.figure.Figure at 0x7f3c5e129e80>"
      ]
     },
     "metadata": {},
     "output_type": "display_data"
    }
   ],
   "source": [
    "sns.distplot(train['Age'])"
   ]
  },
  {
   "cell_type": "code",
   "execution_count": 30,
   "metadata": {},
   "outputs": [
    {
     "data": {
      "text/plain": [
       "count    891.000000\n",
       "mean      29.735277\n",
       "std       13.002218\n",
       "min        0.420000\n",
       "25%       22.000000\n",
       "50%       29.881138\n",
       "75%       35.000000\n",
       "max       80.000000\n",
       "Name: Age, dtype: float64"
      ]
     },
     "execution_count": 30,
     "metadata": {},
     "output_type": "execute_result"
    }
   ],
   "source": [
    "train['Age'].describe()"
   ]
  },
  {
   "cell_type": "code",
   "execution_count": 31,
   "metadata": {},
   "outputs": [
    {
     "data": {
      "text/plain": [
       "<matplotlib.axes._subplots.AxesSubplot at 0x7f3c5e1db4a8>"
      ]
     },
     "execution_count": 31,
     "metadata": {},
     "output_type": "execute_result"
    },
    {
     "data": {
      "image/png": "[encoded data removed]",
      "text/plain": [
       "<matplotlib.figure.Figure at 0x7f3c5e0fd080>"
      ]
     },
     "metadata": {},
     "output_type": "display_data"
    }
   ],
   "source": [
    "sns.boxplot(x=survived,y=train['Age'])"
   ]
  },
  {
   "cell_type": "markdown",
   "metadata": {},
   "source": [
    "From the graph we can conclude something\n",
    "- Most of passenger's with age less than 10 are died. Same is the case with age greater than 50.\n",
    "\n",
    "So i think it's better to convert the age to age groups."
   ]
  },
  {
   "cell_type": "markdown",
   "metadata": {},
   "source": [
    "### MAKING THE AGE  GROUPS\n",
    "\n",
    "Maximum age is near to 80 and i will make 5 age groups. So it will be like if\n",
    "\n",
    "- age is less than 16 then one\n",
    "\n",
    "- age is greater than 16 and less than 32 then two\n",
    "\n",
    "- age is greater than 32 and less than 48 then three\n",
    "\n",
    "- age is greater than 48 and less than 64 then four\n",
    "\n",
    "- and age is greater than 64 then five."
   ]
  },
  {
   "cell_type": "code",
   "execution_count": 32,
   "metadata": {},
   "outputs": [],
   "source": [
    "# AGE IN parts\n",
    "train.loc[ train['Age'] <= 16, 'Age'] = 1\n",
    "train.loc[(train['Age'] > 16) & (train['Age'] <= 32), 'Age'] = 2\n",
    "train.loc[(train['Age'] > 32) & (train['Age'] <= 48), 'Age'] = 3\n",
    "train.loc[(train['Age'] > 48) & (train['Age'] <= 64), 'Age'] = 4\n",
    "train.loc[ train['Age'] > 64, 'Age'] = 5\n",
    "train['Age']=train['Age'].astype(int)\n",
    "\n",
    "test.loc[ test['Age'] <= 16, 'Age'] = 1\n",
    "test.loc[(test['Age'] > 16) & (test['Age'] <= 32), 'Age'] = 2\n",
    "test.loc[(test['Age'] > 32) & (test['Age'] <= 48), 'Age'] = 3\n",
    "test.loc[(test['Age'] > 48) & (test['Age'] <= 64), 'Age'] = 4\n",
    "test.loc[ test['Age'] > 64, 'Age'] = 5\n",
    "test['Age']=test['Age'].astype(int)"
   ]
  },
  {
   "cell_type": "code",
   "execution_count": 33,
   "metadata": {
    "scrolled": true
   },
   "outputs": [
    {
     "data": {
      "image/png": "[encoded data removed]",
      "text/plain": [
       "<matplotlib.figure.Figure at 0x7f3c5e09eef0>"
      ]
     },
     "metadata": {},
     "output_type": "display_data"
    },
    {
     "data": {
      "image/png": "[encoded data removed]",
      "text/plain": [
       "<matplotlib.figure.Figure at 0x7f3c5e224518>"
      ]
     },
     "metadata": {},
     "output_type": "display_data"
    },
    {
     "data": {
      "image/png": "[encoded data removed]",
      "text/plain": [
       "<matplotlib.figure.Figure at 0x7f3c5e265e48>"
      ]
     },
     "metadata": {},
     "output_type": "display_data"
    }
   ],
   "source": [
    "sns.countplot(train['Age'])\n",
    "plt.show()\n",
    "sns.countplot(train['Age'],hue=survived)\n",
    "plt.show()\n",
    "sns.barplot(x=train['Age'],y=survived)\n",
    "plt.show()"
   ]
  },
  {
   "cell_type": "markdown",
   "metadata": {},
   "source": [
    "## Sibsp and Parch\n",
    "\n",
    "These variables are different. Sibsp denotes number of sibling's or spouse abroad the titanic.Likewise Parch is defined as number of parents or children abroad the titanic. We will see first these features individually."
   ]
  },
  {
   "cell_type": "code",
   "execution_count": 34,
   "metadata": {
    "scrolled": true
   },
   "outputs": [
    {
     "data": {
      "image/png": "[encoded data removed]",
      "text/plain": [
       "<matplotlib.figure.Figure at 0x7f3c5dfad908>"
      ]
     },
     "metadata": {},
     "output_type": "display_data"
    },
    {
     "data": {
      "image/png": "[encoded data removed]",
      "text/plain": [
       "<matplotlib.figure.Figure at 0x7f3c5dfadcc0>"
      ]
     },
     "metadata": {},
     "output_type": "display_data"
    },
    {
     "data": {
      "image/png": "[encoded data removed]",
      "text/plain": [
       "<matplotlib.figure.Figure at 0x7f3c5df7cf28>"
      ]
     },
     "metadata": {},
     "output_type": "display_data"
    },
    {
     "data": {
      "image/png": "[encoded data removed]",
      "text/plain": [
       "<matplotlib.figure.Figure at 0x7f3c5e0ac550>"
      ]
     },
     "metadata": {},
     "output_type": "display_data"
    }
   ],
   "source": [
    "sns.countplot(train['SibSp'])\n",
    "plt.show()\n",
    "sns.countplot(train['SibSp'],hue=survived)\n",
    "plt.show()\n",
    "sns.countplot(train['Parch'])\n",
    "plt.show()\n",
    "sns.countplot(train['Parch'],hue=survived)\n",
    "plt.show()"
   ]
  },
  {
   "cell_type": "markdown",
   "metadata": {},
   "source": [
    "From above we can conclude something:\n",
    "- Maximum of passenger's have zero sibling's or spouse and for them the probability is less and same is the case for parch.\n",
    "\n",
    "\n",
    "Consider Parent's children and Siblings Spouse as **family**. Adding this will give a **family**"
   ]
  },
  {
   "cell_type": "code",
   "execution_count": 35,
   "metadata": {},
   "outputs": [],
   "source": [
    "train['Family']=train['SibSp']+train['Parch']\n",
    "test['Family']=test['SibSp']+test['Parch']"
   ]
  },
  {
   "cell_type": "code",
   "execution_count": 36,
   "metadata": {},
   "outputs": [
    {
     "data": {
      "image/png": "[encoded data removed]",
      "text/plain": [
       "<matplotlib.figure.Figure at 0x7f3c5de9f6d8>"
      ]
     },
     "metadata": {},
     "output_type": "display_data"
    },
    {
     "data": {
      "image/png": "[encoded data removed]",
      "text/plain": [
       "<matplotlib.figure.Figure at 0x7f3c5e0b25c0>"
      ]
     },
     "metadata": {},
     "output_type": "display_data"
    }
   ],
   "source": [
    "sns.countplot(train['Family'])\n",
    "plt.show()\n",
    "sns.countplot(train['Family'],hue=survived)\n",
    "plt.show()"
   ]
  },
  {
   "cell_type": "markdown",
   "metadata": {},
   "source": [
    "The graph is dominated by family size zero and here domination means we get a information of survival if family size is zero.\n",
    "\n",
    "So I will make a group if family is greater than or equal to 1"
   ]
  },
  {
   "cell_type": "code",
   "execution_count": 37,
   "metadata": {},
   "outputs": [],
   "source": [
    "train.loc[train['Family']>0,'Family']=1\n",
    "test.loc[test['Family']>0,'Family']=1"
   ]
  },
  {
   "cell_type": "code",
   "execution_count": 38,
   "metadata": {
    "scrolled": true
   },
   "outputs": [
    {
     "data": {
      "image/png": "[encoded data removed]",
      "text/plain": [
       "<matplotlib.figure.Figure at 0x7f3c5e5890f0>"
      ]
     },
     "metadata": {},
     "output_type": "display_data"
    },
    {
     "data": {
      "image/png": "[encoded data removed]",
      "text/plain": [
       "<matplotlib.figure.Figure at 0x7f3c662af828>"
      ]
     },
     "metadata": {},
     "output_type": "display_data"
    }
   ],
   "source": [
    "sns.countplot(train['Family'])\n",
    "plt.show()\n",
    "sns.countplot(train['Family'],hue=survived)\n",
    "plt.show()"
   ]
  },
  {
   "cell_type": "markdown",
   "metadata": {},
   "source": [
    "As we have included family feature so i am removing sibsp and parch."
   ]
  },
  {
   "cell_type": "code",
   "execution_count": 39,
   "metadata": {},
   "outputs": [],
   "source": [
    "train.drop(columns=['Parch','SibSp'],inplace=True)\n",
    "test.drop(columns=['Parch','SibSp'],inplace=True)"
   ]
  },
  {
   "cell_type": "markdown",
   "metadata": {},
   "source": [
    "## FARE\n",
    "\n",
    "One thing we can conclude that for high class the ticket fare ofcourse will be more. So fare can related to survival."
   ]
  },
  {
   "cell_type": "code",
   "execution_count": 40,
   "metadata": {},
   "outputs": [
    {
     "data": {
      "image/png": "[encoded data removed]",
      "text/plain": [
       "<matplotlib.figure.Figure at 0x7f3c6622b6a0>"
      ]
     },
     "metadata": {},
     "output_type": "display_data"
    }
   ],
   "source": [
    "plt.subplots(figsize=(7,7))\n",
    "sns.distplot(train['Fare'])\n",
    "plt.show()"
   ]
  },
  {
   "cell_type": "markdown",
   "metadata": {},
   "source": [
    "From the above plot the values of fares is concentrated between 0 to 100 and for greater than 100 they are less in number."
   ]
  },
  {
   "cell_type": "code",
   "execution_count": 41,
   "metadata": {},
   "outputs": [
    {
     "data": {
      "image/png": "[encoded data removed]",
      "text/plain": [
       "<matplotlib.figure.Figure at 0x7f3c5e566f60>"
      ]
     },
     "metadata": {},
     "output_type": "display_data"
    }
   ],
   "source": [
    "plt.subplots(figsize=(9,9))\n",
    "sns.boxplot(x=survived,y=train['Fare'])\n",
    "plt.show()"
   ]
  },
  {
   "cell_type": "code",
   "execution_count": 42,
   "metadata": {},
   "outputs": [
    {
     "data": {
      "text/plain": [
       "count    891.000000\n",
       "mean      32.204208\n",
       "std       49.693429\n",
       "min        0.000000\n",
       "25%        7.910400\n",
       "50%       14.454200\n",
       "75%       31.000000\n",
       "max      512.329200\n",
       "Name: Fare, dtype: float64"
      ]
     },
     "execution_count": 42,
     "metadata": {},
     "output_type": "execute_result"
    }
   ],
   "source": [
    "train['Fare'].describe()"
   ]
  },
  {
   "cell_type": "markdown",
   "metadata": {},
   "source": [
    "From the quantities above what I make use of 25% percentile value for converting into bands."
   ]
  },
  {
   "cell_type": "code",
   "execution_count": 43,
   "metadata": {},
   "outputs": [],
   "source": [
    "# fare bands like age\n",
    "train.loc[train['Fare']<=7.91 , 'Fare']=0\n",
    "train.loc[(train['Fare']>7.91) & (train['Fare']<=14.454) , 'Fare']=1\n",
    "train.loc[(train['Fare']>14.454) & (train['Fare']<=31) , 'Fare']=2\n",
    "train.loc[train['Fare']>31 , 'Fare']=3\n",
    "train['Fare']=train['Fare'].astype(int)\n",
    "\n",
    "test.loc[test['Fare']<=7.91 , 'Fare']=0\n",
    "test.loc[(test['Fare']>7.91) & (test['Fare']<=14.454) , 'Fare']=1\n",
    "test.loc[(test['Fare']>14.454) & (test['Fare']<=31) , 'Fare']=2\n",
    "test.loc[test['Fare']>31 , 'Fare']=3\n",
    "test['Fare']=test['Fare'].astype(int)"
   ]
  },
  {
   "cell_type": "code",
   "execution_count": 44,
   "metadata": {},
   "outputs": [
    {
     "data": {
      "text/plain": [
       "<matplotlib.axes._subplots.AxesSubplot at 0x7f3c5de98cf8>"
      ]
     },
     "execution_count": 44,
     "metadata": {},
     "output_type": "execute_result"
    },
    {
     "data": {
      "image/png": "[encoded data removed]",
      "text/plain": [
       "<matplotlib.figure.Figure at 0x7f3c5e2da240>"
      ]
     },
     "metadata": {},
     "output_type": "display_data"
    }
   ],
   "source": [
    "sns.countplot(x=train['Fare'],hue=survived)"
   ]
  },
  {
   "cell_type": "markdown",
   "metadata": {},
   "source": [
    "## TICKET\n",
    "\n",
    "This is kind of a differnet feature. I will try to extract information from this feature. Let's hope we get something good.\n",
    "\n",
    "According to description ticket is ticket number. I tried but I can't find any relation with survival( suggestion are welcomed). So I am dropping this feature"
   ]
  },
  {
   "cell_type": "code",
   "execution_count": 45,
   "metadata": {},
   "outputs": [],
   "source": [
    "train.drop(columns='Ticket',inplace=True)\n",
    "test.drop(columns='Ticket',inplace=True)"
   ]
  },
  {
   "cell_type": "markdown",
   "metadata": {},
   "source": [
    "## EMBARKED\n",
    "\n",
    "This feature is easy one. Like we can label encode then as 1,2,3."
   ]
  },
  {
   "cell_type": "code",
   "execution_count": 46,
   "metadata": {},
   "outputs": [
    {
     "data": {
      "image/png": "[encoded data removed]",
      "text/plain": [
       "<matplotlib.figure.Figure at 0x7f3c658ff2b0>"
      ]
     },
     "metadata": {},
     "output_type": "display_data"
    },
    {
     "data": {
      "image/png": "[encoded data removed]",
      "text/plain": [
       "<matplotlib.figure.Figure at 0x7f3c5df8bac8>"
      ]
     },
     "metadata": {},
     "output_type": "display_data"
    }
   ],
   "source": [
    "sns.countplot(train['Embarked'])\n",
    "plt.show()\n",
    "sns.countplot(train['Embarked'],hue=survived)\n",
    "plt.show()"
   ]
  },
  {
   "cell_type": "code",
   "execution_count": 47,
   "metadata": {},
   "outputs": [],
   "source": [
    "train.Embarked=train.Embarked.replace(['C','S','Q'],[1,2,3])\n",
    "test.Embarked=test.Embarked.replace(['C','S','Q'],[1,2,3])"
   ]
  },
  {
   "cell_type": "markdown",
   "metadata": {},
   "source": [
    "## MORE PREPROCESSING"
   ]
  },
  {
   "cell_type": "code",
   "execution_count": 48,
   "metadata": {},
   "outputs": [
    {
     "data": {
      "text/html": [
       "<div>\n",
       "<style scoped>\n",
       "    .dataframe tbody tr th:only-of-type {\n",
       "        vertical-align: middle;\n",
       "    }\n",
       "\n",
       "    .dataframe tbody tr th {\n",
       "        vertical-align: top;\n",
       "    }\n",
       "\n",
       "    .dataframe thead th {\n",
       "        text-align: right;\n",
       "    }\n",
       "</style>\n",
       "<table border=\"1\" class=\"dataframe\">\n",
       "  <thead>\n",
       "    <tr style=\"text-align: right;\">\n",
       "      <th></th>\n",
       "      <th>Pclass</th>\n",
       "      <th>Sex</th>\n",
       "      <th>Age</th>\n",
       "      <th>Fare</th>\n",
       "      <th>Embarked</th>\n",
       "      <th>Title</th>\n",
       "      <th>Family</th>\n",
       "    </tr>\n",
       "  </thead>\n",
       "  <tbody>\n",
       "    <tr>\n",
       "      <th>0</th>\n",
       "      <td>3</td>\n",
       "      <td>0</td>\n",
       "      <td>2</td>\n",
       "      <td>0</td>\n",
       "      <td>2</td>\n",
       "      <td>1</td>\n",
       "      <td>1</td>\n",
       "    </tr>\n",
       "    <tr>\n",
       "      <th>1</th>\n",
       "      <td>1</td>\n",
       "      <td>1</td>\n",
       "      <td>3</td>\n",
       "      <td>3</td>\n",
       "      <td>1</td>\n",
       "      <td>3</td>\n",
       "      <td>1</td>\n",
       "    </tr>\n",
       "    <tr>\n",
       "      <th>2</th>\n",
       "      <td>3</td>\n",
       "      <td>1</td>\n",
       "      <td>2</td>\n",
       "      <td>1</td>\n",
       "      <td>2</td>\n",
       "      <td>2</td>\n",
       "      <td>0</td>\n",
       "    </tr>\n",
       "    <tr>\n",
       "      <th>3</th>\n",
       "      <td>1</td>\n",
       "      <td>1</td>\n",
       "      <td>3</td>\n",
       "      <td>3</td>\n",
       "      <td>2</td>\n",
       "      <td>3</td>\n",
       "      <td>1</td>\n",
       "    </tr>\n",
       "    <tr>\n",
       "      <th>4</th>\n",
       "      <td>3</td>\n",
       "      <td>0</td>\n",
       "      <td>3</td>\n",
       "      <td>1</td>\n",
       "      <td>2</td>\n",
       "      <td>1</td>\n",
       "      <td>0</td>\n",
       "    </tr>\n",
       "  </tbody>\n",
       "</table>\n",
       "</div>"
      ],
      "text/plain": [
       "   Pclass  Sex  Age  Fare  Embarked  Title  Family\n",
       "0       3    0    2     0         2      1       1\n",
       "1       1    1    3     3         1      3       1\n",
       "2       3    1    2     1         2      2       0\n",
       "3       1    1    3     3         2      3       1\n",
       "4       3    0    3     1         2      1       0"
      ]
     },
     "execution_count": 48,
     "metadata": {},
     "output_type": "execute_result"
    }
   ],
   "source": [
    "train.head()"
   ]
  },
  {
   "cell_type": "code",
   "execution_count": 49,
   "metadata": {},
   "outputs": [
    {
     "data": {
      "text/html": [
       "<div>\n",
       "<style scoped>\n",
       "    .dataframe tbody tr th:only-of-type {\n",
       "        vertical-align: middle;\n",
       "    }\n",
       "\n",
       "    .dataframe tbody tr th {\n",
       "        vertical-align: top;\n",
       "    }\n",
       "\n",
       "    .dataframe thead th {\n",
       "        text-align: right;\n",
       "    }\n",
       "</style>\n",
       "<table border=\"1\" class=\"dataframe\">\n",
       "  <thead>\n",
       "    <tr style=\"text-align: right;\">\n",
       "      <th></th>\n",
       "      <th>Pclass</th>\n",
       "      <th>Sex</th>\n",
       "      <th>Age</th>\n",
       "      <th>Fare</th>\n",
       "      <th>Embarked</th>\n",
       "      <th>Title</th>\n",
       "      <th>Family</th>\n",
       "    </tr>\n",
       "  </thead>\n",
       "  <tbody>\n",
       "    <tr>\n",
       "      <th>0</th>\n",
       "      <td>3</td>\n",
       "      <td>0</td>\n",
       "      <td>3</td>\n",
       "      <td>0</td>\n",
       "      <td>3</td>\n",
       "      <td>1</td>\n",
       "      <td>0</td>\n",
       "    </tr>\n",
       "    <tr>\n",
       "      <th>1</th>\n",
       "      <td>3</td>\n",
       "      <td>1</td>\n",
       "      <td>3</td>\n",
       "      <td>0</td>\n",
       "      <td>2</td>\n",
       "      <td>3</td>\n",
       "      <td>1</td>\n",
       "    </tr>\n",
       "    <tr>\n",
       "      <th>2</th>\n",
       "      <td>2</td>\n",
       "      <td>0</td>\n",
       "      <td>4</td>\n",
       "      <td>1</td>\n",
       "      <td>3</td>\n",
       "      <td>1</td>\n",
       "      <td>0</td>\n",
       "    </tr>\n",
       "    <tr>\n",
       "      <th>3</th>\n",
       "      <td>3</td>\n",
       "      <td>0</td>\n",
       "      <td>2</td>\n",
       "      <td>1</td>\n",
       "      <td>2</td>\n",
       "      <td>1</td>\n",
       "      <td>0</td>\n",
       "    </tr>\n",
       "    <tr>\n",
       "      <th>4</th>\n",
       "      <td>3</td>\n",
       "      <td>1</td>\n",
       "      <td>2</td>\n",
       "      <td>1</td>\n",
       "      <td>2</td>\n",
       "      <td>3</td>\n",
       "      <td>1</td>\n",
       "    </tr>\n",
       "  </tbody>\n",
       "</table>\n",
       "</div>"
      ],
      "text/plain": [
       "   Pclass  Sex  Age  Fare  Embarked  Title  Family\n",
       "0       3    0    3     0         3      1       0\n",
       "1       3    1    3     0         2      3       1\n",
       "2       2    0    4     1         3      1       0\n",
       "3       3    0    2     1         2      1       0\n",
       "4       3    1    2     1         2      3       1"
      ]
     },
     "execution_count": 49,
     "metadata": {},
     "output_type": "execute_result"
    }
   ],
   "source": [
    "test.head()"
   ]
  },
  {
   "cell_type": "markdown",
   "metadata": {},
   "source": [
    "It's worth to mention that one hot encoding increase the performance of linear models. It sometimes decrease the performance of tree based models."
   ]
  },
  {
   "cell_type": "code",
   "execution_count": 50,
   "metadata": {},
   "outputs": [
    {
     "name": "stdout",
     "output_type": "stream",
     "text": [
      "(891, 17) (418, 17)\n"
     ]
    }
   ],
   "source": [
    "train['Pclass']=train['Pclass'].astype(str)\n",
    "train['Age']=train['Age'].astype(str)\n",
    "train['Fare']=train['Fare'].astype(str)\n",
    "train['Embarked']=train['Embarked'].astype(str)\n",
    "train['Title']=train['Title'].astype(str)\n",
    "\n",
    "test['Pclass']=test['Pclass'].astype(str)\n",
    "test['Age']=test['Age'].astype(str)\n",
    "test['Fare']=test['Fare'].astype(str)\n",
    "test['Embarked']=test['Embarked'].astype(str)\n",
    "test['Title']=test['Title'].astype(str)\n",
    "\n",
    "train=pd.get_dummies(train,drop_first=True)\n",
    "test=pd.get_dummies(test,drop_first=True)\n",
    "\n",
    "print(train.shape,test.shape)"
   ]
  },
  {
   "cell_type": "markdown",
   "metadata": {},
   "source": [
    "## CROSS VALIDATION"
   ]
  },
  {
   "cell_type": "code",
   "execution_count": 51,
   "metadata": {},
   "outputs": [
    {
     "name": "stdout",
     "output_type": "stream",
     "text": [
      "(891, 17) (418, 17) (891,)\n"
     ]
    }
   ],
   "source": [
    "X=np.array(train)\n",
    "y=np.array(survived)\n",
    "X_test=np.array(test)\n",
    "print(X.shape,X_test.shape,y.shape)"
   ]
  },
  {
   "cell_type": "code",
   "execution_count": 52,
   "metadata": {},
   "outputs": [
    {
     "name": "stdout",
     "output_type": "stream",
     "text": [
      "(801, 17) (801,) (90, 17) (90,)\n"
     ]
    }
   ],
   "source": [
    "X_train,X_val,y_train,y_val=train_test_split(X,y,test_size=0.1,random_state=42)\n",
    "print(X_train.shape,y_train.shape,X_val.shape,y_val.shape)"
   ]
  },
  {
   "cell_type": "markdown",
   "metadata": {},
   "source": [
    "## LOGISTIC REGRESSION"
   ]
  },
  {
   "cell_type": "code",
   "execution_count": 53,
   "metadata": {},
   "outputs": [
    {
     "name": "stdout",
     "output_type": "stream",
     "text": [
      "Training Accuracy: 0.815230961298\n",
      "Validation Accuracy: 0.822222222222\n"
     ]
    }
   ],
   "source": [
    "lr=LogisticRegression()\n",
    "lr.fit(X_train,y_train)\n",
    "print(\"Training Accuracy:\",lr.score(X_train,y_train))\n",
    "print(\"Validation Accuracy:\",lr.score(X_val,y_val))"
   ]
  },
  {
   "cell_type": "markdown",
   "metadata": {},
   "source": [
    "## DECISION TREE\n",
    "\n",
    "We can see it overfits the data"
   ]
  },
  {
   "cell_type": "code",
   "execution_count": 54,
   "metadata": {},
   "outputs": [
    {
     "name": "stdout",
     "output_type": "stream",
     "text": [
      "Training Accuracy: 0.871410736579\n",
      "Validation Accuracy: 0.833333333333\n"
     ]
    }
   ],
   "source": [
    "dt=DecisionTreeClassifier(random_state=42)\n",
    "dt.fit(X_train,y_train)\n",
    "print(\"Training Accuracy:\",dt.score(X_train,y_train))\n",
    "print(\"Validation Accuracy:\",dt.score(X_val,y_val))"
   ]
  },
  {
   "cell_type": "code",
   "execution_count": 55,
   "metadata": {},
   "outputs": [
    {
     "data": {
      "text/html": [
       "<div>\n",
       "<style scoped>\n",
       "    .dataframe tbody tr th:only-of-type {\n",
       "        vertical-align: middle;\n",
       "    }\n",
       "\n",
       "    .dataframe tbody tr th {\n",
       "        vertical-align: top;\n",
       "    }\n",
       "\n",
       "    .dataframe thead th {\n",
       "        text-align: right;\n",
       "    }\n",
       "</style>\n",
       "<table border=\"1\" class=\"dataframe\">\n",
       "  <thead>\n",
       "    <tr style=\"text-align: right;\">\n",
       "      <th></th>\n",
       "      <th>PassengerId</th>\n",
       "      <th>Survived</th>\n",
       "    </tr>\n",
       "  </thead>\n",
       "  <tbody>\n",
       "    <tr>\n",
       "      <th>0</th>\n",
       "      <td>892</td>\n",
       "      <td>0</td>\n",
       "    </tr>\n",
       "    <tr>\n",
       "      <th>1</th>\n",
       "      <td>893</td>\n",
       "      <td>0</td>\n",
       "    </tr>\n",
       "    <tr>\n",
       "      <th>2</th>\n",
       "      <td>894</td>\n",
       "      <td>0</td>\n",
       "    </tr>\n",
       "    <tr>\n",
       "      <th>3</th>\n",
       "      <td>895</td>\n",
       "      <td>0</td>\n",
       "    </tr>\n",
       "    <tr>\n",
       "      <th>4</th>\n",
       "      <td>896</td>\n",
       "      <td>1</td>\n",
       "    </tr>\n",
       "    <tr>\n",
       "      <th>5</th>\n",
       "      <td>897</td>\n",
       "      <td>0</td>\n",
       "    </tr>\n",
       "    <tr>\n",
       "      <th>6</th>\n",
       "      <td>898</td>\n",
       "      <td>1</td>\n",
       "    </tr>\n",
       "    <tr>\n",
       "      <th>7</th>\n",
       "      <td>899</td>\n",
       "      <td>0</td>\n",
       "    </tr>\n",
       "    <tr>\n",
       "      <th>8</th>\n",
       "      <td>900</td>\n",
       "      <td>1</td>\n",
       "    </tr>\n",
       "    <tr>\n",
       "      <th>9</th>\n",
       "      <td>901</td>\n",
       "      <td>0</td>\n",
       "    </tr>\n",
       "  </tbody>\n",
       "</table>\n",
       "</div>"
      ],
      "text/plain": [
       "   PassengerId  Survived\n",
       "0          892         0\n",
       "1          893         0\n",
       "2          894         0\n",
       "3          895         0\n",
       "4          896         1\n",
       "5          897         0\n",
       "6          898         1\n",
       "7          899         0\n",
       "8          900         1\n",
       "9          901         0"
      ]
     },
     "execution_count": 55,
     "metadata": {},
     "output_type": "execute_result"
    }
   ],
   "source": [
    "ans=pd.DataFrame()\n",
    "ans['PassengerId']=testid\n",
    "ans['Survived']=dt.predict(X_test).astype(int)\n",
    "ans.to_csv(\"Decision_journey.csv\",index=False)\n",
    "ans.head(10)"
   ]
  },
  {
   "cell_type": "markdown",
   "metadata": {},
   "source": [
    "## RANDOM FOREST CLASSIFIER"
   ]
  },
  {
   "cell_type": "code",
   "execution_count": 56,
   "metadata": {},
   "outputs": [
    {
     "data": {
      "text/plain": [
       "{'n_estimators': 5}"
      ]
     },
     "execution_count": 56,
     "metadata": {},
     "output_type": "execute_result"
    }
   ],
   "source": [
    "param=[{'n_estimators':[5,10,15,20,30,40,50,80,100]}]\n",
    "rf=RandomForestClassifier(random_state=42)\n",
    "gridsearch=GridSearchCV(rf,param_grid=param,scoring='accuracy',cv=5)\n",
    "gridsearch.fit(X_train,y_train)\n",
    "gridsearch.best_params_"
   ]
  },
  {
   "cell_type": "code",
   "execution_count": 57,
   "metadata": {},
   "outputs": [
    {
     "name": "stdout",
     "output_type": "stream",
     "text": [
      "Training Accuracy: 0.861423220974\n",
      "Validation Accuracy: 0.8\n"
     ]
    }
   ],
   "source": [
    "rf=RandomForestClassifier(n_estimators=gridsearch.best_params_['n_estimators'],random_state=42)\n",
    "rf.fit(X_train,y_train)\n",
    "print(\"Training Accuracy:\",rf.score(X_train,y_train))\n",
    "print(\"Validation Accuracy:\",rf.score(X_val,y_val))"
   ]
  },
  {
   "cell_type": "markdown",
   "metadata": {},
   "source": [
    "## XGB"
   ]
  },
  {
   "cell_type": "code",
   "execution_count": 58,
   "metadata": {},
   "outputs": [
    {
     "name": "stdout",
     "output_type": "stream",
     "text": [
      "Training Accuracy: 0.838951310861\n",
      "Validation Accuracy: 0.833333333333\n"
     ]
    }
   ],
   "source": [
    "xgb=XGBClassifier()\n",
    "xgb.fit(X_train,y_train)\n",
    "print(\"Training Accuracy:\",xgb.score(X_train,y_train))\n",
    "print(\"Validation Accuracy:\",xgb.score(X_val,y_val))"
   ]
  },
  {
   "cell_type": "markdown",
   "metadata": {},
   "source": [
    "## SVM"
   ]
  },
  {
   "cell_type": "code",
   "execution_count": 59,
   "metadata": {},
   "outputs": [
    {
     "data": {
      "text/plain": [
       "{'C': 3}"
      ]
     },
     "execution_count": 59,
     "metadata": {},
     "output_type": "execute_result"
    }
   ],
   "source": [
    "param=[{'C':[0.01,0.03,0.1,0.3,0.6,1,3,6]}]\n",
    "svm=SVC(random_state=42)\n",
    "gridsearch=GridSearchCV(svm,param_grid=param,scoring='accuracy',cv=5)\n",
    "gridsearch.fit(X_train,y_train)\n",
    "gridsearch.best_params_"
   ]
  },
  {
   "cell_type": "code",
   "execution_count": 60,
   "metadata": {
    "scrolled": true
   },
   "outputs": [
    {
     "name": "stdout",
     "output_type": "stream",
     "text": [
      "Training Accuracy: 0.826466916355\n",
      "Validation Accuracy: 0.833333333333\n"
     ]
    }
   ],
   "source": [
    "svm=SVC(C=gridsearch.best_params_['C'],random_state=42)\n",
    "svm.fit(X_train,y_train)\n",
    "print(\"Training Accuracy:\",svm.score(X_train,y_train))\n",
    "print(\"Validation Accuracy:\",svm.score(X_val,y_val))"
   ]
  },
  {
   "cell_type": "markdown",
   "metadata": {},
   "source": [
    "## K NEAREST NEIGHBOURS"
   ]
  },
  {
   "cell_type": "code",
   "execution_count": 61,
   "metadata": {},
   "outputs": [
    {
     "data": {
      "text/plain": [
       "{'n_neighbors': 5}"
      ]
     },
     "execution_count": 61,
     "metadata": {},
     "output_type": "execute_result"
    }
   ],
   "source": [
    "param=[{'n_neighbors':[5,10,12,15,19,20]}]\n",
    "knn=KNeighborsClassifier()\n",
    "gridsearch=GridSearchCV(knn,param_grid=param,scoring='accuracy',cv=5)\n",
    "gridsearch.fit(X_train,y_train)\n",
    "gridsearch.best_params_"
   ]
  },
  {
   "cell_type": "code",
   "execution_count": 62,
   "metadata": {},
   "outputs": [
    {
     "name": "stdout",
     "output_type": "stream",
     "text": [
      "Training Accuracy: 0.850187265918\n",
      "Validation Accuracy: 0.777777777778\n"
     ]
    }
   ],
   "source": [
    "knn=KNeighborsClassifier(n_neighbors=gridsearch.best_params_['n_neighbors'])\n",
    "knn.fit(X_train,y_train)\n",
    "print(\"Training Accuracy:\",knn.score(X_train,y_train))\n",
    "print(\"Validation Accuracy:\",knn.score(X_val,y_val))"
   ]
  },
  {
   "cell_type": "markdown",
   "metadata": {},
   "source": [
    "## MAJORITY VOTING "
   ]
  },
  {
   "cell_type": "code",
   "execution_count": null,
   "metadata": {},
   "outputs": [],
   "source": []
  },
  {
   "cell_type": "code",
   "execution_count": null,
   "metadata": {},
   "outputs": [],
   "source": []
  },
  {
   "cell_type": "markdown",
   "metadata": {},
   "source": [
    "## STACKING\n",
    "\n",
    "The base estimators are logistic, gradientboosting,svm. I am thinking to use logistic regression as meta model"
   ]
  },
  {
   "cell_type": "code",
   "execution_count": null,
   "metadata": {
    "scrolled": true
   },
   "outputs": [],
   "source": [
    "# n_folds=5\n",
    "\n",
    "# number_of_estimators=3\n",
    "\n",
    "# m=X.shape[0]              # number of training examples\n",
    "# mt=X_test.shape[0]      # number of test examples\n",
    "\n",
    "# kfold=KFold(n_splits=n_folds,shuffle=True,random_state=42)\n",
    "\n",
    "# predictions=np.zeros((m,number_of_estimators))\n",
    "# target=np.zeros((m,))\n",
    "# predictions_test=np.zeros((mt*n_folds,number_of_estimators))\n",
    "\n",
    "# k=0\n",
    "# p=0\n",
    "\n",
    "# for train_index,val_index in kfold.split(X):\n",
    "#     X_train,X_val=X[train_index],X[val_index]\n",
    "#     y_train,y_val=y[train_index],y[val_index]\n",
    "    \n",
    "#     size_val=X_val.shape[0]           # size of validation data\n",
    "    \n",
    "#     # first estimator \n",
    "#     lr.fit(X_train,y_train)\n",
    "#     predictions[k:k+size_val,0]=lr.predict(X_val)\n",
    "#     predictions_test[p:p+mt,0]=lr.predict(X_test)\n",
    "    \n",
    "#     #second estimator\n",
    "#     xgb.fit(X_train,y_train)\n",
    "#     predictions[k:k+size_val,1]=xgb.predict(X_val)\n",
    "#     predictions_test[p:p+mt,1]=xgb.predict(X_test)\n",
    "    \n",
    "#     # third estimator \n",
    "#     svm.fit(X_train,y_train)\n",
    "#     predictions[k:k+size_val,2]=svm.predict(X_val)\n",
    "#     predictions_test[p:p+mt,2]=svm.predict(X_test)\n",
    "    \n",
    "#     target[k:k+size_val]=y_val\n",
    "    \n",
    "#     k=k+size_val\n",
    "#     p=p+mt\n",
    "    \n",
    "# print(predictions.shape)\n",
    "# print(target.shape)\n",
    "# print(predictions_test.shape)\n",
    "\n",
    "# predictions_test_final=np.zeros((mt,number_of_estimators))\n",
    "# for i in range(n_folds):\n",
    "#     predictions_test_final=predictions_test_final+predictions_test[i*mt:(i+1)*mt,:]\n",
    "    \n",
    "# predictions_test_final=predictions_test_final//3          # majority voting....!!!!\n",
    "# print(predictions_test_final.shape)\n",
    "\n",
    "# # choosing logistic regression as meta model\n",
    "# lr=LogisticRegression()\n",
    "# dt=DecisionTreeClassifier()\n",
    "\n",
    "# lr.fit(predictions,target)\n",
    "# # dt.fit(predictions,target)\n",
    "\n",
    "# y_pred=lr.predict(predictions_test_final)\n",
    "# # y_pred=dt.predict(predictions_test_final)\n",
    "\n",
    "# ans=pd.DataFrame()\n",
    "# ans['PassengerId']=testid\n",
    "# ans['Survived']=y_pred.astype(int)               # getting a accuracy of 79.425...\n",
    "# ans.head(10)\n",
    "\n",
    "# ans.to_csv(\"Stacking.csv\",index=False)"
   ]
  }
 ],
 "metadata": {
  "kernelspec": {
   "display_name": "Python 3",
   "language": "python",
   "name": "python3"
  },
  "language_info": {
   "codemirror_mode": {
    "name": "ipython",
    "version": 3
   },
   "file_extension": ".py",
   "mimetype": "text/x-python",
   "name": "python",
   "nbconvert_exporter": "python",
   "pygments_lexer": "ipython3",
   "version": "3.6.2"
  }
 },
 "nbformat": 4,
 "nbformat_minor": 1
}
