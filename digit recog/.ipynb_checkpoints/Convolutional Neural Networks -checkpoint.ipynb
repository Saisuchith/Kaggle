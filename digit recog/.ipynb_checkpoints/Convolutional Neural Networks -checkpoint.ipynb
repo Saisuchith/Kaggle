{
 "cells": [
  {
   "cell_type": "markdown",
   "metadata": {},
   "source": [
    "# CONVOLUTIONAL NEURAL NETWORK"
   ]
  },
  {
   "cell_type": "markdown",
   "metadata": {},
   "source": [
    "In this notebook i am using MNIST data set to classify the handwritten digits. The model i am using is a CNN"
   ]
  },
  {
   "cell_type": "code",
   "execution_count": 1,
   "metadata": {},
   "outputs": [],
   "source": [
    "# importing the basic libraries\n",
    "import numpy as np\n",
    "import pandas as pd\n",
    "import matplotlib.pyplot as plt"
   ]
  },
  {
   "cell_type": "markdown",
   "metadata": {},
   "source": [
    "## LOADING THE DATA "
   ]
  },
  {
   "cell_type": "code",
   "execution_count": 2,
   "metadata": {},
   "outputs": [
    {
     "name": "stdout",
     "output_type": "stream",
     "text": [
      "Traning Set\n",
      "(42000, 785)\n",
      "Test set\n",
      "(28000, 784)\n"
     ]
    }
   ],
   "source": [
    "train=pd.read_csv(\"train.csv\")\n",
    "test=pd.read_csv(\"test.csv\")\n",
    "print(\"Traning Set\")\n",
    "print(train.shape)\n",
    "print(\"Test set\")\n",
    "print(test.shape)"
   ]
  },
  {
   "cell_type": "markdown",
   "metadata": {},
   "source": [
    "In the train data the first column is label and each image is 28*28 pixel by pixel image. Then from 2nd column to last column that is 784 columns represent the pixel values of each image. There are totally 42000 images in the train data set.\n",
    "\n",
    "The test data is same but only the label column is not present. the size of test is 28000"
   ]
  },
  {
   "cell_type": "code",
   "execution_count": 3,
   "metadata": {},
   "outputs": [
    {
     "data": {
      "text/html": [
       "<div>\n",
       "<style scoped>\n",
       "    .dataframe tbody tr th:only-of-type {\n",
       "        vertical-align: middle;\n",
       "    }\n",
       "\n",
       "    .dataframe tbody tr th {\n",
       "        vertical-align: top;\n",
       "    }\n",
       "\n",
       "    .dataframe thead th {\n",
       "        text-align: right;\n",
       "    }\n",
       "</style>\n",
       "<table border=\"1\" class=\"dataframe\">\n",
       "  <thead>\n",
       "    <tr style=\"text-align: right;\">\n",
       "      <th></th>\n",
       "      <th>label</th>\n",
       "      <th>pixel0</th>\n",
       "      <th>pixel1</th>\n",
       "      <th>pixel2</th>\n",
       "      <th>pixel3</th>\n",
       "      <th>pixel4</th>\n",
       "      <th>pixel5</th>\n",
       "      <th>pixel6</th>\n",
       "      <th>pixel7</th>\n",
       "      <th>pixel8</th>\n",
       "      <th>...</th>\n",
       "      <th>pixel774</th>\n",
       "      <th>pixel775</th>\n",
       "      <th>pixel776</th>\n",
       "      <th>pixel777</th>\n",
       "      <th>pixel778</th>\n",
       "      <th>pixel779</th>\n",
       "      <th>pixel780</th>\n",
       "      <th>pixel781</th>\n",
       "      <th>pixel782</th>\n",
       "      <th>pixel783</th>\n",
       "    </tr>\n",
       "  </thead>\n",
       "  <tbody>\n",
       "    <tr>\n",
       "      <th>0</th>\n",
       "      <td>1</td>\n",
       "      <td>0</td>\n",
       "      <td>0</td>\n",
       "      <td>0</td>\n",
       "      <td>0</td>\n",
       "      <td>0</td>\n",
       "      <td>0</td>\n",
       "      <td>0</td>\n",
       "      <td>0</td>\n",
       "      <td>0</td>\n",
       "      <td>...</td>\n",
       "      <td>0</td>\n",
       "      <td>0</td>\n",
       "      <td>0</td>\n",
       "      <td>0</td>\n",
       "      <td>0</td>\n",
       "      <td>0</td>\n",
       "      <td>0</td>\n",
       "      <td>0</td>\n",
       "      <td>0</td>\n",
       "      <td>0</td>\n",
       "    </tr>\n",
       "    <tr>\n",
       "      <th>1</th>\n",
       "      <td>0</td>\n",
       "      <td>0</td>\n",
       "      <td>0</td>\n",
       "      <td>0</td>\n",
       "      <td>0</td>\n",
       "      <td>0</td>\n",
       "      <td>0</td>\n",
       "      <td>0</td>\n",
       "      <td>0</td>\n",
       "      <td>0</td>\n",
       "      <td>...</td>\n",
       "      <td>0</td>\n",
       "      <td>0</td>\n",
       "      <td>0</td>\n",
       "      <td>0</td>\n",
       "      <td>0</td>\n",
       "      <td>0</td>\n",
       "      <td>0</td>\n",
       "      <td>0</td>\n",
       "      <td>0</td>\n",
       "      <td>0</td>\n",
       "    </tr>\n",
       "    <tr>\n",
       "      <th>2</th>\n",
       "      <td>1</td>\n",
       "      <td>0</td>\n",
       "      <td>0</td>\n",
       "      <td>0</td>\n",
       "      <td>0</td>\n",
       "      <td>0</td>\n",
       "      <td>0</td>\n",
       "      <td>0</td>\n",
       "      <td>0</td>\n",
       "      <td>0</td>\n",
       "      <td>...</td>\n",
       "      <td>0</td>\n",
       "      <td>0</td>\n",
       "      <td>0</td>\n",
       "      <td>0</td>\n",
       "      <td>0</td>\n",
       "      <td>0</td>\n",
       "      <td>0</td>\n",
       "      <td>0</td>\n",
       "      <td>0</td>\n",
       "      <td>0</td>\n",
       "    </tr>\n",
       "    <tr>\n",
       "      <th>3</th>\n",
       "      <td>4</td>\n",
       "      <td>0</td>\n",
       "      <td>0</td>\n",
       "      <td>0</td>\n",
       "      <td>0</td>\n",
       "      <td>0</td>\n",
       "      <td>0</td>\n",
       "      <td>0</td>\n",
       "      <td>0</td>\n",
       "      <td>0</td>\n",
       "      <td>...</td>\n",
       "      <td>0</td>\n",
       "      <td>0</td>\n",
       "      <td>0</td>\n",
       "      <td>0</td>\n",
       "      <td>0</td>\n",
       "      <td>0</td>\n",
       "      <td>0</td>\n",
       "      <td>0</td>\n",
       "      <td>0</td>\n",
       "      <td>0</td>\n",
       "    </tr>\n",
       "    <tr>\n",
       "      <th>4</th>\n",
       "      <td>0</td>\n",
       "      <td>0</td>\n",
       "      <td>0</td>\n",
       "      <td>0</td>\n",
       "      <td>0</td>\n",
       "      <td>0</td>\n",
       "      <td>0</td>\n",
       "      <td>0</td>\n",
       "      <td>0</td>\n",
       "      <td>0</td>\n",
       "      <td>...</td>\n",
       "      <td>0</td>\n",
       "      <td>0</td>\n",
       "      <td>0</td>\n",
       "      <td>0</td>\n",
       "      <td>0</td>\n",
       "      <td>0</td>\n",
       "      <td>0</td>\n",
       "      <td>0</td>\n",
       "      <td>0</td>\n",
       "      <td>0</td>\n",
       "    </tr>\n",
       "    <tr>\n",
       "      <th>5</th>\n",
       "      <td>0</td>\n",
       "      <td>0</td>\n",
       "      <td>0</td>\n",
       "      <td>0</td>\n",
       "      <td>0</td>\n",
       "      <td>0</td>\n",
       "      <td>0</td>\n",
       "      <td>0</td>\n",
       "      <td>0</td>\n",
       "      <td>0</td>\n",
       "      <td>...</td>\n",
       "      <td>0</td>\n",
       "      <td>0</td>\n",
       "      <td>0</td>\n",
       "      <td>0</td>\n",
       "      <td>0</td>\n",
       "      <td>0</td>\n",
       "      <td>0</td>\n",
       "      <td>0</td>\n",
       "      <td>0</td>\n",
       "      <td>0</td>\n",
       "    </tr>\n",
       "    <tr>\n",
       "      <th>6</th>\n",
       "      <td>7</td>\n",
       "      <td>0</td>\n",
       "      <td>0</td>\n",
       "      <td>0</td>\n",
       "      <td>0</td>\n",
       "      <td>0</td>\n",
       "      <td>0</td>\n",
       "      <td>0</td>\n",
       "      <td>0</td>\n",
       "      <td>0</td>\n",
       "      <td>...</td>\n",
       "      <td>0</td>\n",
       "      <td>0</td>\n",
       "      <td>0</td>\n",
       "      <td>0</td>\n",
       "      <td>0</td>\n",
       "      <td>0</td>\n",
       "      <td>0</td>\n",
       "      <td>0</td>\n",
       "      <td>0</td>\n",
       "      <td>0</td>\n",
       "    </tr>\n",
       "    <tr>\n",
       "      <th>7</th>\n",
       "      <td>3</td>\n",
       "      <td>0</td>\n",
       "      <td>0</td>\n",
       "      <td>0</td>\n",
       "      <td>0</td>\n",
       "      <td>0</td>\n",
       "      <td>0</td>\n",
       "      <td>0</td>\n",
       "      <td>0</td>\n",
       "      <td>0</td>\n",
       "      <td>...</td>\n",
       "      <td>0</td>\n",
       "      <td>0</td>\n",
       "      <td>0</td>\n",
       "      <td>0</td>\n",
       "      <td>0</td>\n",
       "      <td>0</td>\n",
       "      <td>0</td>\n",
       "      <td>0</td>\n",
       "      <td>0</td>\n",
       "      <td>0</td>\n",
       "    </tr>\n",
       "    <tr>\n",
       "      <th>8</th>\n",
       "      <td>5</td>\n",
       "      <td>0</td>\n",
       "      <td>0</td>\n",
       "      <td>0</td>\n",
       "      <td>0</td>\n",
       "      <td>0</td>\n",
       "      <td>0</td>\n",
       "      <td>0</td>\n",
       "      <td>0</td>\n",
       "      <td>0</td>\n",
       "      <td>...</td>\n",
       "      <td>0</td>\n",
       "      <td>0</td>\n",
       "      <td>0</td>\n",
       "      <td>0</td>\n",
       "      <td>0</td>\n",
       "      <td>0</td>\n",
       "      <td>0</td>\n",
       "      <td>0</td>\n",
       "      <td>0</td>\n",
       "      <td>0</td>\n",
       "    </tr>\n",
       "    <tr>\n",
       "      <th>9</th>\n",
       "      <td>3</td>\n",
       "      <td>0</td>\n",
       "      <td>0</td>\n",
       "      <td>0</td>\n",
       "      <td>0</td>\n",
       "      <td>0</td>\n",
       "      <td>0</td>\n",
       "      <td>0</td>\n",
       "      <td>0</td>\n",
       "      <td>0</td>\n",
       "      <td>...</td>\n",
       "      <td>0</td>\n",
       "      <td>0</td>\n",
       "      <td>0</td>\n",
       "      <td>0</td>\n",
       "      <td>0</td>\n",
       "      <td>0</td>\n",
       "      <td>0</td>\n",
       "      <td>0</td>\n",
       "      <td>0</td>\n",
       "      <td>0</td>\n",
       "    </tr>\n",
       "  </tbody>\n",
       "</table>\n",
       "<p>10 rows × 785 columns</p>\n",
       "</div>"
      ],
      "text/plain": [
       "   label  pixel0  pixel1  pixel2  pixel3  pixel4  pixel5  pixel6  pixel7  \\\n",
       "0      1       0       0       0       0       0       0       0       0   \n",
       "1      0       0       0       0       0       0       0       0       0   \n",
       "2      1       0       0       0       0       0       0       0       0   \n",
       "3      4       0       0       0       0       0       0       0       0   \n",
       "4      0       0       0       0       0       0       0       0       0   \n",
       "5      0       0       0       0       0       0       0       0       0   \n",
       "6      7       0       0       0       0       0       0       0       0   \n",
       "7      3       0       0       0       0       0       0       0       0   \n",
       "8      5       0       0       0       0       0       0       0       0   \n",
       "9      3       0       0       0       0       0       0       0       0   \n",
       "\n",
       "   pixel8    ...     pixel774  pixel775  pixel776  pixel777  pixel778  \\\n",
       "0       0    ...            0         0         0         0         0   \n",
       "1       0    ...            0         0         0         0         0   \n",
       "2       0    ...            0         0         0         0         0   \n",
       "3       0    ...            0         0         0         0         0   \n",
       "4       0    ...            0         0         0         0         0   \n",
       "5       0    ...            0         0         0         0         0   \n",
       "6       0    ...            0         0         0         0         0   \n",
       "7       0    ...            0         0         0         0         0   \n",
       "8       0    ...            0         0         0         0         0   \n",
       "9       0    ...            0         0         0         0         0   \n",
       "\n",
       "   pixel779  pixel780  pixel781  pixel782  pixel783  \n",
       "0         0         0         0         0         0  \n",
       "1         0         0         0         0         0  \n",
       "2         0         0         0         0         0  \n",
       "3         0         0         0         0         0  \n",
       "4         0         0         0         0         0  \n",
       "5         0         0         0         0         0  \n",
       "6         0         0         0         0         0  \n",
       "7         0         0         0         0         0  \n",
       "8         0         0         0         0         0  \n",
       "9         0         0         0         0         0  \n",
       "\n",
       "[10 rows x 785 columns]"
      ]
     },
     "execution_count": 3,
     "metadata": {},
     "output_type": "execute_result"
    }
   ],
   "source": [
    "train.head(10)"
   ]
  },
  {
   "cell_type": "code",
   "execution_count": 4,
   "metadata": {},
   "outputs": [
    {
     "data": {
      "text/html": [
       "<div>\n",
       "<style scoped>\n",
       "    .dataframe tbody tr th:only-of-type {\n",
       "        vertical-align: middle;\n",
       "    }\n",
       "\n",
       "    .dataframe tbody tr th {\n",
       "        vertical-align: top;\n",
       "    }\n",
       "\n",
       "    .dataframe thead th {\n",
       "        text-align: right;\n",
       "    }\n",
       "</style>\n",
       "<table border=\"1\" class=\"dataframe\">\n",
       "  <thead>\n",
       "    <tr style=\"text-align: right;\">\n",
       "      <th></th>\n",
       "      <th>pixel0</th>\n",
       "      <th>pixel1</th>\n",
       "      <th>pixel2</th>\n",
       "      <th>pixel3</th>\n",
       "      <th>pixel4</th>\n",
       "      <th>pixel5</th>\n",
       "      <th>pixel6</th>\n",
       "      <th>pixel7</th>\n",
       "      <th>pixel8</th>\n",
       "      <th>pixel9</th>\n",
       "      <th>...</th>\n",
       "      <th>pixel774</th>\n",
       "      <th>pixel775</th>\n",
       "      <th>pixel776</th>\n",
       "      <th>pixel777</th>\n",
       "      <th>pixel778</th>\n",
       "      <th>pixel779</th>\n",
       "      <th>pixel780</th>\n",
       "      <th>pixel781</th>\n",
       "      <th>pixel782</th>\n",
       "      <th>pixel783</th>\n",
       "    </tr>\n",
       "  </thead>\n",
       "  <tbody>\n",
       "    <tr>\n",
       "      <th>0</th>\n",
       "      <td>0</td>\n",
       "      <td>0</td>\n",
       "      <td>0</td>\n",
       "      <td>0</td>\n",
       "      <td>0</td>\n",
       "      <td>0</td>\n",
       "      <td>0</td>\n",
       "      <td>0</td>\n",
       "      <td>0</td>\n",
       "      <td>0</td>\n",
       "      <td>...</td>\n",
       "      <td>0</td>\n",
       "      <td>0</td>\n",
       "      <td>0</td>\n",
       "      <td>0</td>\n",
       "      <td>0</td>\n",
       "      <td>0</td>\n",
       "      <td>0</td>\n",
       "      <td>0</td>\n",
       "      <td>0</td>\n",
       "      <td>0</td>\n",
       "    </tr>\n",
       "    <tr>\n",
       "      <th>1</th>\n",
       "      <td>0</td>\n",
       "      <td>0</td>\n",
       "      <td>0</td>\n",
       "      <td>0</td>\n",
       "      <td>0</td>\n",
       "      <td>0</td>\n",
       "      <td>0</td>\n",
       "      <td>0</td>\n",
       "      <td>0</td>\n",
       "      <td>0</td>\n",
       "      <td>...</td>\n",
       "      <td>0</td>\n",
       "      <td>0</td>\n",
       "      <td>0</td>\n",
       "      <td>0</td>\n",
       "      <td>0</td>\n",
       "      <td>0</td>\n",
       "      <td>0</td>\n",
       "      <td>0</td>\n",
       "      <td>0</td>\n",
       "      <td>0</td>\n",
       "    </tr>\n",
       "    <tr>\n",
       "      <th>2</th>\n",
       "      <td>0</td>\n",
       "      <td>0</td>\n",
       "      <td>0</td>\n",
       "      <td>0</td>\n",
       "      <td>0</td>\n",
       "      <td>0</td>\n",
       "      <td>0</td>\n",
       "      <td>0</td>\n",
       "      <td>0</td>\n",
       "      <td>0</td>\n",
       "      <td>...</td>\n",
       "      <td>0</td>\n",
       "      <td>0</td>\n",
       "      <td>0</td>\n",
       "      <td>0</td>\n",
       "      <td>0</td>\n",
       "      <td>0</td>\n",
       "      <td>0</td>\n",
       "      <td>0</td>\n",
       "      <td>0</td>\n",
       "      <td>0</td>\n",
       "    </tr>\n",
       "    <tr>\n",
       "      <th>3</th>\n",
       "      <td>0</td>\n",
       "      <td>0</td>\n",
       "      <td>0</td>\n",
       "      <td>0</td>\n",
       "      <td>0</td>\n",
       "      <td>0</td>\n",
       "      <td>0</td>\n",
       "      <td>0</td>\n",
       "      <td>0</td>\n",
       "      <td>0</td>\n",
       "      <td>...</td>\n",
       "      <td>0</td>\n",
       "      <td>0</td>\n",
       "      <td>0</td>\n",
       "      <td>0</td>\n",
       "      <td>0</td>\n",
       "      <td>0</td>\n",
       "      <td>0</td>\n",
       "      <td>0</td>\n",
       "      <td>0</td>\n",
       "      <td>0</td>\n",
       "    </tr>\n",
       "    <tr>\n",
       "      <th>4</th>\n",
       "      <td>0</td>\n",
       "      <td>0</td>\n",
       "      <td>0</td>\n",
       "      <td>0</td>\n",
       "      <td>0</td>\n",
       "      <td>0</td>\n",
       "      <td>0</td>\n",
       "      <td>0</td>\n",
       "      <td>0</td>\n",
       "      <td>0</td>\n",
       "      <td>...</td>\n",
       "      <td>0</td>\n",
       "      <td>0</td>\n",
       "      <td>0</td>\n",
       "      <td>0</td>\n",
       "      <td>0</td>\n",
       "      <td>0</td>\n",
       "      <td>0</td>\n",
       "      <td>0</td>\n",
       "      <td>0</td>\n",
       "      <td>0</td>\n",
       "    </tr>\n",
       "    <tr>\n",
       "      <th>5</th>\n",
       "      <td>0</td>\n",
       "      <td>0</td>\n",
       "      <td>0</td>\n",
       "      <td>0</td>\n",
       "      <td>0</td>\n",
       "      <td>0</td>\n",
       "      <td>0</td>\n",
       "      <td>0</td>\n",
       "      <td>0</td>\n",
       "      <td>0</td>\n",
       "      <td>...</td>\n",
       "      <td>0</td>\n",
       "      <td>0</td>\n",
       "      <td>0</td>\n",
       "      <td>0</td>\n",
       "      <td>0</td>\n",
       "      <td>0</td>\n",
       "      <td>0</td>\n",
       "      <td>0</td>\n",
       "      <td>0</td>\n",
       "      <td>0</td>\n",
       "    </tr>\n",
       "    <tr>\n",
       "      <th>6</th>\n",
       "      <td>0</td>\n",
       "      <td>0</td>\n",
       "      <td>0</td>\n",
       "      <td>0</td>\n",
       "      <td>0</td>\n",
       "      <td>0</td>\n",
       "      <td>0</td>\n",
       "      <td>0</td>\n",
       "      <td>0</td>\n",
       "      <td>0</td>\n",
       "      <td>...</td>\n",
       "      <td>0</td>\n",
       "      <td>0</td>\n",
       "      <td>0</td>\n",
       "      <td>0</td>\n",
       "      <td>0</td>\n",
       "      <td>0</td>\n",
       "      <td>0</td>\n",
       "      <td>0</td>\n",
       "      <td>0</td>\n",
       "      <td>0</td>\n",
       "    </tr>\n",
       "    <tr>\n",
       "      <th>7</th>\n",
       "      <td>0</td>\n",
       "      <td>0</td>\n",
       "      <td>0</td>\n",
       "      <td>0</td>\n",
       "      <td>0</td>\n",
       "      <td>0</td>\n",
       "      <td>0</td>\n",
       "      <td>0</td>\n",
       "      <td>0</td>\n",
       "      <td>0</td>\n",
       "      <td>...</td>\n",
       "      <td>0</td>\n",
       "      <td>0</td>\n",
       "      <td>0</td>\n",
       "      <td>0</td>\n",
       "      <td>0</td>\n",
       "      <td>0</td>\n",
       "      <td>0</td>\n",
       "      <td>0</td>\n",
       "      <td>0</td>\n",
       "      <td>0</td>\n",
       "    </tr>\n",
       "    <tr>\n",
       "      <th>8</th>\n",
       "      <td>0</td>\n",
       "      <td>0</td>\n",
       "      <td>0</td>\n",
       "      <td>0</td>\n",
       "      <td>0</td>\n",
       "      <td>0</td>\n",
       "      <td>0</td>\n",
       "      <td>0</td>\n",
       "      <td>0</td>\n",
       "      <td>0</td>\n",
       "      <td>...</td>\n",
       "      <td>0</td>\n",
       "      <td>0</td>\n",
       "      <td>0</td>\n",
       "      <td>0</td>\n",
       "      <td>0</td>\n",
       "      <td>0</td>\n",
       "      <td>0</td>\n",
       "      <td>0</td>\n",
       "      <td>0</td>\n",
       "      <td>0</td>\n",
       "    </tr>\n",
       "    <tr>\n",
       "      <th>9</th>\n",
       "      <td>0</td>\n",
       "      <td>0</td>\n",
       "      <td>0</td>\n",
       "      <td>0</td>\n",
       "      <td>0</td>\n",
       "      <td>0</td>\n",
       "      <td>0</td>\n",
       "      <td>0</td>\n",
       "      <td>0</td>\n",
       "      <td>0</td>\n",
       "      <td>...</td>\n",
       "      <td>0</td>\n",
       "      <td>0</td>\n",
       "      <td>0</td>\n",
       "      <td>0</td>\n",
       "      <td>0</td>\n",
       "      <td>0</td>\n",
       "      <td>0</td>\n",
       "      <td>0</td>\n",
       "      <td>0</td>\n",
       "      <td>0</td>\n",
       "    </tr>\n",
       "  </tbody>\n",
       "</table>\n",
       "<p>10 rows × 784 columns</p>\n",
       "</div>"
      ],
      "text/plain": [
       "   pixel0  pixel1  pixel2  pixel3  pixel4  pixel5  pixel6  pixel7  pixel8  \\\n",
       "0       0       0       0       0       0       0       0       0       0   \n",
       "1       0       0       0       0       0       0       0       0       0   \n",
       "2       0       0       0       0       0       0       0       0       0   \n",
       "3       0       0       0       0       0       0       0       0       0   \n",
       "4       0       0       0       0       0       0       0       0       0   \n",
       "5       0       0       0       0       0       0       0       0       0   \n",
       "6       0       0       0       0       0       0       0       0       0   \n",
       "7       0       0       0       0       0       0       0       0       0   \n",
       "8       0       0       0       0       0       0       0       0       0   \n",
       "9       0       0       0       0       0       0       0       0       0   \n",
       "\n",
       "   pixel9    ...     pixel774  pixel775  pixel776  pixel777  pixel778  \\\n",
       "0       0    ...            0         0         0         0         0   \n",
       "1       0    ...            0         0         0         0         0   \n",
       "2       0    ...            0         0         0         0         0   \n",
       "3       0    ...            0         0         0         0         0   \n",
       "4       0    ...            0         0         0         0         0   \n",
       "5       0    ...            0         0         0         0         0   \n",
       "6       0    ...            0         0         0         0         0   \n",
       "7       0    ...            0         0         0         0         0   \n",
       "8       0    ...            0         0         0         0         0   \n",
       "9       0    ...            0         0         0         0         0   \n",
       "\n",
       "   pixel779  pixel780  pixel781  pixel782  pixel783  \n",
       "0         0         0         0         0         0  \n",
       "1         0         0         0         0         0  \n",
       "2         0         0         0         0         0  \n",
       "3         0         0         0         0         0  \n",
       "4         0         0         0         0         0  \n",
       "5         0         0         0         0         0  \n",
       "6         0         0         0         0         0  \n",
       "7         0         0         0         0         0  \n",
       "8         0         0         0         0         0  \n",
       "9         0         0         0         0         0  \n",
       "\n",
       "[10 rows x 784 columns]"
      ]
     },
     "execution_count": 4,
     "metadata": {},
     "output_type": "execute_result"
    }
   ],
   "source": [
    "test.head(10)"
   ]
  },
  {
   "cell_type": "markdown",
   "metadata": {},
   "source": [
    " In the train data and test data there are no missing values. So there is no need to clean the data"
   ]
  },
  {
   "cell_type": "code",
   "execution_count": 5,
   "metadata": {},
   "outputs": [
    {
     "data": {
      "text/plain": [
       "count       785\n",
       "unique        1\n",
       "top       False\n",
       "freq        785\n",
       "dtype: object"
      ]
     },
     "execution_count": 5,
     "metadata": {},
     "output_type": "execute_result"
    }
   ],
   "source": [
    "train.isnull().any().describe()"
   ]
  },
  {
   "cell_type": "code",
   "execution_count": 6,
   "metadata": {},
   "outputs": [
    {
     "data": {
      "text/plain": [
       "count       784\n",
       "unique        1\n",
       "top       False\n",
       "freq        784\n",
       "dtype: object"
      ]
     },
     "execution_count": 6,
     "metadata": {},
     "output_type": "execute_result"
    }
   ],
   "source": [
    "test.isnull().any().describe()"
   ]
  },
  {
   "cell_type": "markdown",
   "metadata": {},
   "source": [
    "## Train and Test Matrices  "
   ]
  },
  {
   "cell_type": "code",
   "execution_count": 7,
   "metadata": {},
   "outputs": [
    {
     "name": "stdout",
     "output_type": "stream",
     "text": [
      "Train data shape : (42000,784)\n",
      "Train Labels : (42000,)\n",
      "Test Data shape : (28000,784)\n"
     ]
    }
   ],
   "source": [
    "X=train.iloc[:,1:].values\n",
    "y=train.iloc[:,0].values\n",
    "\n",
    "X_test=test.iloc[:,:].values\n",
    "\n",
    "print(\"Train data shape : (%d,%d)\"% X.shape)\n",
    "print(\"Train Labels : (%d,)\"% y.shape)\n",
    "print(\"Test Data shape : (%d,%d)\"% X_test.shape)"
   ]
  },
  {
   "cell_type": "markdown",
   "metadata": {},
   "source": [
    "## VISUALIZATION OF THE DATA"
   ]
  },
  {
   "cell_type": "code",
   "execution_count": 8,
   "metadata": {},
   "outputs": [],
   "source": [
    "def show_image(image, shape, label=\"\", cmp=None):\n",
    "    img = np.reshape(image,shape)\n",
    "    plt.imshow(img,cmap=cmp, interpolation='none')\n",
    "    plt.title(label)"
   ]
  },
  {
   "cell_type": "code",
   "execution_count": 9,
   "metadata": {},
   "outputs": [
    {
     "data": {
<<<<<<< HEAD
      "image/png": "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\n",
      "text/plain": [
       "<matplotlib.figure.Figure at 0x7f584863ddd8>"
=======
      "image/png": "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\n",
      "text/plain": [
       "<matplotlib.figure.Figure at 0x7f71c674c550>"
>>>>>>> a1f5acbaa00bc1b1e5fc3532ba19a013a271542c
      ]
     },
     "metadata": {},
     "output_type": "display_data"
    }
   ],
   "source": [
    "%matplotlib inline\n",
    "plt.figure(figsize=(12,10))\n",
    "\n",
    "z, x = 5,10\n",
    "for i in range(0,(z*x)):\n",
    "    plt.subplot(z, x, i+1)\n",
    "    k = np.random.randint(0,X.shape[0],1)[0]\n",
    "    show_image(X[k,:],(28,28), y[k], cmp=\"gist_gray\")\n",
    "plt.show()"
   ]
  },
  {
   "cell_type": "markdown",
   "metadata": {},
   "source": [
    "## NORMALIZATION "
   ]
  },
  {
   "cell_type": "markdown",
   "metadata": {},
   "source": [
    "We normalize the train data and test data and we do this by dividing the data by 255. This is equal to (max-min) of the pixel values"
   ]
  },
  {
   "cell_type": "code",
   "execution_count": 10,
   "metadata": {},
   "outputs": [
    {
     "name": "stdout",
     "output_type": "stream",
     "text": [
      "min value :0\n",
      "max value :1\n"
     ]
    }
   ],
   "source": [
    "X=X/255\n",
    "X_test=X_test/255\n",
    "print(\"min value :%d\"% np.min(X))\n",
    "print(\"max value :%d\"% np.max(X))"
   ]
  },
  {
   "cell_type": "markdown",
   "metadata": {},
   "source": [
    "## RESHAPING "
   ]
  },
  {
   "cell_type": "markdown",
   "metadata": {},
   "source": [
    "Train and test images (28px x 28px) has been stock into pandas.Dataframe as 1D vectors of 784 values. We reshape all data to 28x28x1 3D matrices.\n",
    "\n",
    "Keras requires an extra dimension in the end which correspond to channels. MNIST images are gray scaled so it use only one channel. For RGB images, there is 3 channels, we would have reshaped 784px vectors to 28x28x3 3D matrices."
   ]
  },
  {
   "cell_type": "code",
   "execution_count": 11,
   "metadata": {},
   "outputs": [
    {
     "name": "stdout",
     "output_type": "stream",
     "text": [
      "Train data shape : (42000,28,28,1)\n",
      "Test Data shape : (28000,28,28,1)\n"
     ]
    }
   ],
   "source": [
    "X=X.reshape(-1,28,28,1)\n",
    "X_test=X_test.reshape(-1,28,28,1)\n",
    "\n",
    "print(\"Train data shape : (%d,%d,%d,%d)\"% X.shape)\n",
    "print(\"Test Data shape : (%d,%d,%d,%d)\"% X_test.shape)"
   ]
  },
  {
   "cell_type": "markdown",
   "metadata": {},
   "source": [
    "## ONE HOT ENCODING"
   ]
  },
  {
   "cell_type": "markdown",
   "metadata": {},
   "source": [
    "We have actually classes named 0 to 9. But When we are training the data using neural network we have to make the dummies of the classes.It is really useful for classifying.\n",
    "\n",
    "For Example:\n",
    "\n",
    "y=1 is changed to y=[0 1 0 0 0 0 0 0 0 0]\n",
    "\n",
    "y=2 is changed to y=[0 0 1 0 0 0 0 0 0 0]\n",
    "\n",
    "and so on."
   ]
  },
  {
   "cell_type": "code",
   "execution_count": 12,
   "metadata": {},
   "outputs": [
    {
     "name": "stdout",
     "output_type": "stream",
     "text": [
      "[1 0 1 4 0 0 7 3 5 3]\n"
     ]
    }
   ],
   "source": [
    "# first we will print y's\n",
    "print(y[0:10])"
   ]
  },
  {
   "cell_type": "markdown",
   "metadata": {},
   "source": [
    "For one hot encoding we will use the onehotencoder from sklearn preprocessing library"
   ]
  },
  {
   "cell_type": "code",
   "execution_count": 13,
   "metadata": {},
   "outputs": [
    {
     "name": "stdout",
     "output_type": "stream",
     "text": [
      "SHAPE : (42000,10)\n",
      "\n",
      "[[0 1 0 0 0 0 0 0 0 0]\n",
      " [1 0 0 0 0 0 0 0 0 0]\n",
      " [0 1 0 0 0 0 0 0 0 0]\n",
      " [0 0 0 0 1 0 0 0 0 0]\n",
      " [1 0 0 0 0 0 0 0 0 0]\n",
      " [1 0 0 0 0 0 0 0 0 0]\n",
      " [0 0 0 0 0 0 0 1 0 0]\n",
      " [0 0 0 1 0 0 0 0 0 0]\n",
      " [0 0 0 0 0 1 0 0 0 0]\n",
      " [0 0 0 1 0 0 0 0 0 0]]\n"
     ]
    }
   ],
   "source": [
    "from sklearn.preprocessing import OneHotEncoder\n",
    "x=y.reshape(y.size,1)\n",
    "onehotencoder=OneHotEncoder(categorical_features=[0])\n",
    "y=onehotencoder.fit_transform(x).toarray().astype(int)\n",
    "print(\"SHAPE : (%d,%d)\\n\" %y.shape)\n",
    "print(y[0:10,:])"
   ]
  },
  {
   "cell_type": "markdown",
   "metadata": {},
   "source": [
    "## CROSS VALIDATION SET "
   ]
  },
  {
   "cell_type": "markdown",
   "metadata": {},
   "source": [
    "The cross-validation is a techinique used for measure the accuracy and visualizing overfitting.\n",
    "\n",
    "Here we will split the data into training set and cross validation set with size of cross-validation as 10% of total data"
   ]
  },
  {
   "cell_type": "code",
   "execution_count": 14,
   "metadata": {},
   "outputs": [
    {
     "name": "stdout",
     "output_type": "stream",
     "text": [
      "Train Size (37800,28,28,1) \n",
      "\n",
      "Validation Size (4200,28,28,1) \n",
      "\n",
      "Train Label Size (37800,10) \n",
      "\n",
      "Validation Label Size (4200,10) \n",
      "\n"
     ]
    }
   ],
   "source": [
    "from sklearn.model_selection import train_test_split\n",
    "X_train,X_cross,y_train,y_cross=train_test_split(X,y,test_size=0.1,random_state=42)\n",
    "\n",
    "print(\"Train Size (%d,%d,%d,%d) \\n\"% X_train.shape)\n",
    "print(\"Validation Size (%d,%d,%d,%d) \\n\"% X_cross.shape)\n",
    "print(\"Train Label Size (%d,%d) \\n\"% y_train.shape)\n",
    "print(\"Validation Label Size (%d,%d) \\n\"% y_cross.shape)"
   ]
  },
  {
   "cell_type": "markdown",
   "metadata": {},
   "source": [
    "We can get a better sense for one of these examples by visualising the image and looking at the label."
   ]
  },
  {
   "cell_type": "code",
   "execution_count": 15,
   "metadata": {},
   "outputs": [
    {
     "data": {
      "text/plain": [
<<<<<<< HEAD
       "<matplotlib.image.AxesImage at 0x7f57defb3ef0>"
=======
       "<matplotlib.image.AxesImage at 0x7f717eed7940>"
>>>>>>> a1f5acbaa00bc1b1e5fc3532ba19a013a271542c
      ]
     },
     "execution_count": 15,
     "metadata": {},
     "output_type": "execute_result"
    },
    {
     "data": {
      "image/png": "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\n",
      "text/plain": [
<<<<<<< HEAD
       "<matplotlib.figure.Figure at 0x7f58254a6e48>"
=======
       "<matplotlib.figure.Figure at 0x7f71c5a5ce48>"
>>>>>>> a1f5acbaa00bc1b1e5fc3532ba19a013a271542c
      ]
     },
     "metadata": {},
     "output_type": "display_data"
    }
   ],
   "source": [
    "plt.imshow(X_train[0][:,:,0])"
   ]
  },
  {
   "cell_type": "code",
   "execution_count": 16,
   "metadata": {},
   "outputs": [
    {
     "name": "stdout",
     "output_type": "stream",
     "text": [
      "(28, 28)\n"
     ]
    },
    {
     "data": {
      "image/png": "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\n",
      "text/plain": [
<<<<<<< HEAD
       "<matplotlib.figure.Figure at 0x7f57def4be80>"
=======
       "<matplotlib.figure.Figure at 0x7f717ee6ed30>"
>>>>>>> a1f5acbaa00bc1b1e5fc3532ba19a013a271542c
      ]
     },
     "metadata": {},
     "output_type": "display_data"
    }
   ],
   "source": [
    "plt.imshow(X_test[0][:,:,0])\n",
    "print(X_test[0][:,:,0].shape)"
   ]
  },
  {
   "cell_type": "markdown",
   "metadata": {},
   "source": [
    "## MODEL"
   ]
  },
  {
   "cell_type": "markdown",
   "metadata": {},
   "source": [
    "For Neural network building i am using python keras library (tensorflow backend)"
   ]
  },
  {
   "cell_type": "code",
   "execution_count": 17,
   "metadata": {},
   "outputs": [
    {
     "name": "stderr",
     "output_type": "stream",
     "text": [
      "Using TensorFlow backend.\n",
      "/home/suchith/anaconda3/lib/python3.6/importlib/_bootstrap.py:219: RuntimeWarning: compiletime version 3.5 of module 'tensorflow.python.framework.fast_tensor_util' does not match runtime version 3.6\n",
      "  return f(*args, **kwds)\n"
     ]
    }
   ],
   "source": [
    "# importing the libraries\n",
    "from keras.models import Sequential\n",
    "from keras.layers import Conv2D,MaxPool2D,Flatten,Dense,Dropout\n",
    "from keras.preprocessing.image  import ImageDataGenerator"
   ]
  },
  {
   "cell_type": "markdown",
   "metadata": {},
   "source": [
    "## Activation Function:\n",
    "Exist a lot of types of activations functions, but in this model we'll use the ReLu (Rectifier Linear Function) for hidden layers and Softmax function for output layer\n",
    "\n",
    "Softmax function is same as sigmoid function but softmax is for more varaibles that is it is generalization of sigmoid function on a n-dimensional vector\n",
    "\n",
    "## Model\n",
    "\n",
    "I have used two convolutional layer with 32 filters each and each filter transforms a part of the image (defined by the kernel size) using the kernel filter.\n",
    "\n",
    "The second important layer in CNN is the pooling (MaxPool2D) layer. This layer simply acts as a downsampling filter. It looks at the 2 neighboring pixels and picks the maximal value and i have chosen the pool size as (2,2).\n",
    "\n",
    "\n",
<<<<<<< HEAD
    "In the end i used the features in one fully-connected (Dense) layers which is just artificial an neural networks (ANN). It contained 512 neurons in the hidden layer. It was an dropout layer with 0.2 as keep probability. \n",
    "\n",
    "With this I got an accuracy of 99.483"
=======
    "In the end i used the features in one fully-connected (Dense) layers which is just artificial an neural networks (ANN). It contained 512 neurons in the hidden layer. It was an dropout layer with 0.2 as keep probability. \n"
>>>>>>> a1f5acbaa00bc1b1e5fc3532ba19a013a271542c
   ]
  },
  {
   "cell_type": "code",
<<<<<<< HEAD
   "execution_count": 19,
=======
   "execution_count": 18,
>>>>>>> a1f5acbaa00bc1b1e5fc3532ba19a013a271542c
   "metadata": {},
   "outputs": [
    {
     "name": "stdout",
     "output_type": "stream",
     "text": [
      "_________________________________________________________________\n",
      "Layer (type)                 Output Shape              Param #   \n",
      "=================================================================\n",
<<<<<<< HEAD
      "conv2d_3 (Conv2D)            (None, 26, 26, 64)        640       \n",
      "_________________________________________________________________\n",
      "max_pooling2d_3 (MaxPooling2 (None, 13, 13, 64)        0         \n",
      "_________________________________________________________________\n",
      "conv2d_4 (Conv2D)            (None, 11, 11, 64)        36928     \n",
      "_________________________________________________________________\n",
      "max_pooling2d_4 (MaxPooling2 (None, 5, 5, 64)          0         \n",
      "_________________________________________________________________\n",
      "flatten_2 (Flatten)          (None, 1600)              0         \n",
      "_________________________________________________________________\n",
      "dense_3 (Dense)              (None, 512)               819712    \n",
      "_________________________________________________________________\n",
      "dropout_2 (Dropout)          (None, 512)               0         \n",
      "_________________________________________________________________\n",
      "dense_4 (Dense)              (None, 256)               131328    \n",
      "_________________________________________________________________\n",
      "dropout_3 (Dropout)          (None, 256)               0         \n",
      "_________________________________________________________________\n",
      "dense_5 (Dense)              (None, 10)                2570      \n",
      "=================================================================\n",
      "Total params: 991,178\n",
      "Trainable params: 991,178\n",
=======
      "conv2d_1 (Conv2D)            (None, 26, 26, 32)        320       \n",
      "_________________________________________________________________\n",
      "max_pooling2d_1 (MaxPooling2 (None, 13, 13, 32)        0         \n",
      "_________________________________________________________________\n",
      "conv2d_2 (Conv2D)            (None, 11, 11, 32)        9248      \n",
      "_________________________________________________________________\n",
      "max_pooling2d_2 (MaxPooling2 (None, 5, 5, 32)          0         \n",
      "_________________________________________________________________\n",
      "flatten_1 (Flatten)          (None, 800)               0         \n",
      "_________________________________________________________________\n",
      "dense_1 (Dense)              (None, 512)               410112    \n",
      "_________________________________________________________________\n",
      "dropout_1 (Dropout)          (None, 512)               0         \n",
      "_________________________________________________________________\n",
      "dense_2 (Dense)              (None, 10)                5130      \n",
      "=================================================================\n",
      "Total params: 424,810\n",
      "Trainable params: 424,810\n",
>>>>>>> a1f5acbaa00bc1b1e5fc3532ba19a013a271542c
      "Non-trainable params: 0\n",
      "_________________________________________________________________\n"
     ]
    }
   ],
   "source": [
    "# Initialising the CNN\n",
    "model=Sequential()\n",
    "\n",
    "# Convolution layer\n",
<<<<<<< HEAD
    "model.add(Conv2D(64,(3,3),activation='relu',input_shape=(28,28,1)))\n",
=======
    "model.add(Conv2D(32,(3,3),activation='relu',input_shape=(28,28,1)))\n",
>>>>>>> a1f5acbaa00bc1b1e5fc3532ba19a013a271542c
    "\n",
    "# Max pooling Layer\n",
    "model.add(MaxPool2D(pool_size=(2,2)))\n",
    "\n",
    "# adding another Convolution Layer\n",
<<<<<<< HEAD
    "model.add(Conv2D(64,(3,3),activation='relu'))\n",
=======
    "model.add(Conv2D(32,(3,3),activation='relu'))\n",
>>>>>>> a1f5acbaa00bc1b1e5fc3532ba19a013a271542c
    "\n",
    "# adding Max pooling layer\n",
    "model.add(MaxPool2D(pool_size=(2,2)))\n",
    "\n",
    "# Flattening\n",
    "model.add(Flatten())\n",
    "\n",
    "# Full connection \n",
    "model.add(Dense(512,activation='relu'))\n",
    "model.add(Dropout(0.2))\n",
<<<<<<< HEAD
    "model.add(Dense(256,activation='relu'))\n",
    "model.add(Dropout(0.2))\n",
=======
>>>>>>> a1f5acbaa00bc1b1e5fc3532ba19a013a271542c
    "model.add(Dense(10,activation='softmax'))\n",
    "\n",
    "# summary\n",
    "model.summary()"
   ]
  },
  {
   "cell_type": "code",
<<<<<<< HEAD
   "execution_count": 20,
=======
   "execution_count": 19,
>>>>>>> a1f5acbaa00bc1b1e5fc3532ba19a013a271542c
   "metadata": {},
   "outputs": [
    {
     "name": "stdout",
     "output_type": "stream",
     "text": [
      "_________________________________________________________________\n",
      "Layer (type)                 Output Shape              Param #   \n",
      "=================================================================\n",
<<<<<<< HEAD
      "conv2d_3 (Conv2D)            (None, 26, 26, 64)        640       \n",
      "_________________________________________________________________\n",
      "max_pooling2d_3 (MaxPooling2 (None, 13, 13, 64)        0         \n",
      "_________________________________________________________________\n",
      "conv2d_4 (Conv2D)            (None, 11, 11, 64)        36928     \n",
      "_________________________________________________________________\n",
      "max_pooling2d_4 (MaxPooling2 (None, 5, 5, 64)          0         \n",
      "_________________________________________________________________\n",
      "flatten_2 (Flatten)          (None, 1600)              0         \n",
      "_________________________________________________________________\n",
      "dense_3 (Dense)              (None, 512)               819712    \n",
      "_________________________________________________________________\n",
      "dropout_2 (Dropout)          (None, 512)               0         \n",
      "_________________________________________________________________\n",
      "dense_4 (Dense)              (None, 256)               131328    \n",
      "_________________________________________________________________\n",
      "dropout_3 (Dropout)          (None, 256)               0         \n",
      "_________________________________________________________________\n",
      "dense_5 (Dense)              (None, 10)                2570      \n",
      "=================================================================\n",
      "Total params: 991,178\n",
      "Trainable params: 991,178\n",
=======
      "conv2d_1 (Conv2D)            (None, 26, 26, 32)        320       \n",
      "_________________________________________________________________\n",
      "max_pooling2d_1 (MaxPooling2 (None, 13, 13, 32)        0         \n",
      "_________________________________________________________________\n",
      "conv2d_2 (Conv2D)            (None, 11, 11, 32)        9248      \n",
      "_________________________________________________________________\n",
      "max_pooling2d_2 (MaxPooling2 (None, 5, 5, 32)          0         \n",
      "_________________________________________________________________\n",
      "flatten_1 (Flatten)          (None, 800)               0         \n",
      "_________________________________________________________________\n",
      "dense_1 (Dense)              (None, 512)               410112    \n",
      "_________________________________________________________________\n",
      "dropout_1 (Dropout)          (None, 512)               0         \n",
      "_________________________________________________________________\n",
      "dense_2 (Dense)              (None, 10)                5130      \n",
      "=================================================================\n",
      "Total params: 424,810\n",
      "Trainable params: 424,810\n",
>>>>>>> a1f5acbaa00bc1b1e5fc3532ba19a013a271542c
      "Non-trainable params: 0\n",
      "_________________________________________________________________\n"
     ]
    }
   ],
   "source": [
    "# compiling the CNN\n",
    "model.compile(optimizer = 'adam', loss = 'categorical_crossentropy', metrics = ['accuracy'])\n",
    "\n",
    "model.summary()"
   ]
  },
  {
   "cell_type": "markdown",
   "metadata": {},
   "source": [
    "## DATA AUGMENTATION"
   ]
  },
  {
   "cell_type": "markdown",
   "metadata": {},
   "source": [
    "In order to avoid overfitting problem, we need to expand artificially our handwritten digit dataset. We can make your existing dataset even larger. The idea is to alter the training data with small transformations to reproduce the variations occuring when someone is writing a digit.\n",
    "\n",
    "For example, the number is not centered The scale is not the same (some who write with big/small numbers) The image is rotated...\n",
    "\n",
    "Approaches that alter the training data in ways that change the array representation while keeping the label the same are known as data augmentation techniques. Some popular augmentations people use are grayscales, horizontal flips, vertical flips, random crops, color jitters, translations, rotations, and much more.\n",
    "\n",
    "By applying just a couple of these transformations to our training data, we can easily double or triple the number of training examples and create a very robust model.\n",
    "\n"
   ]
  },
  {
   "cell_type": "code",
<<<<<<< HEAD
   "execution_count": 21,
=======
   "execution_count": 20,
>>>>>>> a1f5acbaa00bc1b1e5fc3532ba19a013a271542c
   "metadata": {},
   "outputs": [],
   "source": [
    "datagen=ImageDataGenerator(rotation_range=10,zoom_range=0.1,width_shift_range=0.1,height_shift_range=0.1)\n",
    "\n",
    "datagen.fit(X_train)"
   ]
  },
  {
   "cell_type": "markdown",
   "metadata": {},
   "source": [
    "## FITTING THE MODEL"
   ]
  },
  {
   "cell_type": "code",
<<<<<<< HEAD
   "execution_count": 22,
=======
   "execution_count": 21,
>>>>>>> a1f5acbaa00bc1b1e5fc3532ba19a013a271542c
   "metadata": {},
   "outputs": [],
   "source": [
    "epoch=2\n",
    "batch=100\n",
    "sp_epoch=X_train.shape[0]"
   ]
  },
  {
   "cell_type": "code",
<<<<<<< HEAD
   "execution_count": 23,
=======
   "execution_count": 22,
>>>>>>> a1f5acbaa00bc1b1e5fc3532ba19a013a271542c
   "metadata": {},
   "outputs": [
    {
     "name": "stdout",
     "output_type": "stream",
     "text": [
      "Epoch 1/2\n",
<<<<<<< HEAD
      "37800/37800 [==============================] - 8038s 213ms/step - loss: 0.0330 - acc: 0.9898 - val_loss: 0.0197 - val_acc: 0.9950\n",
      "Epoch 2/2\n",
      "37800/37800 [==============================] - 8497s 225ms/step - loss: 0.0151 - acc: 0.9955 - val_loss: 0.0305 - val_acc: 0.9929\n"
=======
      "37800/37800 [==============================] - 3307s 87ms/step - loss: 0.0358 - acc: 0.9887 - val_loss: 0.0234 - val_acc: 0.9938\n",
      "Epoch 2/2\n",
      "37800/37800 [==============================] - 3294s 87ms/step - loss: 0.0147 - acc: 0.9954 - val_loss: 0.0202 - val_acc: 0.9943\n"
>>>>>>> a1f5acbaa00bc1b1e5fc3532ba19a013a271542c
     ]
    },
    {
     "data": {
      "text/plain": [
<<<<<<< HEAD
       "<keras.callbacks.History at 0x7f57d158d978>"
      ]
     },
     "execution_count": 23,
=======
       "<keras.callbacks.History at 0x7f7171ef2978>"
      ]
     },
     "execution_count": 22,
>>>>>>> a1f5acbaa00bc1b1e5fc3532ba19a013a271542c
     "metadata": {},
     "output_type": "execute_result"
    }
   ],
   "source": [
    "model.fit_generator(datagen.flow(X_train,y_train,batch_size=batch),epochs=epoch,validation_data=(X_cross,y_cross),steps_per_epoch=sp_epoch)"
   ]
  },
  {
   "cell_type": "markdown",
   "metadata": {},
   "source": [
    "## PREDICTION"
   ]
  },
  {
   "cell_type": "code",
<<<<<<< HEAD
   "execution_count": 24,
=======
   "execution_count": 23,
>>>>>>> a1f5acbaa00bc1b1e5fc3532ba19a013a271542c
   "metadata": {},
   "outputs": [
    {
     "name": "stdout",
     "output_type": "stream",
     "text": [
<<<<<<< HEAD
      "28000/28000 [==============================] - 21s 766us/step\n",
=======
      "28000/28000 [==============================] - 9s 338us/step\n",
>>>>>>> a1f5acbaa00bc1b1e5fc3532ba19a013a271542c
      "(28000,)\n"
     ]
    }
   ],
   "source": [
    "y_pred=model.predict_classes(X_test)\n",
    "print(y_pred.shape)"
   ]
  },
  {
   "cell_type": "markdown",
   "metadata": {},
   "source": [
    "## VISUALIZING THE TEST RESULTS"
   ]
  },
  {
   "cell_type": "markdown",
   "metadata": {},
   "source": [
    "Here we are visulizing the 20 random test images. The title of each image is the predicted label"
   ]
  },
  {
   "cell_type": "code",
<<<<<<< HEAD
   "execution_count": 25,
=======
   "execution_count": 24,
>>>>>>> a1f5acbaa00bc1b1e5fc3532ba19a013a271542c
   "metadata": {},
   "outputs": [
    {
     "data": {
<<<<<<< HEAD
      "image/png": "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\n",
      "text/plain": [
       "<matplotlib.figure.Figure at 0x7f57cfa6b828>"
=======
      "image/png": "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\n",
      "text/plain": [
       "<matplotlib.figure.Figure at 0x7f71e8488ba8>"
>>>>>>> a1f5acbaa00bc1b1e5fc3532ba19a013a271542c
      ]
     },
     "metadata": {},
     "output_type": "display_data"
    }
   ],
   "source": [
    "%matplotlib inline\n",
    "plt.figure(figsize=(12,10))\n",
    "\n",
    "z, x = 5,10\n",
    "for i in range(0,(z*x)):\n",
    "    plt.subplot(z, x, i+1)\n",
    "    k = np.random.randint(0,X_test.shape[0],1)[0]\n",
    "    show_image(X_test[k,:],(28,28), y_pred[k], cmp=\"gist_gray\")\n",
    "plt.show()"
   ]
  },
  {
   "cell_type": "code",
<<<<<<< HEAD
   "execution_count": 26,
=======
   "execution_count": 25,
>>>>>>> a1f5acbaa00bc1b1e5fc3532ba19a013a271542c
   "metadata": {},
   "outputs": [
    {
     "name": "stdout",
     "output_type": "stream",
     "text": [
      "[    1     2     3 ..., 27998 27999 28000] (28000,) <class 'numpy.ndarray'>\n"
     ]
    }
   ],
   "source": [
    "imageid=np.linspace(1,28000,28000).astype(int)\n",
    "print(imageid,imageid.shape,type(imageid))"
   ]
  },
  {
   "cell_type": "code",
<<<<<<< HEAD
   "execution_count": 27,
=======
   "execution_count": 26,
>>>>>>> a1f5acbaa00bc1b1e5fc3532ba19a013a271542c
   "metadata": {},
   "outputs": [
    {
     "data": {
      "text/html": [
       "<div>\n",
       "<style scoped>\n",
       "    .dataframe tbody tr th:only-of-type {\n",
       "        vertical-align: middle;\n",
       "    }\n",
       "\n",
       "    .dataframe tbody tr th {\n",
       "        vertical-align: top;\n",
       "    }\n",
       "\n",
       "    .dataframe thead th {\n",
       "        text-align: right;\n",
       "    }\n",
       "</style>\n",
       "<table border=\"1\" class=\"dataframe\">\n",
       "  <thead>\n",
       "    <tr style=\"text-align: right;\">\n",
       "      <th></th>\n",
       "      <th>ImageId</th>\n",
       "      <th>Label</th>\n",
       "    </tr>\n",
       "  </thead>\n",
       "  <tbody>\n",
       "    <tr>\n",
       "      <th>0</th>\n",
       "      <td>1</td>\n",
       "      <td>2</td>\n",
       "    </tr>\n",
       "    <tr>\n",
       "      <th>1</th>\n",
       "      <td>2</td>\n",
       "      <td>0</td>\n",
       "    </tr>\n",
       "    <tr>\n",
       "      <th>2</th>\n",
       "      <td>3</td>\n",
       "      <td>9</td>\n",
       "    </tr>\n",
       "    <tr>\n",
       "      <th>3</th>\n",
       "      <td>4</td>\n",
       "      <td>0</td>\n",
       "    </tr>\n",
       "    <tr>\n",
       "      <th>4</th>\n",
       "      <td>5</td>\n",
       "      <td>3</td>\n",
       "    </tr>\n",
       "    <tr>\n",
       "      <th>5</th>\n",
       "      <td>6</td>\n",
       "      <td>7</td>\n",
       "    </tr>\n",
       "    <tr>\n",
       "      <th>6</th>\n",
       "      <td>7</td>\n",
       "      <td>0</td>\n",
       "    </tr>\n",
       "    <tr>\n",
       "      <th>7</th>\n",
       "      <td>8</td>\n",
       "      <td>3</td>\n",
       "    </tr>\n",
       "    <tr>\n",
       "      <th>8</th>\n",
       "      <td>9</td>\n",
       "      <td>0</td>\n",
       "    </tr>\n",
       "    <tr>\n",
       "      <th>9</th>\n",
       "      <td>10</td>\n",
       "      <td>3</td>\n",
       "    </tr>\n",
       "  </tbody>\n",
       "</table>\n",
       "</div>"
      ],
      "text/plain": [
       "   ImageId  Label\n",
       "0        1      2\n",
       "1        2      0\n",
       "2        3      9\n",
       "3        4      0\n",
       "4        5      3\n",
       "5        6      7\n",
       "6        7      0\n",
       "7        8      3\n",
       "8        9      0\n",
       "9       10      3"
      ]
     },
<<<<<<< HEAD
     "execution_count": 27,
=======
     "execution_count": 26,
>>>>>>> a1f5acbaa00bc1b1e5fc3532ba19a013a271542c
     "metadata": {},
     "output_type": "execute_result"
    }
   ],
   "source": [
    "ans=pd.DataFrame({\n",
    "    \"ImageId\":imageid,\n",
    "    \"Label\":y_pred\n",
    "})\n",
    "ans.head(10)"
   ]
  },
  {
   "cell_type": "code",
<<<<<<< HEAD
   "execution_count": 28,
=======
   "execution_count": 27,
>>>>>>> a1f5acbaa00bc1b1e5fc3532ba19a013a271542c
   "metadata": {},
   "outputs": [
    {
     "name": "stdout",
     "output_type": "stream",
     "text": [
      "Done\n"
     ]
    }
   ],
   "source": [
<<<<<<< HEAD
    "ans.to_csv(\"CNN.csv\",index=False)                # got 99.514 accuracy.\n",
=======
    "ans.to_csv(\"CNN.csv\",index=False)                # got 99.483 accuracy.\n",
>>>>>>> a1f5acbaa00bc1b1e5fc3532ba19a013a271542c
    "print(\"Done\")   "
   ]
  }
 ],
 "metadata": {
  "kernelspec": {
   "display_name": "Python 3",
   "language": "python",
   "name": "python3"
  },
  "language_info": {
   "codemirror_mode": {
    "name": "ipython",
    "version": 3
   },
   "file_extension": ".py",
   "mimetype": "text/x-python",
   "name": "python",
   "nbconvert_exporter": "python",
   "pygments_lexer": "ipython3",
   "version": "3.6.3"
  }
 },
 "nbformat": 4,
 "nbformat_minor": 2
}
